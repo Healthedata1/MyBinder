{
 "cells": [
  {
   "cell_type": "markdown",
   "metadata": {},
   "source": [
    "## 4. <a id='4_cell'></a>Create Group using existing Da Vinci Alerts Data (from Synthea) and the PyFHIR models to...\n",
    "\n",
    "- create Group resources for discovery by:\n",
    "\n",
    "    1. all patients\n",
    "    1. all patients with managing org\n",
    "    1. practitioner characteristic\n",
    "    1. location characteristic\n",
    "    *TODO*\n",
    "    - *add narrative*\n",
    "    - *add Careteams and Careteam characteristics*\n",
    "    - *Create the Q/QR data using existing tools (SDC prepop if available?) and add extensions to resources*\n",
    "- Create transaction bundle of resources\n",
    "- Load to ref server\n",
    "- Fetching and...\n",
    "- Getting Additional data by:\n",
    "    1. FHIR RESTful queries on the:\n",
    "       - Patient\n",
    "       - Condition and\n",
    "       - Encounter resources\n",
    "      "
   ]
  },
  {
   "cell_type": "code",
   "execution_count": 1,
   "metadata": {},
   "outputs": [],
   "source": [
    "l = 'http://loinc.org'\n",
    "rt = 'http://argonautproject.org/patient-lists/CodeSystem/group-characteristic'\n",
    "group_characterstics = [\n",
    "(0,'location','Location/[id]',),\n",
    "(1,'practitioner','Practitioner/[id]',),\n",
    "(2,'organization','Organization/[id]',),\n",
    "(3,'team','CareTeam/[id]',),\n",
    "]\n",
    "\n",
    "#parameters = ['active']    #['all','practitioner','active','discharged','location','service']\n",
    "#timeframe = 'today' #[None,'today','tomorrow']\n",
    "#pl_use_case = '-'.join(parameters)\n",
    "#if timeframe:\n",
    "    #pl_use_case = f'{pl_use_case}-{timeframe}'\n",
    "#print(pl_use_case)"
   ]
  },
  {
   "cell_type": "markdown",
   "metadata": {},
   "source": [
    "### Create Group Instance for All Patients, One member for Each Row...\n",
    "\n",
    "1. initialize group resource and datatype instances\n",
    "1. iterate over each Patient in Bundle\n",
    "1. validate and save the resources in the reference server\n",
    "    tag them so can search more easily\n",
    "\n",
    "TODO\n",
    "1. option to create narrative using jinja2 templates (that is a topic for another notebook)\n",
    "1. create a new transaction Bundle with all the data (figure out sequence for encounters)"
   ]
  },
  {
   "cell_type": "markdown",
   "metadata": {},
   "source": [
    "### import all the modules you need"
   ]
  },
  {
   "cell_type": "code",
   "execution_count": 2,
   "metadata": {},
   "outputs": [],
   "source": [
    "import os, sys\n",
    "module_path = os.path.abspath(os.path.join('..'))\n",
    "if module_path not in sys.path:\n",
    "    sys.path.append(module_path)\n",
    "# This allows you to import the desired function from the module hierarchy:\n",
    "from pyFHIR_models.fhir_model_generator.model import (\n",
    "                                            fhirdate,\n",
    "                                            fhirreference,\n",
    "                                            group,\n",
    "                                            patient,\n",
    "                                            organization,\n",
    "                                            bundle,\n",
    "                                            identifier,\n",
    "                                            humanname,\n",
    "                                            contactpoint,\n",
    "                                            address,\n",
    "                                            codeableconcept,\n",
    "                                            coding,\n",
    "                                             )\n",
    "from json import loads, dumps\n",
    "#from requests import get, post, put\n",
    "from datetime import datetime, date, timedelta\n",
    "from IPython.display import display as Display, HTML, Markdown\n",
    "from utils import bundle_me, to_json, to_yaml, get_id, load_transaction, validate\n",
    "from pathlib import Path\n",
    "#from pprint import pprint, pformat\n",
    "from nested_lookup import nested_lookup"
   ]
  },
  {
   "cell_type": "markdown",
   "metadata": {},
   "source": [
    "### Globals\n",
    "\n",
    "'pl_use_case':\n",
    "\n",
    "|value|what it does|\n",
    "|---|---|\n",
    "|all| create Group with no characterisitics|\n",
    "|location| create Group with location characteristic|\n",
    "|practitioner| create Group with practitioner characteristic|\n"
   ]
  },
  {
   "cell_type": "code",
   "execution_count": 3,
   "metadata": {},
   "outputs": [],
   "source": [
    "chars = dict(\n",
    "#all = None,\n",
    "location = 'location.location',\n",
    "practitioner = 'participant.individual',\n",
    ")\n",
    "\n",
    "example_series = dict(\n",
    "all = 100,\n",
    "location = 200,\n",
    "practitioner = 300,\n",
    ")\n",
    "\n",
    "#pl_use_case = \"location\"\n",
    "pl_use_case = \"practitioner\"\n",
    "#pl_use_case = \"all\"\n",
    "\n",
    "char_system = 'http://argonautproject.org/patient-lists/CodeSystem/group-characteristic'"
   ]
  },
  {
   "cell_type": "markdown",
   "metadata": {},
   "source": [
    "## Functions"
   ]
  },
  {
   "cell_type": "markdown",
   "metadata": {},
   "source": [
    "### Initialize the Group Resource\n",
    "\n",
    "  - add tag \"2020-Sep\" to bundle so can fetch for Connectathon"
   ]
  },
  {
   "cell_type": "code",
   "execution_count": 4,
   "metadata": {},
   "outputs": [],
   "source": [
    "def create_new_group(counter):\n",
    "    my_id = f'argo-pl-group-{pl_use_case}-{counter}'\n",
    "    my_meta = dict(\n",
    "        source = \"Health_eData_Inc\",\n",
    "        tag = [{'code': '2020-Sep'}],\n",
    "        lastUpdated= f'{datetime.now().isoformat()}Z'\n",
    "        )\n",
    "\n",
    "    my_identifier = dict(\n",
    "            value = my_id,\n",
    "            system = \"http://example.org/fhir/identifiers\",\n",
    "            )\n",
    "\n",
    "    my_g = group.Group(\n",
    "            dict(\n",
    "                meta = my_meta,\n",
    "                id = my_id,\n",
    "                type = 'person',\n",
    "                actual = True,\n",
    "                name = f'Argo Patient List \"{pl_use_case}\" Use Case',\n",
    "                active = True,\n",
    "                identifier = [my_identifier],\n",
    "                #quantity = df.shape[0],         \n",
    "            )\n",
    "    ) # initialize group instance\n",
    "\n",
    "    #print(to_yaml(my_g))\n",
    "    return my_g"
   ]
  },
  {
   "cell_type": "markdown",
   "metadata": {},
   "source": [
    "### add managingEntity element and a A Single Group Characteristic\n",
    "\n",
    "#### add the managingEntity element - i.e. the Organization that created the group.\n",
    " - note there are no managing Org on these patients. so for this data set we impute the organization from the the encounter to tell us which organization the patient list go with.\n",
    "   (This is an issue that is system dependent only they know)\n",
    "- use nested lookup to extract the Me from encounter\n",
    "- use FHIR references for now ( may need to switch back to urns for bundling)\n",
    "\n",
    "#### Add A Single Group Characteristic\n",
    "\n",
    "- based on Encounter add Location and Practitioner to start \n",
    "- TODO add Organization and CareTeam when define these resources ( what does Organization mean?)\n",
    "- create a function and run through the parameters to build the element"
   ]
  },
  {
   "cell_type": "code",
   "execution_count": 5,
   "metadata": {},
   "outputs": [
    {
     "name": "stdout",
     "output_type": "stream",
     "text": [
      "reference: urn:uuid:a9f20dc1-5147-3789-bcef-bbecb41c5983\n",
      "display: HOLY FAMILY HOSPITAL\n",
      "\n",
      "reference: urn:uuid:b1ddf812-1fdd-3adf-b1d5-32cc8bd07ebb\n",
      "display: BETH ISRAEL DEACONESS HOSPITAL - PLYMOUTH\n",
      "\n",
      "reference: urn:uuid:db0acede-4abe-3c01-8d03-5c68a190d8c7\n",
      "display: SOUTH SHORE HOSPITAL\n",
      "\n"
     ]
    }
   ],
   "source": [
    "base_path = '/Users/ehaas/Documents/FHIR/Davinci-Alerts/2020_09_hl7_connectathon/Synthea_Alert_Test_Data'\n",
    "\n",
    "file_type = 'fhir'\n",
    "#file_type = 'csv'\n",
    "\n",
    "\n",
    "file_size = '3Patients'\n",
    "#file_size = '100Patients'\n",
    "\n",
    "file = 'admit_notify-2.json'\n",
    "#file = 'admit_notify-100.json'\n",
    "\n",
    "mypath = Path() / base_path / file_type / file_size\n",
    "\n",
    "#print(mypath)\n",
    "\n",
    "json_bundles = []\n",
    "for f in mypath.iterdir():\n",
    "    #print(type(f), f)\n",
    "    json_bundles.append(f.read_text())\n",
    "\n",
    "\n",
    "my_groups = []\n",
    "my_bundle = bundle.Bundle(loads(json_bundles[2])) # 2 contains all the Patient information\n",
    "my_refs = [r.resource.serviceProvider for r in my_bundle.entry if r.resource.resource_type == \"Encounter\"]\n",
    "for i in my_refs:\n",
    "  print(to_yaml(i))\n",
    "#my_refs = my_refs['serviceProvider']\n",
    "my_refs = [fhirreference.FHIRReference(dict(t)) for t in {tuple(d.as_json().items()) for d in my_refs}] #deduplicates"
   ]
  },
  {
   "cell_type": "code",
   "execution_count": 6,
   "metadata": {},
   "outputs": [
    {
     "name": "stdout",
     "output_type": "stream",
     "text": [
      "participant.individual\n",
      "participant\n",
      "individual\n",
      "FHIRReference(id=None, extension=None, reference='urn:uuid:0000016f-57cb-cdac-0000-00000000019a', type=None, display='Dr. Raina861 Willms744')\n",
      "participant.individual\n",
      "participant\n",
      "individual\n",
      "FHIRReference(id=None, extension=None, reference='urn:uuid:0000016f-57cb-cdac-0000-0000000000dc', type=None, display='Dr. Tommy814 Schmeler639')\n",
      "participant.individual\n",
      "participant\n",
      "individual\n",
      "FHIRReference(id=None, extension=None, reference='urn:uuid:0000016f-57cb-cdac-0000-00000000014a', type=None, display='Dr. Janeth814 Jakubowski832')\n",
      "resourceType: Group\n",
      "id: argo-pl-group-practitioner-300\n",
      "meta:\n",
      "  lastUpdated: '2020-09-24T13:34:47.560130Z'\n",
      "  source: Health_eData_Inc\n",
      "  tag:\n",
      "  - code: 2020-Sep\n",
      "identifier:\n",
      "- system: http://example.org/fhir/identifiers\n",
      "  value: argo-pl-group-practitioner-300\n",
      "active: true\n",
      "type: person\n",
      "actual: true\n",
      "name: Argo Patient List \"practitioner\" Use Case\n",
      "managingEntity:\n",
      "  reference: Organization/db0acede-4abe-3c01-8d03-5c68a190d8c7\n",
      "  display: SOUTH SHORE HOSPITAL\n",
      "characteristic:\n",
      "- code:\n",
      "    coding:\n",
      "    - system: http://argonautproject.org/patient-lists/CodeSystem/group-characteristic\n",
      "      code: practitioner\n",
      "      display: Practitioner\n",
      "  valueReference:\n",
      "    reference: participant.individual/0000016f-57cb-cdac-0000-00000000019a\n",
      "    display: Dr. Raina861 Willms744\n",
      "  exclude: false\n",
      "\n",
      "resourceType: Group\n",
      "id: argo-pl-group-practitioner-301\n",
      "meta:\n",
      "  lastUpdated: '2020-09-24T13:34:47.562869Z'\n",
      "  source: Health_eData_Inc\n",
      "  tag:\n",
      "  - code: 2020-Sep\n",
      "identifier:\n",
      "- system: http://example.org/fhir/identifiers\n",
      "  value: argo-pl-group-practitioner-301\n",
      "active: true\n",
      "type: person\n",
      "actual: true\n",
      "name: Argo Patient List \"practitioner\" Use Case\n",
      "managingEntity:\n",
      "  reference: Organization/b1ddf812-1fdd-3adf-b1d5-32cc8bd07ebb\n",
      "  display: BETH ISRAEL DEACONESS HOSPITAL - PLYMOUTH\n",
      "characteristic:\n",
      "- code:\n",
      "    coding:\n",
      "    - system: http://argonautproject.org/patient-lists/CodeSystem/group-characteristic\n",
      "      code: practitioner\n",
      "      display: Practitioner\n",
      "  valueReference:\n",
      "    reference: participant.individual/0000016f-57cb-cdac-0000-0000000000dc\n",
      "    display: Dr. Tommy814 Schmeler639\n",
      "  exclude: false\n",
      "\n",
      "resourceType: Group\n",
      "id: argo-pl-group-practitioner-302\n",
      "meta:\n",
      "  lastUpdated: '2020-09-24T13:34:47.565210Z'\n",
      "  source: Health_eData_Inc\n",
      "  tag:\n",
      "  - code: 2020-Sep\n",
      "identifier:\n",
      "- system: http://example.org/fhir/identifiers\n",
      "  value: argo-pl-group-practitioner-302\n",
      "active: true\n",
      "type: person\n",
      "actual: true\n",
      "name: Argo Patient List \"practitioner\" Use Case\n",
      "managingEntity:\n",
      "  reference: Organization/a9f20dc1-5147-3789-bcef-bbecb41c5983\n",
      "  display: HOLY FAMILY HOSPITAL\n",
      "characteristic:\n",
      "- code:\n",
      "    coding:\n",
      "    - system: http://argonautproject.org/patient-lists/CodeSystem/group-characteristic\n",
      "      code: practitioner\n",
      "      display: Practitioner\n",
      "  valueReference:\n",
      "    reference: participant.individual/0000016f-57cb-cdac-0000-00000000014a\n",
      "    display: Dr. Janeth814 Jakubowski832\n",
      "  exclude: false\n",
      "\n"
     ]
    }
   ],
   "source": [
    "my_groups = []\n",
    "\n",
    "\n",
    "def get_my_chars():  #  get reference based on dot notation string\n",
    "    my_chars = []\n",
    "    print(chars[pl_use_case])\n",
    "    for i in my_bundle.entry:\n",
    "        r = i.resource\n",
    "        if r.resource_type == \"Encounter\" and get_id(r.serviceProvider) == get_id(me):\n",
    "            #print(f'r.serviceProvider.reference == {get_id(r.serviceProvider)} /n me.reference = {get_id(me)}')\n",
    "            e = r\n",
    "            \n",
    "            for j in chars[pl_use_case].split(\".\"):  # creat a util for this nested getattr\n",
    "                print(j)\n",
    "                try:\n",
    "                    e = getattr(e,j)\n",
    "                except AttributeError:  # maybe a list so try getting the first element of list\n",
    "                    e = getattr(e[0],j)\n",
    "            print(e)\n",
    "            my_chars.append(e)\n",
    "    #print(my_chars)\n",
    "    return my_chars\n",
    "                \n",
    "\n",
    "def add_me():  #Add the managingEntity\n",
    "    me.reference = f'Organization/{get_id(me)}'\n",
    "    #print(to_yaml(me))\n",
    "    my_g.managingEntity = me\n",
    "    \n",
    "    \n",
    "def add_char(): #Add A Single Group Characteristic\n",
    "    char.reference = f'{chars[pl_use_case]}/{get_id(char)}'\n",
    "    #print(to_yaml(me))\n",
    "    my_g.characteristic = []\n",
    "    my_char = group.GroupCharacteristic()\n",
    "    my_char.code = codeableconcept.CodeableConcept()\n",
    "    my_char.code.coding = [coding.Coding()]\n",
    "    my_char.code.coding[0].code = pl_use_case\n",
    "    my_char.code.coding[0].display = pl_use_case.capitalize()\n",
    "    my_char.code.coding[0].system = char_system\n",
    "    my_char.valueReference = char\n",
    "    my_char.exclude = False\n",
    "    my_g.characteristic.append(my_char)\n",
    "    \n",
    "    \n",
    "def counter():\n",
    "     if file_size == '3Patients':\n",
    "        return len(my_groups) + example_series[pl_use_case]\n",
    "     else:\n",
    "        return len(my_groups) + example_series[pl_use_case]*10\n",
    "\n",
    "    \n",
    "for me in my_refs:\n",
    "    \n",
    "    if pl_use_case in chars.keys():\n",
    "        my_chars = get_my_chars() # get all chars for me \n",
    "        #print(my_chars)\n",
    "        for char in my_chars:\n",
    "            my_g = create_new_group(counter())\n",
    "            add_me()\n",
    "            add_char()\n",
    "            my_groups.append(my_g)\n",
    "\n",
    "    else: \n",
    "\n",
    "        my_g = create_new_group(counter())\n",
    "        add_me()\n",
    "\n",
    "        my_groups.append(my_g)\n",
    "\n",
    "    \n",
    "my_members = {k.id:set() for k in my_groups}     # to index members and prevent dupes\n",
    "for i in my_groups:\n",
    "    print(to_yaml(i))"
   ]
  },
  {
   "cell_type": "markdown",
   "metadata": {},
   "source": [
    "### Add  A Single Group Characteristic\n",
    "\n",
    "- based on Encounter add Location and Practitioner to start \n",
    "- TODO add Organization and CareTeam when define these resources ( what does Organization mean?)\n",
    "- create a function and run through the parameters to build the element"
   ]
  },
  {
   "cell_type": "markdown",
   "metadata": {},
   "source": [
    "### Add the Group Members from Bundle for Each ManagingEntity\n",
    "\n",
    "- Fetch Bundle from local dir\n",
    "- get Patient Ids for each organization\n",
    "  - note there are no managing Org on these patients. so for this data set we impute the organization from the the encounter to tell us which organization the patient list go with.\n",
    "   (This is an issue that is system dependent only they know)\n",
    "   cycle through all encounters to get all patients for each ME"
   ]
  },
  {
   "cell_type": "code",
   "execution_count": 7,
   "metadata": {},
   "outputs": [
    {
     "name": "stdout",
     "output_type": "stream",
     "text": [
      "6 : Encounter urn:uuid:5fe62cd5-bfcf-4d3b-a1e9-80d6f75d6f82 BundleEntryRequest(id=None, extension=None, method='PUT', url='Encounter/5fe62cd5-bfcf-4d3b-a1e9-80d6f75d6f82', ifNoneMatch=None, ifModifiedSince=None, ifMatch=None, ifNoneExist=None)\n",
      "13 : Encounter urn:uuid:542f9e32-4309-4277-81ce-12419f0d1294 BundleEntryRequest(id=None, extension=None, method='PUT', url='Encounter/542f9e32-4309-4277-81ce-12419f0d1294', ifNoneMatch=None, ifModifiedSince=None, ifMatch=None, ifNoneExist=None)\n",
      "20 : Encounter urn:uuid:02ba9ec6-0712-4715-8ba4-5485fc571403 BundleEntryRequest(id=None, extension=None, method='PUT', url='Encounter/02ba9ec6-0712-4715-8ba4-5485fc571403', ifNoneMatch=None, ifModifiedSince=None, ifMatch=None, ifNoneExist=None)\n"
     ]
    },
    {
     "data": {
      "text/html": [
       "<h1>GROUP RESOURCE AS YAML</h1>"
      ],
      "text/plain": [
       "<IPython.core.display.HTML object>"
      ]
     },
     "metadata": {},
     "output_type": "display_data"
    },
    {
     "data": {
      "text/html": [
       "<pre style=\"color: blue; background-color: AliceBlue;\">resourceType: Group\n",
       "id: argo-pl-group-practitioner-300\n",
       "meta:\n",
       "  lastUpdated: '2020-09-24T13:34:47.560130Z'\n",
       "  source: Health_eData_Inc\n",
       "  tag:\n",
       "  - code: 2020-Sep\n",
       "identifier:\n",
       "- system: http://example.org/fhir/identifiers\n",
       "  value: argo-pl-group-practitioner-300\n",
       "active: true\n",
       "type: person\n",
       "actual: true\n",
       "name: Argo Patient List \"practitioner\" Use Case\n",
       "managingEntity:\n",
       "  reference: Organization/db0acede-4abe-3c01-8d03-5c68a190d8c7\n",
       "  display: SOUTH SHORE HOSPITAL\n",
       "characteristic:\n",
       "- code:\n",
       "    coding:\n",
       "    - system: http://argonautproject.org/patient-lists/CodeSystem/group-characteristic\n",
       "      code: practitioner\n",
       "      display: Practitioner\n",
       "  valueReference:\n",
       "    reference: participant.individual/0000016f-57cb-cdac-0000-00000000019a\n",
       "    display: Dr. Raina861 Willms744\n",
       "  exclude: false\n",
       "member:\n",
       "- entity:\n",
       "    reference: Patient/aad0894e-47f4-4ffc-8fab-8fe5487110d2\n",
       "    display: Ms. Jama227 Corwin846\n",
       "  period:\n",
       "    start: '2020-09-24'\n",
       "  inactive: false\n",
       "</pre>"
      ],
      "text/plain": [
       "<IPython.core.display.HTML object>"
      ]
     },
     "metadata": {},
     "output_type": "display_data"
    },
    {
     "data": {
      "text/html": [
       "...validating...&#9203;"
      ],
      "text/plain": [
       "<IPython.core.display.HTML object>"
      ]
     },
     "metadata": {},
     "output_type": "display_data"
    },
    {
     "data": {
      "text/html": [
       "<h2>Validation output</h1><h2>Status Code = 200</h3> <div xmlns=\"http://www.w3.org/1999/xhtml\"><h1>Operation Outcome</h1><table border=\"0\"><tr><td style=\"font-weight: bold;\">WARNING</td><td>[Group, Line 1, Col 2]</td><td><pre>dom-6: A resource should have narrative for robust management [text.div.exists()]</pre></td>\n",
       "\t\t\t\t\t\n",
       "\t\t\t\t\n",
       "\t\t\t</tr>\n",
       "\t\t\t<tr>\n",
       "\t\t\t\t<td style=\"font-weight: bold;\">WARNING</td>\n",
       "\t\t\t\t<td>[Group.meta.tag[0], Line 8, Col 8]</td>\n",
       "\t\t\t\t\n",
       "\t\t\t\t\t\n",
       "\t\t\t\t\t\n",
       "\t\t\t\t\t\t<td><pre>A code with no system has no defined meaning. A system should be provided</pre></td>\n",
       "\t\t\t\t\t\n",
       "\t\t\t\t\n",
       "\t\t\t</tr>\n",
       "\t\t\t<tr>\n",
       "\t\t\t\t<td style=\"font-weight: bold;\">INFORMATION</td>\n",
       "\t\t\t\t<td>[Group.characteristic[0].code, Line 30, Col 20]</td>\n",
       "\t\t\t\t\n",
       "\t\t\t\t\t\n",
       "\t\t\t\t\t\n",
       "\t\t\t\t\t\t<td><pre>Binding for path Group.characteristic[0].code has no source, so can't be checked</pre></td>\n",
       "\t\t\t\t\t\n",
       "\t\t\t\t\n",
       "\t\t\t</tr>\n",
       "\t\t\t<tr>\n",
       "\t\t\t\t<td style=\"font-weight: bold;\">INFORMATION</td>\n",
       "\t\t\t\t<td>[Group.member[0].entity, Line 48, Col 69]</td>\n",
       "\t\t\t\t\n",
       "\t\t\t\t\t\n",
       "\t\t\t\t\t\n",
       "\t\t\t\t\t\t<td><pre>Details for Patient/06e1f0dd-5fbe-4480-9bb4-6b54ec02d31b matching against Profilehttp://hl7.org/fhir/StructureDefinition/Patient</pre></td>\n",
       "\t\t\t\t\t\n",
       "\t\t\t\t\n",
       "\t\t\t</tr>\n",
       "\t\t</table>\n",
       "\t</div> <hr><hr>"
      ],
      "text/plain": [
       "<IPython.core.display.HTML object>"
      ]
     },
     "metadata": {},
     "output_type": "display_data"
    },
    {
     "data": {
      "text/html": [
       "<h1>GROUP RESOURCE AS YAML</h1>"
      ],
      "text/plain": [
       "<IPython.core.display.HTML object>"
      ]
     },
     "metadata": {},
     "output_type": "display_data"
    },
    {
     "data": {
      "text/html": [
       "<pre style=\"color: blue; background-color: AliceBlue;\">resourceType: Group\n",
       "id: argo-pl-group-practitioner-301\n",
       "meta:\n",
       "  lastUpdated: '2020-09-24T13:34:47.562869Z'\n",
       "  source: Health_eData_Inc\n",
       "  tag:\n",
       "  - code: 2020-Sep\n",
       "identifier:\n",
       "- system: http://example.org/fhir/identifiers\n",
       "  value: argo-pl-group-practitioner-301\n",
       "active: true\n",
       "type: person\n",
       "actual: true\n",
       "name: Argo Patient List \"practitioner\" Use Case\n",
       "managingEntity:\n",
       "  reference: Organization/b1ddf812-1fdd-3adf-b1d5-32cc8bd07ebb\n",
       "  display: BETH ISRAEL DEACONESS HOSPITAL - PLYMOUTH\n",
       "characteristic:\n",
       "- code:\n",
       "    coding:\n",
       "    - system: http://argonautproject.org/patient-lists/CodeSystem/group-characteristic\n",
       "      code: practitioner\n",
       "      display: Practitioner\n",
       "  valueReference:\n",
       "    reference: participant.individual/0000016f-57cb-cdac-0000-0000000000dc\n",
       "    display: Dr. Tommy814 Schmeler639\n",
       "  exclude: false\n",
       "member:\n",
       "- entity:\n",
       "    reference: Patient/b1cf5f57-b061-4b7f-aa9d-6283a121694b\n",
       "    display: Mr. Garland107 Conn188\n",
       "  period:\n",
       "    start: '2020-09-24'\n",
       "  inactive: false\n",
       "</pre>"
      ],
      "text/plain": [
       "<IPython.core.display.HTML object>"
      ]
     },
     "metadata": {},
     "output_type": "display_data"
    },
    {
     "data": {
      "text/html": [
       "...validating...&#9203;"
      ],
      "text/plain": [
       "<IPython.core.display.HTML object>"
      ]
     },
     "metadata": {},
     "output_type": "display_data"
    },
    {
     "data": {
      "text/html": [
       "<h2>Validation output</h1><h2>Status Code = 200</h3> <div xmlns=\"http://www.w3.org/1999/xhtml\"><h1>Operation Outcome</h1><table border=\"0\"><tr><td style=\"font-weight: bold;\">WARNING</td><td>[Group, Line 1, Col 2]</td><td><pre>dom-6: A resource should have narrative for robust management [text.div.exists()]</pre></td>\n",
       "\t\t\t\t\t\n",
       "\t\t\t\t\n",
       "\t\t\t</tr>\n",
       "\t\t\t<tr>\n",
       "\t\t\t\t<td style=\"font-weight: bold;\">WARNING</td>\n",
       "\t\t\t\t<td>[Group.meta.tag[0], Line 8, Col 8]</td>\n",
       "\t\t\t\t\n",
       "\t\t\t\t\t\n",
       "\t\t\t\t\t\n",
       "\t\t\t\t\t\t<td><pre>A code with no system has no defined meaning. A system should be provided</pre></td>\n",
       "\t\t\t\t\t\n",
       "\t\t\t\t\n",
       "\t\t\t</tr>\n",
       "\t\t\t<tr>\n",
       "\t\t\t\t<td style=\"font-weight: bold;\">INFORMATION</td>\n",
       "\t\t\t\t<td>[Group.characteristic[0].code, Line 30, Col 20]</td>\n",
       "\t\t\t\t\n",
       "\t\t\t\t\t\n",
       "\t\t\t\t\t\n",
       "\t\t\t\t\t\t<td><pre>Binding for path Group.characteristic[0].code has no source, so can't be checked</pre></td>\n",
       "\t\t\t\t\t\n",
       "\t\t\t\t\n",
       "\t\t\t</tr>\n",
       "\t\t\t<tr>\n",
       "\t\t\t\t<td style=\"font-weight: bold;\">INFORMATION</td>\n",
       "\t\t\t\t<td>[Group.member[0].entity, Line 48, Col 69]</td>\n",
       "\t\t\t\t\n",
       "\t\t\t\t\t\n",
       "\t\t\t\t\t\n",
       "\t\t\t\t\t\t<td><pre>Details for Patient/06e1f0dd-5fbe-4480-9bb4-6b54ec02d31b matching against Profilehttp://hl7.org/fhir/StructureDefinition/Patient</pre></td>\n",
       "\t\t\t\t\t\n",
       "\t\t\t\t\n",
       "\t\t\t</tr>\n",
       "\t\t</table>\n",
       "\t</div> <hr><hr>"
      ],
      "text/plain": [
       "<IPython.core.display.HTML object>"
      ]
     },
     "metadata": {},
     "output_type": "display_data"
    },
    {
     "data": {
      "text/html": [
       "<h1>GROUP RESOURCE AS YAML</h1>"
      ],
      "text/plain": [
       "<IPython.core.display.HTML object>"
      ]
     },
     "metadata": {},
     "output_type": "display_data"
    },
    {
     "data": {
      "text/html": [
       "<pre style=\"color: blue; background-color: AliceBlue;\">resourceType: Group\n",
       "id: argo-pl-group-practitioner-302\n",
       "meta:\n",
       "  lastUpdated: '2020-09-24T13:34:47.565210Z'\n",
       "  source: Health_eData_Inc\n",
       "  tag:\n",
       "  - code: 2020-Sep\n",
       "identifier:\n",
       "- system: http://example.org/fhir/identifiers\n",
       "  value: argo-pl-group-practitioner-302\n",
       "active: true\n",
       "type: person\n",
       "actual: true\n",
       "name: Argo Patient List \"practitioner\" Use Case\n",
       "managingEntity:\n",
       "  reference: Organization/a9f20dc1-5147-3789-bcef-bbecb41c5983\n",
       "  display: HOLY FAMILY HOSPITAL\n",
       "characteristic:\n",
       "- code:\n",
       "    coding:\n",
       "    - system: http://argonautproject.org/patient-lists/CodeSystem/group-characteristic\n",
       "      code: practitioner\n",
       "      display: Practitioner\n",
       "  valueReference:\n",
       "    reference: participant.individual/0000016f-57cb-cdac-0000-00000000014a\n",
       "    display: Dr. Janeth814 Jakubowski832\n",
       "  exclude: false\n",
       "member:\n",
       "- entity:\n",
       "    reference: Patient/06e1f0dd-5fbe-4480-9bb4-6b54ec02d31b\n",
       "    display: Mr. Elden718 Halvorson124\n",
       "  period:\n",
       "    start: '2020-09-24'\n",
       "  inactive: false\n",
       "</pre>"
      ],
      "text/plain": [
       "<IPython.core.display.HTML object>"
      ]
     },
     "metadata": {},
     "output_type": "display_data"
    },
    {
     "data": {
      "text/html": [
       "...validating...&#9203;"
      ],
      "text/plain": [
       "<IPython.core.display.HTML object>"
      ]
     },
     "metadata": {},
     "output_type": "display_data"
    },
    {
     "data": {
      "text/html": [
       "<h2>Validation output</h1><h2>Status Code = 200</h3> <div xmlns=\"http://www.w3.org/1999/xhtml\"><h1>Operation Outcome</h1><table border=\"0\"><tr><td style=\"font-weight: bold;\">WARNING</td><td>[Group, Line 1, Col 2]</td><td><pre>dom-6: A resource should have narrative for robust management [text.div.exists()]</pre></td>\n",
       "\t\t\t\t\t\n",
       "\t\t\t\t\n",
       "\t\t\t</tr>\n",
       "\t\t\t<tr>\n",
       "\t\t\t\t<td style=\"font-weight: bold;\">WARNING</td>\n",
       "\t\t\t\t<td>[Group.meta.tag[0], Line 8, Col 8]</td>\n",
       "\t\t\t\t\n",
       "\t\t\t\t\t\n",
       "\t\t\t\t\t\n",
       "\t\t\t\t\t\t<td><pre>A code with no system has no defined meaning. A system should be provided</pre></td>\n",
       "\t\t\t\t\t\n",
       "\t\t\t\t\n",
       "\t\t\t</tr>\n",
       "\t\t\t<tr>\n",
       "\t\t\t\t<td style=\"font-weight: bold;\">INFORMATION</td>\n",
       "\t\t\t\t<td>[Group.characteristic[0].code, Line 30, Col 20]</td>\n",
       "\t\t\t\t\n",
       "\t\t\t\t\t\n",
       "\t\t\t\t\t\n",
       "\t\t\t\t\t\t<td><pre>Binding for path Group.characteristic[0].code has no source, so can't be checked</pre></td>\n",
       "\t\t\t\t\t\n",
       "\t\t\t\t\n",
       "\t\t\t</tr>\n",
       "\t\t\t<tr>\n",
       "\t\t\t\t<td style=\"font-weight: bold;\">INFORMATION</td>\n",
       "\t\t\t\t<td>[Group.member[0].entity, Line 48, Col 69]</td>\n",
       "\t\t\t\t\n",
       "\t\t\t\t\t\n",
       "\t\t\t\t\t\n",
       "\t\t\t\t\t\t<td><pre>Details for Patient/06e1f0dd-5fbe-4480-9bb4-6b54ec02d31b matching against Profilehttp://hl7.org/fhir/StructureDefinition/Patient</pre></td>\n",
       "\t\t\t\t\t\n",
       "\t\t\t\t\n",
       "\t\t\t</tr>\n",
       "\t\t</table>\n",
       "\t</div> <hr><hr>"
      ],
      "text/plain": [
       "<IPython.core.display.HTML object>"
      ]
     },
     "metadata": {},
     "output_type": "display_data"
    }
   ],
   "source": [
    "#print(my_members)\n",
    "my_bundle = bundle.Bundle(loads(json_bundles[2])) # 2 contains all the Patient information\n",
    "for count, i in enumerate(my_bundle.entry):\n",
    "    pyfhir = i.resource\n",
    "    if pyfhir.resource_type == \"Encounter\":\n",
    "        print(count,':',pyfhir.resource_type ,i.fullUrl, i.request ) \n",
    "        sp_id = get_id(pyfhir.serviceProvider)\n",
    "        my_su = dict(\n",
    "            reference = f\"Patient/{get_id(pyfhir.subject)}\",\n",
    "            display = f\"{pyfhir.subject.display}\",\n",
    "            )\n",
    "        my_member = group.GroupMember(\n",
    "            dict(\n",
    "                entity = my_su,\n",
    "                period = {'start': str(date.today())},\n",
    "                inactive = False,\n",
    "                )\n",
    "            )\n",
    "        # itereate through the groups an append to Group with ME == ServiceProvider maintain  a set for each group\n",
    "        for g in my_groups:\n",
    "            me_id =  get_id(g.managingEntity)\n",
    "            #print(f'my_member.entity.reference ={my_member.entity.reference}')\n",
    "            if me_id == sp_id and my_member.entity.reference not in my_members[g.id]:\n",
    "                try:\n",
    "                    g.member.append(my_member)\n",
    "                except AttributeError:\n",
    "                    g.member=[my_member]\n",
    "                my_members[g.id].add(my_member.entity.reference)     \n",
    "for i in my_groups:\n",
    "    display(HTML('<h1>GROUP RESOURCE AS YAML</h1>'))\n",
    "    display(HTML(f'<pre style=\"color: blue; background-color: AliceBlue;\">{to_yaml(i)}</pre>'))\n",
    "    display(HTML('...validating...&#9203;'))\n",
    "    r = validate(my_g)\n",
    "    display(HTML(f'<h2>Validation output</h1><h2>Status Code = {r.status_code}</h3> {r.json()[\"text\"][\"div\"]} <hr><hr>'))"
   ]
  },
  {
   "cell_type": "markdown",
   "metadata": {},
   "source": [
    "### Bundle into Transaction/Validate/Save/Load to ref FHIR Server\n",
    "\n",
    "- Create Transaction bundle using PUT to preserve ids\n",
    "- Use static example organization from US Core\n",
    "\n",
    "  "
   ]
  },
  {
   "cell_type": "code",
   "execution_count": null,
   "metadata": {},
   "outputs": [],
   "source": [
    "my_b = None\n",
    "display(HTML('......Bundle into transaction...... &#9203;'))\n",
    "test_server = 'http://test.fhir.org/r4'\n",
    "for g in my_groups:\n",
    "    try:\n",
    "        my_b = bundle_me(test_server, g, my_b)\n",
    "    except NameError:\n",
    "        my_b = bundle_me(test_server, g)\n",
    "\n",
    "display(HTML('<h1>BUNDLE RESOURCE AS YAML</h1>'))\n",
    "display(HTML(f'<pre style=\"color: blue; background-color: AliceBlue;\">{to_yaml(my_b)}</pre>'))\n",
    "display(HTML('...validating...&#9203;'))\n",
    "r = validate(my_b)\n",
    "display(HTML(f'<h2>Validation output</h1><h2>Status Code = {r.status_code}</h3> {r.json()[\"text\"][\"div\"]} <hr><hr>'))"
   ]
  },
  {
   "cell_type": "markdown",
   "metadata": {},
   "source": [
    "### Write to File"
   ]
  },
  {
   "cell_type": "code",
   "execution_count": null,
   "metadata": {},
   "outputs": [],
   "source": [
    "file_name = f'argo-pl-{pl_use_case}-{my_b.id}.json'\n",
    "\n",
    "my_path = Path.cwd()/ 'test_out' / file_name\n",
    "display(HTML(f'&#9203...writing bundle resource as json file  to {my_path}... '))\n",
    "my_path.write_text(to_json(my_b))\n",
    "\n",
    "\n",
    "display(HTML(f'&#8987; Done!!!'))"
   ]
  },
  {
   "cell_type": "markdown",
   "metadata": {},
   "source": [
    "### Post to Test Server"
   ]
  },
  {
   "cell_type": "code",
   "execution_count": null,
   "metadata": {},
   "outputs": [],
   "source": [
    "r = load_transaction(my_b)\n",
    "try:\n",
    "    display(HTML(\n",
    "        '<h1>Post Response</h1>'\n",
    "        f'<h3>Status Code = {r.status_code}</h3><br />'\n",
    "        f'<pre>Response Headers: {dumps(dict(r.headers), indent=4)}</pre>'\n",
    "        f'<em>Resource Narrative</em>: {r.json()[\"text\"][\"div\"]}'\n",
    "        '===============================================<br /><br /><br />'\n",
    "        ))\n",
    "except KeyError:\n",
    "    display(HTML(\n",
    "        '<h1>Post Response</h1>'\n",
    "        f'<h3>Status Code = {r.status_code}</h3><br />'\n",
    "        f'<pre>Response Headers: {dumps(dict(r.headers), indent=4)}</pre>'\n",
    "        #f'<em>Resource Narrative</em>: {r.json()[\"text\"][\"div\"]}'\n",
    "        '===============================================<br /><br /><br />'\n",
    "        ))   "
   ]
  }
 ],
 "metadata": {
  "kernelspec": {
   "display_name": "Python 3",
   "language": "python",
   "name": "python3"
  },
  "language_info": {
   "codemirror_mode": {
    "name": "ipython",
    "version": 3
   },
   "file_extension": ".py",
   "mimetype": "text/x-python",
   "name": "python",
   "nbconvert_exporter": "python",
   "pygments_lexer": "ipython3",
   "version": "3.7.3"
  }
 },
 "nbformat": 4,
 "nbformat_minor": 4
}
