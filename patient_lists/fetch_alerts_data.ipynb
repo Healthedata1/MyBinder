{
 "cells": [
  {
   "cell_type": "markdown",
   "metadata": {},
   "source": [
    "\n",
    "## Inspect Alerts Bundles"
   ]
  },
  {
   "cell_type": "code",
   "execution_count": 5,
   "metadata": {},
   "outputs": [
    {
     "name": "stdout",
     "output_type": "stream",
     "text": [
      "/Users/ehaas/Documents/FHIR/Davinci-Alerts/2020_09_hl7_connectathon/Synthea_Alert_Test_Data/fhir/3Patients\n"
     ]
    }
   ],
   "source": [
    "from json import load, dumps, loads\n",
    "from requests import get, post, put\n",
    "from IPython.display import display, Markdown, HTML\n",
    "from pathlib import Path\n",
    "from pprint import pprint\n",
    "from nested_lookup import nested_lookup\n",
    "\n",
    "\n",
    "base_path = '/Users/ehaas/Documents/FHIR/Davinci-Alerts/2020_09_hl7_connectathon/Synthea_Alert_Test_Data'\n",
    "\n",
    "file_type = 'fhir'\n",
    "#file_type = 'csv'\n",
    "\n",
    "\n",
    "file_size = '3Patients'\n",
    "#file_size = '100Patients'\n",
    "\n",
    "file = 'admit_notify-2.json'\n",
    "\n",
    "mypath = Path() / base_path / file_type / file_size\n",
    "\n",
    "print(mypath)"
   ]
  },
  {
   "cell_type": "code",
   "execution_count": 6,
   "metadata": {},
   "outputs": [
    {
     "data": {
      "text/plain": [
       "True"
      ]
     },
     "execution_count": 6,
     "metadata": {},
     "output_type": "execute_result"
    }
   ],
   "source": [
    "mypath.is_dir()"
   ]
  },
  {
   "cell_type": "code",
   "execution_count": 7,
   "metadata": {},
   "outputs": [
    {
     "name": "stdout",
     "output_type": "stream",
     "text": [
      "<class 'pathlib.PosixPath'> /Users/ehaas/Documents/FHIR/Davinci-Alerts/2020_09_hl7_connectathon/Synthea_Alert_Test_Data/fhir/3Patients/discharge_notify-2.json\n",
      "<class 'pathlib.PosixPath'> /Users/ehaas/Documents/FHIR/Davinci-Alerts/2020_09_hl7_connectathon/Synthea_Alert_Test_Data/fhir/3Patients/transfer_notify-2.json\n",
      "<class 'pathlib.PosixPath'> /Users/ehaas/Documents/FHIR/Davinci-Alerts/2020_09_hl7_connectathon/Synthea_Alert_Test_Data/fhir/3Patients/admit_notify-2.json\n"
     ]
    }
   ],
   "source": [
    "json_bundles = []\n",
    "for f in mypath.iterdir():\n",
    "    print(type(f), f)\n",
    "    json_bundles.append(f.read_text())"
   ]
  },
  {
   "cell_type": "code",
   "execution_count": 8,
   "metadata": {},
   "outputs": [
    {
     "data": {
      "text/plain": [
       "3"
      ]
     },
     "execution_count": 8,
     "metadata": {},
     "output_type": "execute_result"
    }
   ],
   "source": [
    "len(json_bundles)"
   ]
  },
  {
   "cell_type": "code",
   "execution_count": 9,
   "metadata": {},
   "outputs": [
    {
     "name": "stdout",
     "output_type": "stream",
     "text": [
      "0 : Patient urn:uuid:06e1f0dd-5fbe-4480-9bb4-6b54ec02d31b {'url': 'Patient/06e1f0dd-5fbe-4480-9bb4-6b54ec02d31b', 'method': 'PUT'}\n",
      "defaultdict(<class 'list'>, {})\n",
      "1 : Coverage urn:uuid:cc6ac2fe-2bf4-11ea-a5f5-a4d18ccf5172 {'url': 'Coverage/cc6ac2fe-2bf4-11ea-a5f5-a4d18ccf5172', 'method': 'PUT'}\n",
      "defaultdict(<class 'list'>, {'reference': ['urn:uuid:cc6ac93e-2bf4-11ea-a5f5-a4d18ccf5172', 'urn:uuid:06e1f0dd-5fbe-4480-9bb4-6b54ec02d31b']})\n",
      "2 : Organization urn:uuid:cc6ac93e-2bf4-11ea-a5f5-a4d18ccf5172 {'url': 'Organization/cc6ac93e-2bf4-11ea-a5f5-a4d18ccf5172', 'method': 'PUT'}\n",
      "defaultdict(<class 'list'>, {})\n",
      "3 : Location urn:uuid:09188b81-0d1d-453c-b0fa-203ef88c794c {'url': 'Location/09188b81-0d1d-453c-b0fa-203ef88c794c', 'method': 'PUT'}\n",
      "defaultdict(<class 'list'>, {'reference': ['urn:uuid:a9f20dc1-5147-3789-bcef-bbecb41c5983']})\n",
      "4 : Organization urn:uuid:a9f20dc1-5147-3789-bcef-bbecb41c5983 {'url': 'Organization/a9f20dc1-5147-3789-bcef-bbecb41c5983', 'method': 'PUT'}\n",
      "defaultdict(<class 'list'>, {})\n",
      "5 : Practitioner urn:uuid:0000016f-57cb-cdac-0000-00000000014a {'url': 'Practitioner/0000016f-57cb-cdac-0000-00000000014a', 'method': 'PUT'}\n",
      "defaultdict(<class 'list'>, {})\n",
      "6 : Encounter urn:uuid:5fe62cd5-bfcf-4d3b-a1e9-80d6f75d6f82 {'url': 'Encounter/5fe62cd5-bfcf-4d3b-a1e9-80d6f75d6f82', 'method': 'PUT'}\n",
      "defaultdict(<class 'list'>, {'reference': ['urn:uuid:0000016f-57cb-cdac-0000-00000000014a', 'urn:uuid:a9f20dc1-5147-3789-bcef-bbecb41c5983', 'urn:uuid:09188b81-0d1d-453c-b0fa-203ef88c794c', 'urn:uuid:06e1f0dd-5fbe-4480-9bb4-6b54ec02d31b']})\n",
      "7 : Patient urn:uuid:b1cf5f57-b061-4b7f-aa9d-6283a121694b {'url': 'Patient/b1cf5f57-b061-4b7f-aa9d-6283a121694b', 'method': 'PUT'}\n",
      "defaultdict(<class 'list'>, {})\n",
      "8 : Coverage urn:uuid:cc9bcd18-2bf4-11ea-a5f5-a4d18ccf5172 {'url': 'Coverage/cc9bcd18-2bf4-11ea-a5f5-a4d18ccf5172', 'method': 'PUT'}\n",
      "defaultdict(<class 'list'>, {'reference': ['urn:uuid:cc9bcfac-2bf4-11ea-a5f5-a4d18ccf5172', 'urn:uuid:b1cf5f57-b061-4b7f-aa9d-6283a121694b']})\n",
      "9 : Organization urn:uuid:cc9bcfac-2bf4-11ea-a5f5-a4d18ccf5172 {'url': 'Organization/cc9bcfac-2bf4-11ea-a5f5-a4d18ccf5172', 'method': 'PUT'}\n",
      "defaultdict(<class 'list'>, {})\n",
      "10 : Location urn:uuid:09178b24-9340-47ec-90b2-1aac03248cd5 {'url': 'Location/09178b24-9340-47ec-90b2-1aac03248cd5', 'method': 'PUT'}\n",
      "defaultdict(<class 'list'>, {'reference': ['urn:uuid:b1ddf812-1fdd-3adf-b1d5-32cc8bd07ebb']})\n",
      "11 : Organization urn:uuid:b1ddf812-1fdd-3adf-b1d5-32cc8bd07ebb {'url': 'Organization/b1ddf812-1fdd-3adf-b1d5-32cc8bd07ebb', 'method': 'PUT'}\n",
      "defaultdict(<class 'list'>, {})\n",
      "12 : Practitioner urn:uuid:0000016f-57cb-cdac-0000-0000000000dc {'url': 'Practitioner/0000016f-57cb-cdac-0000-0000000000dc', 'method': 'PUT'}\n",
      "defaultdict(<class 'list'>, {})\n",
      "13 : Encounter urn:uuid:542f9e32-4309-4277-81ce-12419f0d1294 {'url': 'Encounter/542f9e32-4309-4277-81ce-12419f0d1294', 'method': 'PUT'}\n",
      "defaultdict(<class 'list'>, {'reference': ['urn:uuid:0000016f-57cb-cdac-0000-0000000000dc', 'urn:uuid:b1ddf812-1fdd-3adf-b1d5-32cc8bd07ebb', 'urn:uuid:09178b24-9340-47ec-90b2-1aac03248cd5', 'urn:uuid:b1cf5f57-b061-4b7f-aa9d-6283a121694b']})\n",
      "14 : Patient urn:uuid:aad0894e-47f4-4ffc-8fab-8fe5487110d2 {'url': 'Patient/aad0894e-47f4-4ffc-8fab-8fe5487110d2', 'method': 'PUT'}\n",
      "defaultdict(<class 'list'>, {})\n",
      "15 : Coverage urn:uuid:ccb4874a-2bf4-11ea-a5f5-a4d18ccf5172 {'url': 'Coverage/ccb4874a-2bf4-11ea-a5f5-a4d18ccf5172', 'method': 'PUT'}\n",
      "defaultdict(<class 'list'>, {'reference': ['urn:uuid:ccb48ab0-2bf4-11ea-a5f5-a4d18ccf5172', 'urn:uuid:aad0894e-47f4-4ffc-8fab-8fe5487110d2']})\n",
      "16 : Organization urn:uuid:ccb48ab0-2bf4-11ea-a5f5-a4d18ccf5172 {'url': 'Organization/ccb48ab0-2bf4-11ea-a5f5-a4d18ccf5172', 'method': 'PUT'}\n",
      "defaultdict(<class 'list'>, {})\n",
      "17 : Location urn:uuid:76ebe279-211e-493a-8318-4bc784129ac5 {'url': 'Location/76ebe279-211e-493a-8318-4bc784129ac5', 'method': 'PUT'}\n",
      "defaultdict(<class 'list'>, {'reference': ['urn:uuid:db0acede-4abe-3c01-8d03-5c68a190d8c7']})\n",
      "18 : Organization urn:uuid:db0acede-4abe-3c01-8d03-5c68a190d8c7 {'url': 'Organization/db0acede-4abe-3c01-8d03-5c68a190d8c7', 'method': 'PUT'}\n",
      "defaultdict(<class 'list'>, {})\n",
      "19 : Practitioner urn:uuid:0000016f-57cb-cdac-0000-00000000019a {'url': 'Practitioner/0000016f-57cb-cdac-0000-00000000019a', 'method': 'PUT'}\n",
      "defaultdict(<class 'list'>, {})\n",
      "20 : Encounter urn:uuid:02ba9ec6-0712-4715-8ba4-5485fc571403 {'url': 'Encounter/02ba9ec6-0712-4715-8ba4-5485fc571403', 'method': 'PUT'}\n",
      "defaultdict(<class 'list'>, {'reference': ['urn:uuid:0000016f-57cb-cdac-0000-00000000019a', 'urn:uuid:db0acede-4abe-3c01-8d03-5c68a190d8c7', 'urn:uuid:76ebe279-211e-493a-8318-4bc784129ac5', 'urn:uuid:aad0894e-47f4-4ffc-8fab-8fe5487110d2']})\n"
     ]
    }
   ],
   "source": [
    "my_bundle_dict = loads(json_bundles[2])\n",
    "\n",
    "for count, i in enumerate(my_bundle_dict['entry']):\n",
    "    fhir_r_dict = i['resource']\n",
    "    print(count,':',fhir_r_dict['resourceType'],i['fullUrl'], i['request'] )\n",
    "    my_refs = nested_lookup(key='reference',document=i, with_keys=True)\n",
    "    print(my_refs)"
   ]
  },
  {
   "cell_type": "markdown",
   "metadata": {},
   "source": [
    "### Create map of patient to encounter"
   ]
  },
  {
   "cell_type": "code",
   "execution_count": 42,
   "metadata": {},
   "outputs": [
    {
     "name": "stdout",
     "output_type": "stream",
     "text": [
      "Type = Encounter, r_id =  5fe62cd5-bfcf-4d3b-a1e9-80d6f75d6f82\n",
      "Type = Encounter, r_id =  542f9e32-4309-4277-81ce-12419f0d1294\n",
      "Type = Encounter, r_id =  02ba9ec6-0712-4715-8ba4-5485fc571403\n",
      "Type = Encounter, r_id =  5fe62cd5-bfcf-4d3b-a1e9-80d6f75d6f82\n",
      "Type = Condition, r_id =  4ac41715-fcbd-421c-8796-9b2c9706dd3f\n",
      "Type = Encounter, r_id =  542f9e32-4309-4277-81ce-12419f0d1294\n",
      "Type = Condition, r_id =  64620614-f540-46d2-9bdb-af52c8528fdc\n",
      "Type = Encounter, r_id =  02ba9ec6-0712-4715-8ba4-5485fc571403\n",
      "Type = Condition, r_id =  5e83a7b0-6ce9-48c0-aede-81ef3a12b69e\n",
      "Type = Patient, r_id =  06e1f0dd-5fbe-4480-9bb4-6b54ec02d31b\n",
      "Type = Coverage, r_id =  cc6ac2fe-2bf4-11ea-a5f5-a4d18ccf5172\n",
      "Type = Organization, r_id =  cc6ac93e-2bf4-11ea-a5f5-a4d18ccf5172\n",
      "Type = Location, r_id =  09188b81-0d1d-453c-b0fa-203ef88c794c\n",
      "Type = Organization, r_id =  a9f20dc1-5147-3789-bcef-bbecb41c5983\n",
      "Type = Practitioner, r_id =  0000016f-57cb-cdac-0000-00000000014a\n",
      "Type = Encounter, r_id =  5fe62cd5-bfcf-4d3b-a1e9-80d6f75d6f82\n",
      "Type = Patient, r_id =  b1cf5f57-b061-4b7f-aa9d-6283a121694b\n",
      "Type = Coverage, r_id =  cc9bcd18-2bf4-11ea-a5f5-a4d18ccf5172\n",
      "Type = Organization, r_id =  cc9bcfac-2bf4-11ea-a5f5-a4d18ccf5172\n",
      "Type = Location, r_id =  09178b24-9340-47ec-90b2-1aac03248cd5\n",
      "Type = Organization, r_id =  b1ddf812-1fdd-3adf-b1d5-32cc8bd07ebb\n",
      "Type = Practitioner, r_id =  0000016f-57cb-cdac-0000-0000000000dc\n",
      "Type = Encounter, r_id =  542f9e32-4309-4277-81ce-12419f0d1294\n",
      "Type = Patient, r_id =  aad0894e-47f4-4ffc-8fab-8fe5487110d2\n",
      "Type = Coverage, r_id =  ccb4874a-2bf4-11ea-a5f5-a4d18ccf5172\n",
      "Type = Organization, r_id =  ccb48ab0-2bf4-11ea-a5f5-a4d18ccf5172\n",
      "Type = Location, r_id =  76ebe279-211e-493a-8318-4bc784129ac5\n",
      "Type = Organization, r_id =  db0acede-4abe-3c01-8d03-5c68a190d8c7\n",
      "Type = Practitioner, r_id =  0000016f-57cb-cdac-0000-00000000019a\n",
      "Type = Encounter, r_id =  02ba9ec6-0712-4715-8ba4-5485fc571403\n"
     ]
    },
    {
     "data": {
      "text/plain": [
       "{}"
      ]
     },
     "execution_count": 42,
     "metadata": {},
     "output_type": "execute_result"
    }
   ],
   "source": [
    "pe_map = {}\n",
    "for i in json_bundles:\n",
    "   \n",
    "   for j in  loads(i)['entry']:\n",
    "       r = j['resource']\n",
    "       r_type = r['resourceType']\n",
    "       #if r_type == \"Appointment\":\n",
    "       print(f'Type = {r_type}, r_id =  {r[\"id\"]}')\n",
    "pe_map             "
   ]
  }
 ],
 "metadata": {
  "kernelspec": {
   "display_name": "Python 3.7.3 64-bit ('venv37': venv)",
   "language": "python",
   "name": "python37364bitvenv37venv2b400d68decb43d5b2206c004a019450"
  },
  "language_info": {
   "codemirror_mode": {
    "name": "ipython",
    "version": 3
   },
   "file_extension": ".py",
   "mimetype": "text/x-python",
   "name": "python",
   "nbconvert_exporter": "python",
   "pygments_lexer": "ipython3",
   "version": "3.7.3"
  }
 },
 "nbformat": 4,
 "nbformat_minor": 4
}
