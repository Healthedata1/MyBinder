{
 "cells": [
  {
   "cell_type": "markdown",
   "metadata": {},
   "source": [
    "## 4. <a id='4_cell'></a>Create Group using existing Da Vinci Alerts Data (from Synthea) and the PyFHIR models to...\n",
    "\n",
    "- create Group resources for discovery by:\n",
    "\n",
    "    1. all patients\n",
    "    1. all patients with managing org\n",
    "    1. practitioner characteristic\n",
    "    1. location characteristic    \n",
    "    *TODO*\n",
    "    - *add narrative*\n",
    "    - *add Careteams and Careteam characteristics*\n",
    "- Create the Q/QR data using existing tools and add extensions to resources\n",
    "  - [X]  update Q and QR data\n",
    "  - [X]  move extension to member \n",
    "  - [X] confirm url\n",
    "- [X] Add extensions for Encounter and Appt to resource\n",
    "    - [X] update Encounter ID - with mapping\n",
    "    - [X] create Appt resource and use\n",
    "    \n",
    "- Create transaction bundle of resources\n",
    "    - [ ] interate through use case starting with 'all' and update groups with characteristics.\n",
    "- Load to ref server\n",
    "- Fetching and...\n",
    "- Getting Additional data by:\n",
    "    1. FHIR RESTful queries on the:\n",
    "       - Patient\n",
    "       - *TODO Condition and Encounter resources\n",
    "      "
   ]
  },
  {
   "cell_type": "markdown",
   "metadata": {},
   "source": [
    "### Create Group Instance for All Patients, One member for Each Row...\n",
    "\n",
    "1. initialize group resource and datatype instances\n",
    "1. iterate over each Patient in Bundle\n",
    "1. validate and save the resources in the reference server\n",
    "    tag them so can search more easily\n",
    "\n",
    "TODO\n",
    "1. option to create narrative using jinja2 templates (that is a topic for another notebook)\n",
    "1. create a new transaction Bundle with all the data (figure out sequence for encounters)"
   ]
  },
  {
   "cell_type": "markdown",
   "metadata": {},
   "source": [
    "### import all the modules you need"
   ]
  },
  {
   "cell_type": "code",
   "execution_count": 1,
   "metadata": {},
   "outputs": [],
   "source": [
    "import os, sys\n",
    "module_path = os.path.abspath(os.path.join('..'))\n",
    "if module_path not in sys.path:\n",
    "    sys.path.append(module_path)\n",
    "# This allows you to import the desired function from the module hierarchy:\n",
    "from pyFHIR_models.fhir_model_generator.model import (\n",
    "                                            fhirdate,\n",
    "                                            fhirreference,\n",
    "                                            group,\n",
    "                                            patient,\n",
    "                                            organization,\n",
    "                                            bundle,\n",
    "                                            identifier,\n",
    "                                            humanname,\n",
    "                                            contactpoint,\n",
    "                                            address,\n",
    "                                            codeableconcept,\n",
    "                                            coding,\n",
    "                                            extension,\n",
    "                                            questionnaire as q,\n",
    "                                            questionnaireresponse as qr,\n",
    "                                            appointment as a,\n",
    "                                             )\n",
    "from json import loads, dumps\n",
    "#from requests import get, post, put\n",
    "from datetime import datetime, date, timedelta, timezone\n",
    "from IPython.display import display as Display, HTML, Markdown\n",
    "from utils import bundle_me, to_json, to_yaml, get_id, load_transaction, validate, fetch_r\n",
    "from pathlib import Path\n",
    "#from pprint import pprint, pformat\n",
    "from nested_lookup import nested_lookup\n",
    "import FHIR_templates\n",
    "from random import randrange,choice\n",
    "from copy import deepcopy"
   ]
  },
  {
   "cell_type": "markdown",
   "metadata": {},
   "source": [
    "## Globals\n",
    "\n",
    "file location etc...\n",
    "\n",
    "'pl_use_case':\n",
    "\n",
    "|value|what it does|\n",
    "|---|---|\n",
    "|all| create Group with no characterisitics|\n",
    "|location| create Group with location characteristic|\n",
    "|practitioner| create Group with practitioner characteristic|\n"
   ]
  },
  {
   "cell_type": "code",
   "execution_count": 2,
   "metadata": {},
   "outputs": [
    {
     "name": "stdout",
     "output_type": "stream",
     "text": [
      "My Path to Synthea Data a FHIR Bundle is /Users/ehaas/Documents/FHIR/Davinci-Alerts/2020_09_hl7_connectathon/Synthea_Alert_Test_Data/fhir/100Patients/admit_notify-100r1.json\n",
      "\n"
     ]
    },
    {
     "data": {
      "text/html": [
       "<h1>USE CASE = all</h1>"
      ],
      "text/plain": [
       "<IPython.core.display.HTML object>"
      ]
     },
     "metadata": {},
     "output_type": "display_data"
    }
   ],
   "source": [
    "\"\"\"\n",
    "group_characterstics = [\n",
    "(0,'location','Location/[id]',),\n",
    "(1,'practitioner','Practitioner/[id]',),\n",
    "(2,'organization','Organization/[id]',),\n",
    "(3,'team','CareTeam/[id]',),\n",
    "]\n",
    "\"\"\"\n",
    "\n",
    "base_path = '/Users/ehaas/Documents/FHIR/Davinci-Alerts/2020_09_hl7_connectathon/Synthea_Alert_Test_Data'\n",
    "\n",
    "file_type = 'fhir'\n",
    "#file_type = 'csv'\n",
    "\n",
    "#file_size = '3Patients'\n",
    "file_size = '100Patients'\n",
    "\n",
    "#file = 'admit_notify-2.json'\n",
    "file = 'admit_notify-100r1.json' # use me instead\n",
    "\n",
    "#file = 'admit_notify-100-BEVERLY HOSPITAL CORPORATION.json'\n",
    "#file = 'admit_notify-100-HALLMARK HEALTH SYSTEM.json'\n",
    "#file = 'admit_notify-100-CAMBRIDGE HEALTH ALLIANCE.json'\n",
    "#file = 'admit_notify-100.json' # don't use - too many ManagingEntities\n",
    "\n",
    "\n",
    "mypath = Path() / base_path / file_type / file_size\n",
    "my_infile = mypath/file\n",
    "\n",
    "print(f'My Path to Synthea Data a FHIR Bundle is {my_infile}')\n",
    "print()\n",
    "\n",
    "console_only = False\n",
    "\n",
    "chars = dict(  # this is dict to provide the FHIR path to the reference in Encounters to get data\n",
    "#all = None,\n",
    "location = 'location.location',\n",
    "practitioner = 'participant.individual',\n",
    ")\n",
    "\n",
    "example_series = dict(\n",
    "all = 100,\n",
    "location = 200,\n",
    "practitioner = 300,\n",
    ")\n",
    "\n",
    "pl_use_case = \"all\"\n",
    "#pl_use_case = \"location\"\n",
    "#pl_use_case = \"practitioner\"\n",
    "\n",
    "my_tags = [{'code': '2020-Sep'},{'code': '2021-Jan'}]\n",
    "group_profile = 'http://www.fhir.org/guides/argonaut/patient-list/StructureDefinition/patientlist'\n",
    "char_system = 'http://www.fhir.org/guides/argonaut/patient-list/CodeSystem/group-characteristic'\n",
    "q_ext_url = 'http://www.fhir.org/guides/argonaut/patient-list/StructureDefinition/patientlist-questionnaire'\n",
    "QuestionnaireResponse_ext_url = 'http://www.fhir.org/guides/argonaut/patient-list/StructureDefinition/patientlist-questionnaireresponse'\n",
    "Appointment_ext_url = 'http://www.fhir.org/guides/argonaut/patient-list/StructureDefinition/patientlist-appointment'\n",
    "enc_ext_url = 'http://www.fhir.org/guides/argonaut/patient-list/StructureDefinition/patientlist-encounter'\n",
    "q_id = 'argo-pl-q2'\n",
    "\n",
    "\n",
    "display(HTML(f'<h1>USE CASE = {pl_use_case}</h1>'))"
   ]
  },
  {
   "cell_type": "markdown",
   "metadata": {},
   "source": [
    "## Functions"
   ]
  },
  {
   "cell_type": "code",
   "execution_count": 3,
   "metadata": {},
   "outputs": [],
   "source": [
    "def add_char(): #Add A Single Group Characteristic\n",
    "    new_g.characteristic = []\n",
    "    my_char = group.GroupCharacteristic()\n",
    "    my_char.code = codeableconcept.CodeableConcept()\n",
    "    my_char.code.coding = [coding.Coding()]\n",
    "    my_char.code.coding[0].code = char\n",
    "    my_char.code.coding[0].display =char.capitalize()\n",
    "    my_char.code.coding[0].system = char_system\n",
    "    my_char.valueReference = ref\n",
    "    my_char.valueReference.reference = f'{char.capitalize()}/{get_id(ref)}'\n",
    "    my_char.exclude = False\n",
    "    #print(to_yaml(my_char))\n",
    "    new_g.characteristic.append(my_char)\n",
    "\n",
    "    \n",
    "\n",
    "def dedup(my_refs):\n",
    "    deduped = [fhirreference.FHIRReference(dict(t)) for t in {tuple(d.as_json().items()) for d in my_refs}] #dedup\n",
    "    return deduped\n",
    "    \n",
    "    \n",
    "\n",
    "def add_qr():  # Add the QR\n",
    "    pass\n",
    "    \n",
    "def counter():\n",
    "    if file_size == '3Patients':\n",
    "        factor = 100\n",
    "    else:\n",
    "        factor = 1000\n",
    "    return (len(my_groups) + 1) * factor\n",
    "    \n",
    "def create_new_group(counter):\n",
    "    my_id = f'argo-pl-group-{pl_use_case}-{counter}'\n",
    "    my_meta = dict(\n",
    "        source = \"Health_eData_Inc\",\n",
    "        tag = my_tags,\n",
    "        lastUpdated= f'{datetime.now().isoformat()}Z',\n",
    "        profile = [group_profile,],\n",
    "        )\n",
    "\n",
    "    my_identifier = dict(\n",
    "            value = my_id,\n",
    "            system = \"http://example.org/fhir/identifiers\",\n",
    "            )\n",
    "    \n",
    "    q_ref = dict(\n",
    "    reference = f'Questionnaire/{q_id}',\n",
    "    display = f'Argo PL List Test Questionnaire id={q_id}',\n",
    "     )\n",
    "    \n",
    "    my_q_extension = dict(\n",
    "     url = q_ext_url,\n",
    "     valueReference = q_ref,\n",
    "    )\n",
    "\n",
    "    my_g = group.Group(\n",
    "            dict(\n",
    "                meta = my_meta,\n",
    "                id = my_id,\n",
    "                extension = [my_q_extension],\n",
    "                type = 'person',\n",
    "                actual = True,\n",
    "                name = f'Argo Patient List: \"{pl_use_case}\" Use Case {counter}',\n",
    "                active = True,\n",
    "                identifier = [my_identifier],\n",
    "                #quantity = df.shape[0],         \n",
    "            )\n",
    "    ) # initialize group instance\n",
    "    \n",
    "    # Add the managingEntity\n",
    "    me.reference = f'Organization/{get_id(me)}'\n",
    "    #print(to_yaml(me))\n",
    "    my_g.managingEntity = me\n",
    "\n",
    "    #print(to_yaml(my_g))\n",
    "    return my_g\n"
   ]
  },
  {
   "cell_type": "markdown",
   "metadata": {},
   "source": [
    "### Add managingEntity element and Q extensions\n",
    "\n",
    "Fetch the FHIR Bundle of Synthea Data -\n",
    "- path variables are local for this - change as needed\n",
    "\n",
    "#### add the managingEntity element - i.e. the Organization that created the group.\n",
    " - note there are no managing Org on these patients. so for this data set we impute the organization from the the encounter to tell us which organization the patient list go with.\n",
    "   (This is an issue that is system dependent only they know)\n",
    "- use nested lookup to extract the Me from encounter\n",
    "- use FHIR references for now ( may need to switch back to urns for bundling)\n",
    "\n",
    "#### Add A Q Extensions\n",
    "\n",
    "- Add extension to all Groups first\n",
    "- Create and use fixed templates Q's from NIH Tool\n",
    "- See if tooling can autopopulate QRs otherwise use my own base on FHIRpath\n",
    "\n",
    "#### Add An Appt Extensions\n",
    "\n",
    "- Add extension to all Groups first\n",
    "- Create Appt based on template\n",
    "\n",
    "#### Add An Encounter Extensions\n",
    "\n",
    "- Add extension to all Groups first\n",
    "- Map Encounter to Patient (or based on csv)\n",
    "- Create Encounter from mapping"
   ]
  },
  {
   "cell_type": "code",
   "execution_count": 4,
   "metadata": {},
   "outputs": [
    {
     "name": "stdout",
     "output_type": "stream",
     "text": [
      "len(my_bundle.entry)=561\n"
     ]
    },
    {
     "data": {
      "text/html": [
       "<h1>MY_REFS AS YAML</h1>"
      ],
      "text/plain": [
       "<IPython.core.display.HTML object>"
      ]
     },
     "metadata": {},
     "output_type": "display_data"
    },
    {
     "data": {
      "text/html": [
       "<pre style=\"color: blue; background-color: AliceBlue;\">reference: urn:uuid:37c0de84-bcaf-3624-82bf-a89b2ac441b8\n",
       "display: BEVERLY HOSPITAL CORPORATION\n",
       "</pre>"
      ],
      "text/plain": [
       "<IPython.core.display.HTML object>"
      ]
     },
     "metadata": {},
     "output_type": "display_data"
    },
    {
     "data": {
      "text/html": [
       "<h1>MY_REFS AS YAML</h1>"
      ],
      "text/plain": [
       "<IPython.core.display.HTML object>"
      ]
     },
     "metadata": {},
     "output_type": "display_data"
    },
    {
     "data": {
      "text/html": [
       "<pre style=\"color: blue; background-color: AliceBlue;\">reference: urn:uuid:d692e283-0833-3201-8e55-4f868a9c0736\n",
       "display: HALLMARK HEALTH SYSTEM\n",
       "</pre>"
      ],
      "text/plain": [
       "<IPython.core.display.HTML object>"
      ]
     },
     "metadata": {},
     "output_type": "display_data"
    },
    {
     "data": {
      "text/html": [
       "<h1>MY_REFS AS YAML</h1>"
      ],
      "text/plain": [
       "<IPython.core.display.HTML object>"
      ]
     },
     "metadata": {},
     "output_type": "display_data"
    },
    {
     "data": {
      "text/html": [
       "<pre style=\"color: blue; background-color: AliceBlue;\">reference: urn:uuid:e002090d-4e92-300e-b41e-7d1f21dee4c6\n",
       "display: CAMBRIDGE HEALTH ALLIANCE\n",
       "</pre>"
      ],
      "text/plain": [
       "<IPython.core.display.HTML object>"
      ]
     },
     "metadata": {},
     "output_type": "display_data"
    }
   ],
   "source": [
    "'''\n",
    "json_bundles = []\n",
    "for f in mypath.iterdir():\n",
    "    #print(type(f), f)\n",
    "    json_bundles.append(f.read_text(encoding='utf-8'))\n",
    "'''\n",
    "\n",
    "my_groups = []\n",
    "my_bundle = bundle.Bundle(loads(my_infile.read_text(encoding='utf-8')))\n",
    "print(f'len(my_bundle.entry)={len(my_bundle.entry)}' )\n",
    "my_refs = [r.resource.serviceProvider for r in my_bundle.entry if r.resource.resource_type == \"Encounter\"]\n",
    "my_refs = dedup(my_refs)\n",
    "for i in my_refs:\n",
    "    display(HTML('<h1>MY_REFS AS YAML</h1>'))\n",
    "    display(HTML(f'<pre style=\"color: blue; background-color: AliceBlue;\">{to_yaml(i)}</pre>'))"
   ]
  },
  {
   "cell_type": "code",
   "execution_count": 5,
   "metadata": {},
   "outputs": [
    {
     "data": {
      "text/html": [
       "<h1>GROUP RESOURCE AS YAML</h1>"
      ],
      "text/plain": [
       "<IPython.core.display.HTML object>"
      ]
     },
     "metadata": {},
     "output_type": "display_data"
    },
    {
     "data": {
      "text/html": [
       "<pre style=\"color: blue; background-color: AliceBlue;\">resourceType: Group\n",
       "id: argo-pl-group-all-1000\n",
       "meta:\n",
       "  lastUpdated: '2020-12-26T10:31:22.080837Z'\n",
       "  source: Health_eData_Inc\n",
       "  profile:\n",
       "  - http://www.fhir.org/guides/argonaut/patient-list/StructureDefinition/patientlist\n",
       "  tag:\n",
       "  - code: 2020-Sep\n",
       "  - code: 2021-Jan\n",
       "extension:\n",
       "- url: http://www.fhir.org/guides/argonaut/patient-list/StructureDefinition/patientlist-questionnaire\n",
       "  valueReference:\n",
       "    reference: Questionnaire/argo-pl-q2\n",
       "    display: Argo PL List Test Questionnaire id=argo-pl-q2\n",
       "identifier:\n",
       "- system: http://example.org/fhir/identifiers\n",
       "  value: argo-pl-group-all-1000\n",
       "active: true\n",
       "type: person\n",
       "actual: true\n",
       "name: 'Argo Patient List: \"all\" Use Case 1000'\n",
       "managingEntity:\n",
       "  reference: Organization/37c0de84-bcaf-3624-82bf-a89b2ac441b8\n",
       "  display: BEVERLY HOSPITAL CORPORATION\n",
       "</pre>"
      ],
      "text/plain": [
       "<IPython.core.display.HTML object>"
      ]
     },
     "metadata": {},
     "output_type": "display_data"
    },
    {
     "data": {
      "text/html": [
       "<h1>GROUP RESOURCE AS YAML</h1>"
      ],
      "text/plain": [
       "<IPython.core.display.HTML object>"
      ]
     },
     "metadata": {},
     "output_type": "display_data"
    },
    {
     "data": {
      "text/html": [
       "<pre style=\"color: blue; background-color: AliceBlue;\">resourceType: Group\n",
       "id: argo-pl-group-all-2000\n",
       "meta:\n",
       "  lastUpdated: '2020-12-26T10:31:22.086495Z'\n",
       "  source: Health_eData_Inc\n",
       "  profile:\n",
       "  - http://www.fhir.org/guides/argonaut/patient-list/StructureDefinition/patientlist\n",
       "  tag:\n",
       "  - code: 2020-Sep\n",
       "  - code: 2021-Jan\n",
       "extension:\n",
       "- url: http://www.fhir.org/guides/argonaut/patient-list/StructureDefinition/patientlist-questionnaire\n",
       "  valueReference:\n",
       "    reference: Questionnaire/argo-pl-q2\n",
       "    display: Argo PL List Test Questionnaire id=argo-pl-q2\n",
       "identifier:\n",
       "- system: http://example.org/fhir/identifiers\n",
       "  value: argo-pl-group-all-2000\n",
       "active: true\n",
       "type: person\n",
       "actual: true\n",
       "name: 'Argo Patient List: \"all\" Use Case 2000'\n",
       "managingEntity:\n",
       "  reference: Organization/d692e283-0833-3201-8e55-4f868a9c0736\n",
       "  display: HALLMARK HEALTH SYSTEM\n",
       "</pre>"
      ],
      "text/plain": [
       "<IPython.core.display.HTML object>"
      ]
     },
     "metadata": {},
     "output_type": "display_data"
    },
    {
     "data": {
      "text/html": [
       "<h1>GROUP RESOURCE AS YAML</h1>"
      ],
      "text/plain": [
       "<IPython.core.display.HTML object>"
      ]
     },
     "metadata": {},
     "output_type": "display_data"
    },
    {
     "data": {
      "text/html": [
       "<pre style=\"color: blue; background-color: AliceBlue;\">resourceType: Group\n",
       "id: argo-pl-group-all-3000\n",
       "meta:\n",
       "  lastUpdated: '2020-12-26T10:31:22.090150Z'\n",
       "  source: Health_eData_Inc\n",
       "  profile:\n",
       "  - http://www.fhir.org/guides/argonaut/patient-list/StructureDefinition/patientlist\n",
       "  tag:\n",
       "  - code: 2020-Sep\n",
       "  - code: 2021-Jan\n",
       "extension:\n",
       "- url: http://www.fhir.org/guides/argonaut/patient-list/StructureDefinition/patientlist-questionnaire\n",
       "  valueReference:\n",
       "    reference: Questionnaire/argo-pl-q2\n",
       "    display: Argo PL List Test Questionnaire id=argo-pl-q2\n",
       "identifier:\n",
       "- system: http://example.org/fhir/identifiers\n",
       "  value: argo-pl-group-all-3000\n",
       "active: true\n",
       "type: person\n",
       "actual: true\n",
       "name: 'Argo Patient List: \"all\" Use Case 3000'\n",
       "managingEntity:\n",
       "  reference: Organization/e002090d-4e92-300e-b41e-7d1f21dee4c6\n",
       "  display: CAMBRIDGE HEALTH ALLIANCE\n",
       "</pre>"
      ],
      "text/plain": [
       "<IPython.core.display.HTML object>"
      ]
     },
     "metadata": {},
     "output_type": "display_data"
    },
    {
     "name": "stdout",
     "output_type": "stream",
     "text": [
      "len(my_bundle.entry)=95\n",
      "len(my_groups)=3\n"
     ]
    }
   ],
   "source": [
    "my_groups = []\n",
    "\n",
    "for me in my_refs:\n",
    "    my_g = create_new_group(counter())\n",
    "    my_groups.append(my_g)\n",
    "    \n",
    "my_members = {k.id:set() for k in my_groups} # to index members and prevent dupes\n",
    "\n",
    "for i in my_groups:\n",
    "    display(HTML('<h1>GROUP RESOURCE AS YAML</h1>'))\n",
    "    display(HTML(f'<pre style=\"color: blue; background-color: AliceBlue;\">{to_yaml(i)}</pre>'))\n",
    "print(f'len(my_bundle.entry)={len([x for x in my_bundle.entry if x.resource.resource_type == \"Encounter\"])}' )\n",
    "print(f'len(my_groups)={len(my_groups)}' )"
   ]
  },
  {
   "cell_type": "markdown",
   "metadata": {},
   "source": [
    "### Add the Group Members from Bundle for Each ManagingEntity\n",
    "\n",
    "- Fetch Bundle from local dir\n",
    "- get Patient Ids for each organization\n",
    "  - note there are no managing Org on these patients. so for this data set we impute the organization from the the encounter to tell us which organization the patient list go with.\n",
    "   (This is an issue that is system dependent only they know)\n",
    "   cycle through all encounters to get all patients for each ME\n",
    "- Create QR for each Member based on Q and add extension\n",
    "    Use template for now\n",
    "    - [X] update QR to normalized questions\n",
    "- [X] Create Appt for each Member based and add Appt extension\n",
    "    Use template for now\n",
    "    - [X] add patient ID\n",
    "    - [X] update Encounter to reference Appt\n",
    "    - [X] update organization and Practitioner based on Encountert\n",
    "- [X] Get Encounter ID for each Member based on and add Enc extension\n",
    "- [X] add quantity elemen\n"
   ]
  },
  {
   "cell_type": "code",
   "execution_count": 8,
   "metadata": {},
   "outputs": [
    {
     "name": "stdout",
     "output_type": "stream",
     "text": [
      "0 Patient\n",
      "1 Patient\n",
      "2 Patient\n",
      "3 Patient\n",
      "4 Patient\n",
      "5 Patient\n",
      "6 Patient\n",
      "7 Patient\n",
      "8 Patient\n",
      "9 Patient\n",
      "10 Patient\n",
      "11 Patient\n",
      "12 Patient\n",
      "13 Patient\n",
      "14 Patient\n",
      "15 Patient\n",
      "16 Patient\n",
      "17 Patient\n",
      "18 Patient\n",
      "19 Patient\n",
      "20 Patient\n",
      "21 Patient\n",
      "22 Patient\n",
      "23 Patient\n",
      "24 Patient\n",
      "25 Patient\n",
      "26 Patient\n",
      "27 Patient\n",
      "28 Patient\n",
      "29 Patient\n",
      "30 Patient\n",
      "31 Patient\n",
      "32 Patient\n",
      "33 Patient\n",
      "34 Patient\n",
      "35 Patient\n",
      "36 Patient\n",
      "37 Patient\n",
      "38 Patient\n",
      "39 Patient\n",
      "40 Patient\n",
      "41 Patient\n",
      "42 Patient\n",
      "43 Patient\n",
      "44 Patient\n",
      "45 Patient\n",
      "46 Patient\n",
      "47 Patient\n",
      "48 Patient\n",
      "49 Patient\n",
      "50 Patient\n",
      "51 Patient\n",
      "52 Patient\n",
      "53 Patient\n",
      "54 Patient\n",
      "55 Patient\n",
      "56 Patient\n",
      "57 Patient\n",
      "58 Patient\n",
      "59 Patient\n",
      "60 Patient\n",
      "61 Patient\n",
      "62 Patient\n",
      "63 Patient\n",
      "64 Patient\n",
      "65 Patient\n",
      "66 Patient\n",
      "67 Patient\n",
      "68 Patient\n",
      "69 Patient\n",
      "70 Patient\n",
      "71 Patient\n",
      "72 Patient\n",
      "73 Patient\n",
      "74 Patient\n",
      "75 Patient\n",
      "76 Patient\n",
      "77 Patient\n",
      "78 Patient\n",
      "79 Patient\n",
      "80 Patient\n",
      "81 Patient\n",
      "82 Patient\n",
      "83 Patient\n",
      "84 Patient\n",
      "85 Patient\n",
      "86 Patient\n",
      "87 Patient\n",
      "88 Patient\n",
      "89 Patient\n",
      "90 Patient\n",
      "91 Patient\n",
      "92 Patient\n",
      "93 Patient\n",
      "94 Patient\n",
      "95 Practitioner\n",
      "96 Practitioner\n",
      "97 Practitioner\n",
      "98 Practitioner\n",
      "99 Practitioner\n",
      "100 Practitioner\n",
      "101 Practitioner\n",
      "102 Practitioner\n",
      "103 Practitioner\n",
      "104 Practitioner\n",
      "105 Practitioner\n",
      "106 Practitioner\n",
      "107 Practitioner\n",
      "108 Practitioner\n",
      "109 Practitioner\n",
      "110 Practitioner\n",
      "111 Practitioner\n",
      "112 Practitioner\n",
      "113 Practitioner\n",
      "114 Practitioner\n",
      "115 Practitioner\n",
      "116 Practitioner\n",
      "117 Practitioner\n",
      "118 Practitioner\n",
      "119 Practitioner\n",
      "120 Practitioner\n",
      "121 Practitioner\n",
      "122 Practitioner\n",
      "123 Practitioner\n",
      "124 Practitioner\n",
      "125 Practitioner\n",
      "126 Practitioner\n",
      "127 Practitioner\n",
      "128 Practitioner\n",
      "129 Practitioner\n",
      "130 Practitioner\n",
      "131 Practitioner\n",
      "132 Practitioner\n",
      "133 Practitioner\n",
      "134 Practitioner\n",
      "135 Practitioner\n",
      "136 Organization\n",
      "137 Organization\n",
      "138 Organization\n",
      "139 Organization\n",
      "140 Organization\n",
      "141 Organization\n",
      "142 Organization\n",
      "143 Organization\n",
      "144 Organization\n",
      "145 Organization\n",
      "146 Organization\n",
      "147 Organization\n",
      "148 Organization\n",
      "149 Organization\n",
      "150 Organization\n",
      "151 Organization\n",
      "152 Organization\n",
      "153 Organization\n",
      "154 Organization\n",
      "155 Organization\n",
      "156 Organization\n",
      "157 Organization\n",
      "158 Organization\n",
      "159 Organization\n",
      "160 Organization\n",
      "161 Organization\n",
      "162 Organization\n",
      "163 Organization\n",
      "164 Organization\n",
      "165 Organization\n",
      "166 Organization\n",
      "167 Organization\n",
      "168 Organization\n",
      "169 Organization\n",
      "170 Organization\n",
      "171 Organization\n",
      "172 Organization\n",
      "173 Organization\n",
      "174 Organization\n",
      "175 Organization\n",
      "176 Organization\n",
      "177 Organization\n",
      "178 Organization\n",
      "179 Organization\n",
      "180 Organization\n",
      "181 Organization\n",
      "182 Organization\n",
      "183 Organization\n",
      "184 Organization\n",
      "185 Organization\n",
      "186 Organization\n",
      "187 Organization\n",
      "188 Organization\n",
      "189 Organization\n",
      "190 Organization\n",
      "191 Organization\n",
      "192 Organization\n",
      "193 Organization\n",
      "194 Organization\n",
      "195 Organization\n",
      "196 Organization\n",
      "197 Organization\n",
      "198 Organization\n",
      "199 Organization\n",
      "200 Organization\n",
      "201 Organization\n",
      "202 Organization\n",
      "203 Organization\n",
      "204 Organization\n",
      "205 Organization\n",
      "206 Organization\n",
      "207 Organization\n",
      "208 Organization\n",
      "209 Organization\n",
      "210 Organization\n",
      "211 Organization\n",
      "212 Organization\n",
      "213 Organization\n",
      "214 Organization\n",
      "215 Organization\n",
      "216 Organization\n",
      "217 Organization\n",
      "218 Organization\n",
      "219 Organization\n",
      "220 Organization\n",
      "221 Organization\n",
      "222 Organization\n",
      "223 Organization\n",
      "224 Organization\n",
      "225 Organization\n",
      "226 Organization\n",
      "227 Organization\n",
      "228 Organization\n",
      "229 Organization\n",
      "230 Organization\n",
      "231 Organization\n",
      "232 Organization\n",
      "233 Organization\n",
      "234 Organization\n",
      "235 Organization\n",
      "236 Organization\n",
      "237 Organization\n",
      "238 Organization\n",
      "239 Organization\n",
      "240 Organization\n",
      "241 Organization\n",
      "242 Organization\n",
      "243 Organization\n",
      "244 Organization\n",
      "245 Organization\n",
      "246 Organization\n",
      "247 Organization\n",
      "248 Organization\n",
      "249 Organization\n",
      "250 Organization\n",
      "251 Organization\n",
      "252 Organization\n",
      "253 Organization\n",
      "254 Organization\n",
      "255 Organization\n",
      "256 Organization\n",
      "257 Organization\n",
      "258 Organization\n",
      "259 Organization\n",
      "260 Organization\n",
      "261 Organization\n",
      "262 Organization\n",
      "263 Organization\n",
      "264 Organization\n",
      "265 Organization\n",
      "266 Organization\n",
      "267 Organization\n",
      "268 Organization\n",
      "269 Organization\n",
      "270 Organization\n",
      "271 Organization\n",
      "272 Organization\n",
      "273 Organization\n",
      "274 Organization\n",
      "275 Organization\n",
      "276 Location\n",
      "277 Location\n",
      "278 Location\n",
      "279 Location\n",
      "280 Location\n",
      "281 Location\n",
      "282 Location\n",
      "283 Location\n",
      "284 Location\n",
      "285 Location\n",
      "286 Location\n",
      "287 Location\n",
      "288 Location\n",
      "289 Location\n",
      "290 Location\n",
      "291 Location\n",
      "292 Location\n",
      "293 Location\n",
      "294 Location\n",
      "295 Location\n",
      "296 Location\n",
      "297 Location\n",
      "298 Location\n",
      "299 Location\n",
      "300 Location\n",
      "301 Location\n",
      "302 Location\n",
      "303 Location\n",
      "304 Location\n",
      "305 Location\n",
      "306 Location\n",
      "307 Location\n",
      "308 Location\n",
      "309 Location\n",
      "310 Location\n",
      "311 Location\n",
      "312 Location\n",
      "313 Location\n",
      "314 Location\n",
      "315 Location\n",
      "316 Location\n",
      "317 Location\n",
      "318 Location\n",
      "319 Location\n",
      "320 Location\n",
      "321 Location\n",
      "322 Location\n",
      "323 Location\n",
      "324 Location\n",
      "325 Location\n",
      "326 Location\n",
      "327 Location\n",
      "328 Location\n",
      "329 Location\n",
      "330 Location\n",
      "331 Location\n",
      "332 Location\n",
      "333 Location\n",
      "334 Location\n",
      "335 Location\n",
      "336 Location\n",
      "337 Location\n",
      "338 Location\n",
      "339 Location\n",
      "340 Location\n",
      "341 Location\n",
      "342 Location\n",
      "343 Location\n",
      "344 Location\n",
      "345 Location\n",
      "346 Location\n",
      "347 Location\n",
      "348 Location\n",
      "349 Location\n",
      "350 Location\n",
      "351 Location\n",
      "352 Location\n",
      "353 Location\n",
      "354 Location\n",
      "355 Location\n",
      "356 Location\n",
      "357 Location\n",
      "358 Location\n",
      "359 Location\n",
      "360 Location\n",
      "361 Location\n",
      "362 Location\n",
      "363 Location\n",
      "364 Location\n",
      "365 Location\n",
      "366 Location\n",
      "367 Location\n",
      "368 Location\n",
      "369 Location\n",
      "370 Location\n",
      "371 Coverage\n",
      "372 Coverage\n",
      "373 Coverage\n",
      "374 Coverage\n",
      "375 Coverage\n",
      "376 Coverage\n",
      "377 Coverage\n",
      "378 Coverage\n",
      "379 Coverage\n",
      "380 Coverage\n",
      "381 Coverage\n",
      "382 Coverage\n",
      "383 Coverage\n",
      "384 Coverage\n",
      "385 Coverage\n",
      "386 Coverage\n",
      "387 Coverage\n",
      "388 Coverage\n",
      "389 Coverage\n",
      "390 Coverage\n",
      "391 Coverage\n",
      "392 Coverage\n",
      "393 Coverage\n",
      "394 Coverage\n",
      "395 Coverage\n",
      "396 Coverage\n",
      "397 Coverage\n",
      "398 Coverage\n",
      "399 Coverage\n",
      "400 Coverage\n",
      "401 Coverage\n",
      "402 Coverage\n",
      "403 Coverage\n",
      "404 Coverage\n",
      "405 Coverage\n",
      "406 Coverage\n",
      "407 Coverage\n",
      "408 Coverage\n",
      "409 Coverage\n",
      "410 Coverage\n",
      "411 Coverage\n",
      "412 Coverage\n",
      "413 Coverage\n",
      "414 Coverage\n",
      "415 Coverage\n",
      "416 Coverage\n",
      "417 Coverage\n",
      "418 Coverage\n",
      "419 Coverage\n",
      "420 Coverage\n",
      "421 Coverage\n",
      "422 Coverage\n",
      "423 Coverage\n",
      "424 Coverage\n",
      "425 Coverage\n",
      "426 Coverage\n",
      "427 Coverage\n",
      "428 Coverage\n",
      "429 Coverage\n",
      "430 Coverage\n",
      "431 Coverage\n",
      "432 Coverage\n",
      "433 Coverage\n",
      "434 Coverage\n",
      "435 Coverage\n",
      "436 Coverage\n",
      "437 Coverage\n",
      "438 Coverage\n",
      "439 Coverage\n",
      "440 Coverage\n",
      "441 Coverage\n",
      "442 Coverage\n",
      "443 Coverage\n",
      "444 Coverage\n",
      "445 Coverage\n",
      "446 Coverage\n",
      "447 Coverage\n",
      "448 Coverage\n",
      "449 Coverage\n",
      "450 Coverage\n",
      "451 Coverage\n",
      "452 Coverage\n",
      "453 Coverage\n",
      "454 Coverage\n",
      "455 Coverage\n",
      "456 Coverage\n",
      "457 Coverage\n",
      "458 Coverage\n",
      "459 Coverage\n",
      "460 Coverage\n",
      "461 Coverage\n",
      "462 Coverage\n",
      "463 Coverage\n",
      "464 Coverage\n",
      "465 Coverage\n",
      "466 Encounter\n",
      "467 Encounter\n",
      "468 Encounter\n",
      "469 Encounter\n",
      "470 Encounter\n",
      "471 Encounter\n",
      "472 Encounter\n",
      "473 Encounter\n",
      "474 Encounter\n",
      "475 Encounter\n",
      "476 Encounter\n",
      "477 Encounter\n",
      "478 Encounter\n",
      "479 Encounter\n",
      "480 Encounter\n",
      "481 Encounter\n",
      "482 Encounter\n",
      "483 Encounter\n",
      "484 Encounter\n",
      "485 Encounter\n",
      "486 Encounter\n",
      "487 Encounter\n",
      "488 Encounter\n",
      "489 Encounter\n",
      "490 Encounter\n",
      "491 Encounter\n",
      "492 Encounter\n",
      "493 Encounter\n",
      "494 Encounter\n",
      "495 Encounter\n",
      "496 Encounter\n",
      "497 Encounter\n",
      "498 Encounter\n",
      "499 Encounter\n",
      "500 Encounter\n",
      "501 Encounter\n",
      "502 Encounter\n",
      "503 Encounter\n",
      "504 Encounter\n",
      "505 Encounter\n",
      "506 Encounter\n",
      "507 Encounter\n",
      "508 Encounter\n",
      "509 Encounter\n",
      "510 Encounter\n",
      "511 Encounter\n",
      "512 Encounter\n",
      "513 Encounter\n",
      "514 Encounter\n",
      "515 Encounter\n",
      "516 Encounter\n",
      "517 Encounter\n",
      "518 Encounter\n",
      "519 Encounter\n",
      "520 Encounter\n",
      "521 Encounter\n",
      "522 Encounter\n",
      "523 Encounter\n",
      "524 Encounter\n",
      "525 Encounter\n",
      "526 Encounter\n",
      "527 Encounter\n",
      "528 Encounter\n",
      "529 Encounter\n",
      "530 Encounter\n",
      "531 Encounter\n",
      "532 Encounter\n",
      "533 Encounter\n",
      "534 Encounter\n",
      "535 Encounter\n",
      "536 Encounter\n",
      "537 Encounter\n",
      "538 Encounter\n",
      "539 Encounter\n",
      "540 Encounter\n",
      "541 Encounter\n",
      "542 Encounter\n",
      "543 Encounter\n",
      "544 Encounter\n",
      "545 Encounter\n",
      "546 Encounter\n",
      "547 Encounter\n",
      "548 Encounter\n",
      "549 Encounter\n",
      "550 Encounter\n",
      "551 Encounter\n",
      "552 Encounter\n",
      "553 Encounter\n",
      "554 Encounter\n",
      "555 Encounter\n",
      "556 Encounter\n",
      "557 Encounter\n",
      "558 Encounter\n",
      "559 Encounter\n",
      "560 Encounter\n"
     ]
    },
    {
     "data": {
      "text/html": [
       "<h1>QR RESOURCE AS YAML</h1>"
      ],
      "text/plain": [
       "<IPython.core.display.HTML object>"
      ]
     },
     "metadata": {},
     "output_type": "display_data"
    },
    {
     "data": {
      "text/html": [
       "<pre style=\"color: blue; background-color: AliceBlue;\">resourceType: QuestionnaireResponse\n",
       "id: argo-pl-q2-qr-5812ffab-0650-47e1-ae6c-c32d4d0b330d\n",
       "meta:\n",
       "  versionId: '1'\n",
       "  lastUpdated: '2020-12-22T21:43:46-08:00'\n",
       "  source: Health_eData_Inc\n",
       "  tag:\n",
       "  - code: 2020-Sep\n",
       "  - code: 2021-Jan\n",
       "questionnaire: http://www.fhir.org/guides/argonaut/patient-list/Questionniare/argo-pl-q2\n",
       "status: completed\n",
       "subject:\n",
       "  reference: Patient/5812ffab-0650-47e1-ae6c-c32d4d0b330d\n",
       "  display: Ms. Adrienne302 Hansen121\n",
       "authored: '2020-12-26T10:33:40.341656Z'\n",
       "item:\n",
       "- linkId: q1\n",
       "  text: COVID Contact\n",
       "  answer:\n",
       "  - valueBoolean: false\n",
       "- linkId: q2\n",
       "  text: Age/Legal Sex\n",
       "  answer:\n",
       "  - valueString: 89/Male\n",
       "- linkId: q3\n",
       "  text: SAPS II Score\n",
       "  answer:\n",
       "  - valueInteger: 21\n",
       "- linkId: q4\n",
       "  text: SAPS II Score change\n",
       "  answer:\n",
       "  - valueInteger: -2\n",
       "- linkId: q5\n",
       "  text: SOFA Score\n",
       "  answer:\n",
       "  - valueInteger: 1\n",
       "- linkId: q6\n",
       "  text: Unit\n",
       "  answer:\n",
       "  - valueString: ICU\n",
       "</pre>"
      ],
      "text/plain": [
       "<IPython.core.display.HTML object>"
      ]
     },
     "metadata": {},
     "output_type": "display_data"
    },
    {
     "data": {
      "text/html": [
       "...validating...&#9203;"
      ],
      "text/plain": [
       "<IPython.core.display.HTML object>"
      ]
     },
     "metadata": {},
     "output_type": "display_data"
    },
    {
     "ename": "JSONDecodeError",
     "evalue": "Expecting value: line 1 column 1 (char 0)",
     "output_type": "error",
     "traceback": [
      "\u001b[0;31m---------------------------------------------------------------------------\u001b[0m",
      "\u001b[0;31mJSONDecodeError\u001b[0m                           Traceback (most recent call last)",
      "\u001b[0;32m<ipython-input-8-47b149770caa>\u001b[0m in \u001b[0;36m<module>\u001b[0;34m\u001b[0m\n\u001b[1;32m    124\u001b[0m     \u001b[0mdisplay\u001b[0m\u001b[0;34m(\u001b[0m\u001b[0mHTML\u001b[0m\u001b[0;34m(\u001b[0m\u001b[0;34m'...validating...&#9203;'\u001b[0m\u001b[0;34m)\u001b[0m\u001b[0;34m)\u001b[0m\u001b[0;34m\u001b[0m\u001b[0;34m\u001b[0m\u001b[0m\n\u001b[1;32m    125\u001b[0m     \u001b[0mr\u001b[0m \u001b[0;34m=\u001b[0m \u001b[0mvalidate\u001b[0m\u001b[0;34m(\u001b[0m\u001b[0mi\u001b[0m\u001b[0;34m)\u001b[0m\u001b[0;34m\u001b[0m\u001b[0;34m\u001b[0m\u001b[0m\n\u001b[0;32m--> 126\u001b[0;31m     \u001b[0mdisplay\u001b[0m\u001b[0;34m(\u001b[0m\u001b[0mHTML\u001b[0m\u001b[0;34m(\u001b[0m\u001b[0;34mf'<h2>Validation output</h1><h2>Status Code = {r.status_code}</h3> {r.json()[\"text\"][\"div\"]}<hr><hr>'\u001b[0m\u001b[0;34m)\u001b[0m\u001b[0;34m)\u001b[0m\u001b[0;34m\u001b[0m\u001b[0;34m\u001b[0m\u001b[0m\n\u001b[0m\u001b[1;32m    127\u001b[0m \u001b[0;34m\u001b[0m\u001b[0m\n\u001b[1;32m    128\u001b[0m \u001b[0;32mfor\u001b[0m \u001b[0mi\u001b[0m \u001b[0;32min\u001b[0m \u001b[0mmy_appts\u001b[0m\u001b[0;34m:\u001b[0m\u001b[0;34m\u001b[0m\u001b[0;34m\u001b[0m\u001b[0m\n",
      "\u001b[0;32m~/Documents/Python/Venv/venv37/lib/python3.7/site-packages/requests/models.py\u001b[0m in \u001b[0;36mjson\u001b[0;34m(self, **kwargs)\u001b[0m\n\u001b[1;32m    895\u001b[0m                     \u001b[0;31m# used.\u001b[0m\u001b[0;34m\u001b[0m\u001b[0;34m\u001b[0m\u001b[0;34m\u001b[0m\u001b[0m\n\u001b[1;32m    896\u001b[0m                     \u001b[0;32mpass\u001b[0m\u001b[0;34m\u001b[0m\u001b[0;34m\u001b[0m\u001b[0m\n\u001b[0;32m--> 897\u001b[0;31m         \u001b[0;32mreturn\u001b[0m \u001b[0mcomplexjson\u001b[0m\u001b[0;34m.\u001b[0m\u001b[0mloads\u001b[0m\u001b[0;34m(\u001b[0m\u001b[0mself\u001b[0m\u001b[0;34m.\u001b[0m\u001b[0mtext\u001b[0m\u001b[0;34m,\u001b[0m \u001b[0;34m**\u001b[0m\u001b[0mkwargs\u001b[0m\u001b[0;34m)\u001b[0m\u001b[0;34m\u001b[0m\u001b[0;34m\u001b[0m\u001b[0m\n\u001b[0m\u001b[1;32m    898\u001b[0m \u001b[0;34m\u001b[0m\u001b[0m\n\u001b[1;32m    899\u001b[0m     \u001b[0;34m@\u001b[0m\u001b[0mproperty\u001b[0m\u001b[0;34m\u001b[0m\u001b[0;34m\u001b[0m\u001b[0m\n",
      "\u001b[0;32m/Library/Frameworks/Python.framework/Versions/3.7/lib/python3.7/json/__init__.py\u001b[0m in \u001b[0;36mloads\u001b[0;34m(s, encoding, cls, object_hook, parse_float, parse_int, parse_constant, object_pairs_hook, **kw)\u001b[0m\n\u001b[1;32m    346\u001b[0m             \u001b[0mparse_int\u001b[0m \u001b[0;32mis\u001b[0m \u001b[0;32mNone\u001b[0m \u001b[0;32mand\u001b[0m \u001b[0mparse_float\u001b[0m \u001b[0;32mis\u001b[0m \u001b[0;32mNone\u001b[0m \u001b[0;32mand\u001b[0m\u001b[0;34m\u001b[0m\u001b[0;34m\u001b[0m\u001b[0m\n\u001b[1;32m    347\u001b[0m             parse_constant is None and object_pairs_hook is None and not kw):\n\u001b[0;32m--> 348\u001b[0;31m         \u001b[0;32mreturn\u001b[0m \u001b[0m_default_decoder\u001b[0m\u001b[0;34m.\u001b[0m\u001b[0mdecode\u001b[0m\u001b[0;34m(\u001b[0m\u001b[0ms\u001b[0m\u001b[0;34m)\u001b[0m\u001b[0;34m\u001b[0m\u001b[0;34m\u001b[0m\u001b[0m\n\u001b[0m\u001b[1;32m    349\u001b[0m     \u001b[0;32mif\u001b[0m \u001b[0mcls\u001b[0m \u001b[0;32mis\u001b[0m \u001b[0;32mNone\u001b[0m\u001b[0;34m:\u001b[0m\u001b[0;34m\u001b[0m\u001b[0;34m\u001b[0m\u001b[0m\n\u001b[1;32m    350\u001b[0m         \u001b[0mcls\u001b[0m \u001b[0;34m=\u001b[0m \u001b[0mJSONDecoder\u001b[0m\u001b[0;34m\u001b[0m\u001b[0;34m\u001b[0m\u001b[0m\n",
      "\u001b[0;32m/Library/Frameworks/Python.framework/Versions/3.7/lib/python3.7/json/decoder.py\u001b[0m in \u001b[0;36mdecode\u001b[0;34m(self, s, _w)\u001b[0m\n\u001b[1;32m    335\u001b[0m \u001b[0;34m\u001b[0m\u001b[0m\n\u001b[1;32m    336\u001b[0m         \"\"\"\n\u001b[0;32m--> 337\u001b[0;31m         \u001b[0mobj\u001b[0m\u001b[0;34m,\u001b[0m \u001b[0mend\u001b[0m \u001b[0;34m=\u001b[0m \u001b[0mself\u001b[0m\u001b[0;34m.\u001b[0m\u001b[0mraw_decode\u001b[0m\u001b[0;34m(\u001b[0m\u001b[0ms\u001b[0m\u001b[0;34m,\u001b[0m \u001b[0midx\u001b[0m\u001b[0;34m=\u001b[0m\u001b[0m_w\u001b[0m\u001b[0;34m(\u001b[0m\u001b[0ms\u001b[0m\u001b[0;34m,\u001b[0m \u001b[0;36m0\u001b[0m\u001b[0;34m)\u001b[0m\u001b[0;34m.\u001b[0m\u001b[0mend\u001b[0m\u001b[0;34m(\u001b[0m\u001b[0;34m)\u001b[0m\u001b[0;34m)\u001b[0m\u001b[0;34m\u001b[0m\u001b[0;34m\u001b[0m\u001b[0m\n\u001b[0m\u001b[1;32m    338\u001b[0m         \u001b[0mend\u001b[0m \u001b[0;34m=\u001b[0m \u001b[0m_w\u001b[0m\u001b[0;34m(\u001b[0m\u001b[0ms\u001b[0m\u001b[0;34m,\u001b[0m \u001b[0mend\u001b[0m\u001b[0;34m)\u001b[0m\u001b[0;34m.\u001b[0m\u001b[0mend\u001b[0m\u001b[0;34m(\u001b[0m\u001b[0;34m)\u001b[0m\u001b[0;34m\u001b[0m\u001b[0;34m\u001b[0m\u001b[0m\n\u001b[1;32m    339\u001b[0m         \u001b[0;32mif\u001b[0m \u001b[0mend\u001b[0m \u001b[0;34m!=\u001b[0m \u001b[0mlen\u001b[0m\u001b[0;34m(\u001b[0m\u001b[0ms\u001b[0m\u001b[0;34m)\u001b[0m\u001b[0;34m:\u001b[0m\u001b[0;34m\u001b[0m\u001b[0;34m\u001b[0m\u001b[0m\n",
      "\u001b[0;32m/Library/Frameworks/Python.framework/Versions/3.7/lib/python3.7/json/decoder.py\u001b[0m in \u001b[0;36mraw_decode\u001b[0;34m(self, s, idx)\u001b[0m\n\u001b[1;32m    353\u001b[0m             \u001b[0mobj\u001b[0m\u001b[0;34m,\u001b[0m \u001b[0mend\u001b[0m \u001b[0;34m=\u001b[0m \u001b[0mself\u001b[0m\u001b[0;34m.\u001b[0m\u001b[0mscan_once\u001b[0m\u001b[0;34m(\u001b[0m\u001b[0ms\u001b[0m\u001b[0;34m,\u001b[0m \u001b[0midx\u001b[0m\u001b[0;34m)\u001b[0m\u001b[0;34m\u001b[0m\u001b[0;34m\u001b[0m\u001b[0m\n\u001b[1;32m    354\u001b[0m         \u001b[0;32mexcept\u001b[0m \u001b[0mStopIteration\u001b[0m \u001b[0;32mas\u001b[0m \u001b[0merr\u001b[0m\u001b[0;34m:\u001b[0m\u001b[0;34m\u001b[0m\u001b[0;34m\u001b[0m\u001b[0m\n\u001b[0;32m--> 355\u001b[0;31m             \u001b[0;32mraise\u001b[0m \u001b[0mJSONDecodeError\u001b[0m\u001b[0;34m(\u001b[0m\u001b[0;34m\"Expecting value\"\u001b[0m\u001b[0;34m,\u001b[0m \u001b[0ms\u001b[0m\u001b[0;34m,\u001b[0m \u001b[0merr\u001b[0m\u001b[0;34m.\u001b[0m\u001b[0mvalue\u001b[0m\u001b[0;34m)\u001b[0m \u001b[0;32mfrom\u001b[0m \u001b[0;32mNone\u001b[0m\u001b[0;34m\u001b[0m\u001b[0;34m\u001b[0m\u001b[0m\n\u001b[0m\u001b[1;32m    356\u001b[0m         \u001b[0;32mreturn\u001b[0m \u001b[0mobj\u001b[0m\u001b[0;34m,\u001b[0m \u001b[0mend\u001b[0m\u001b[0;34m\u001b[0m\u001b[0;34m\u001b[0m\u001b[0m\n",
      "\u001b[0;31mJSONDecodeError\u001b[0m: Expecting value: line 1 column 1 (char 0)"
     ]
    }
   ],
   "source": [
    "def make_QuestionnaireResponse():\n",
    "    '''\n",
    "    make  QR resource based on type and return resource id and bundle up QRs \n",
    "    '''\n",
    "    p_id = get_id(pyfhir.subject)\n",
    "    my_qr = qr.QuestionnaireResponse(FHIR_templates.qr_template) # instantiate QR from premade template\n",
    "    my_qr.id = f'{q_id}-qr-{p_id}'\n",
    "    if pl_use_case == \"all\":  # only need to do to create the references resources once this once ASSUMES START WITH 'ALL'\n",
    "        my_qr.subject.reference = f'Patient/{p_id}'\n",
    "        my_qr.subject.display = pyfhir.subject.display\n",
    "        now = f'{datetime.now().isoformat()}Z'\n",
    "        my_qr.authored = fhirdate.FHIRDate(now)\n",
    "        #get source data using FHIR RESTful Searches for items 0 and 1\n",
    "        # *********************** QR RESPONSES ************************                                                      \n",
    "        my_qr.item[2].answer[0].valueInteger = randrange(13,45,1)\n",
    "        my_qr.item[3].answer[0].valueInteger = randrange(-10,10,1)\n",
    "        my_qr.item[4].answer[0].valueInteger = randrange(1,9,1)\n",
    "        my_qr.item[1].answer[0].valueString =  f'{randrange(20,90,1)}/{choice([\"Male\",\"Female\"])}'\n",
    "        #print(to_yaml(my_qr))\n",
    "        my_qrs.append(my_qr)\n",
    "    return my_qr.id\n",
    "    \n",
    "    \n",
    "def make_Appointment():\n",
    "    '''\n",
    "    make resource Appts resource and return resource id and bundle up Appts \n",
    "    '''\n",
    "    p_id = get_id(pyfhir.subject)\n",
    "    my_appt = a.Appointment(FHIR_templates.appt_template) # instantiate Appt from premade template\n",
    "    my_appt.id  =  f'{my_appt.id}-{p_id}'\n",
    "    if pl_use_case == \"all\":  # only need to do to create the references resources once this once ASSUMES START WITH ALL\n",
    "        pyfhir.appointment = [fhirreference.FHIRReference({'reference':f'Appointment/{my_appt.id}'})]  #assign appt to encounter too and update in transaction\n",
    "        my_encs.append(pyfhir)\n",
    "        my_appt.participant[0].actor.reference = f'Patient/{p_id}'\n",
    "        my_appt.participant[0].actor.display = pyfhir.subject.display\n",
    "        my_appt.participant[1].actor.reference = pyfhir.participant[0].individual.reference\n",
    "        my_appt.participant[1].actor.display = pyfhir.participant[0].individual.display\n",
    "        my_appt.participant[2].actor.reference = pyfhir.location[0].location.reference\n",
    "        my_appt.participant[2].actor.display = pyfhir.location[0].location.display\n",
    "        #print(to_yaml(my_appt))\n",
    "        now = datetime.now(timezone.utc)\n",
    "        then = now + timedelta(minutes=30)\n",
    "        my_appt.start = fhirdate.FHIRDate(now.isoformat())\n",
    "        my_appt.end = fhirdate.FHIRDate(then.isoformat())\n",
    "        my_appts.append(my_appt)\n",
    "    return my_appt.id\n",
    "\n",
    "def get_my_ext(r_type, **kwargs):\n",
    "    p_id = get_id(pyfhir.subject)\n",
    "    \n",
    "    my_id = globals()[f'make_{r_type}']() #  eg make_qr() make resource based on type and return resource id\n",
    "    \n",
    "    my_ref = dict(\n",
    "    reference = f'{r_type}/{my_id}',\n",
    "    display = f'Argo PL List Test {r_type} {my_id}',\n",
    "     )\n",
    "    my_url = globals()[f'{r_type}_ext_url']\n",
    "    #print(my_url)\n",
    "    my_extension = dict(\n",
    "     url = my_url,\n",
    "     valueReference = my_ref,\n",
    "    )\n",
    "    #print(to_yaml(my_extension))\n",
    "    return my_extension\n",
    "    \n",
    "my_qrs = []\n",
    "my_appts = []\n",
    "my_encs = []\n",
    "for count, i in enumerate(my_bundle.entry):\n",
    "    print(count, i.resource.resource_type)\n",
    "    my_chars = []\n",
    "    pyfhir = i.resource\n",
    "    if pyfhir.resource_type == \"Encounter\":\n",
    "        #print(count,':',pyfhir.resource_type ,i.fullUrl, i.request ) \n",
    "        sp_id = get_id(pyfhir.serviceProvider)\n",
    "        \n",
    "        my_chars.append(get_id(pyfhir.participant[0].individual))\n",
    "      \n",
    "        my_chars.append(get_id(pyfhir.location[0].location))\n",
    "        #print(count, my_chars)\n",
    "        my_enc_ext = dict(\n",
    "                     url = enc_ext_url,\n",
    "                     valueReference = {'reference': f'Encounter/{pyfhir.id}', \n",
    "                                       'display': f'Argo PL List Test Encounter {pyfhir.id}',\n",
    "                                      },\n",
    "                        )\n",
    "        my_qr_ext = get_my_ext(r_type=\"QuestionnaireResponse\")\n",
    "        #print(my_qr_ext)\n",
    "        my_appt_ext = get_my_ext(r_type=\"Appointment\")\n",
    "        my_su = dict(\n",
    "                reference = f\"Patient/{get_id(pyfhir.subject)}\",\n",
    "                display = f\"{pyfhir.subject.display}\",\n",
    "                )\n",
    "        my_member = group.GroupMember(\n",
    "            dict(\n",
    "                extension = [my_appt_ext,my_enc_ext,my_qr_ext,],\n",
    "                entity = my_su,\n",
    "                period = {'start': str(date.today())},\n",
    "                inactive = False,\n",
    "                )\n",
    "            )\n",
    "        #print(f'my_member = {dumps(my_member.as_json(), indent=4)}')\n",
    "        # iterate through the groups an append to Group with ME == ServiceProvider\n",
    "        # and characteristice = characteristic  maintaining a set for each group\n",
    "        for g in my_groups: # assuming a single characteristic for now..\n",
    "            me_id =  get_id(g.managingEntity)\n",
    "            #print(g.characteristic[0].valueReference)\n",
    "            if pl_use_case == \"all\" or get_id(g.characteristic[0].valueReference) in my_chars:\n",
    "                #print(f'my_member.entity.reference ={my_member.entity.reference}')\n",
    "                if me_id == sp_id and my_member.entity.reference not in my_members[g.id]:\n",
    "                    try:\n",
    "                        g.member.append(my_member)\n",
    "                    except AttributeError:\n",
    "                        g.member=[my_member]\n",
    "                    my_members[g.id].add(my_member.entity.reference)\n",
    "                    #print(f'my_members = {my_members}')\n",
    "            g.quantity = len(my_members[g.id])\n",
    "\n",
    "\n",
    "   \n",
    "for i in my_qrs:\n",
    "    display(HTML('<h1>QR RESOURCE AS YAML</h1>'))\n",
    "    display(HTML(f'<pre style=\"color: blue; background-color: AliceBlue;\">{to_yaml(i)}</pre>'))\n",
    "    display(HTML('...validating...&#9203;'))\n",
    "    r = validate(i)\n",
    "    display(HTML(f'<h2>Validation output</h1><h2>Status Code = {r.status_code}</h3> {r.json()[\"text\"][\"div\"]}<hr><hr>'))\n",
    "            \n",
    "for i in my_appts:\n",
    "    display(HTML('<h1>APPT RESOURCE AS YAML</h1>'))\n",
    "    display(HTML(f'<pre style=\"color: blue; background-color: AliceBlue;\">{to_yaml(i)}</pre>'))\n",
    "    display(HTML('...validating...&#9203;'))\n",
    "    r = validate(i)\n",
    "    display(HTML(f'<h2>Validation output</h1><h2>Status Code = {r.status_code}</h3> {r.json()[\"text\"][\"div\"]}<hr><hr>'))\n",
    "    \n",
    "for i in my_encs:\n",
    "    display(HTML('<h1>ENCOUNTER RESOURCE AS YAML</h1>'))\n",
    "    display(HTML(f'<pre style=\"color: blue; background-color: AliceBlue;\">{to_yaml(i)}</pre>'))\n",
    "    display(HTML('...validating...&#9203;'))\n",
    "    r = validate(i)\n",
    "    display(HTML(f'<h2>Validation output</h1><h2>Status Code = {r.status_code}</h3> {r.json()[\"text\"][\"div\"]}<hr><hr>'))\n",
    "\n",
    "for i in my_groups:\n",
    "    display(HTML('<h1>GROUP RESOURCE AS YAML</h1>'))\n",
    "    display(HTML(f'<h3>Quantity = {i.quantity}</h3>'))\n",
    "    display(HTML(f'<pre style=\"color: blue; background-color: AliceBlue;\">{to_yaml(i)}</pre>'))\n",
    "    display(HTML('...validating...&#9203;'))\n",
    "    r = validate(i)\n",
    "    display(HTML(f'<h2>Validation output</h1><h2>Status Code = {r.status_code}</h3> {r.json()[\"text\"][\"div\"]} <hr><hr>'))"
   ]
  },
  {
   "cell_type": "markdown",
   "metadata": {},
   "source": [
    "### Creat A Single Characteristic Group\n",
    "based on Encounter add Location and Practitioner to start (TODO add Organization and CareTeam when define these resources ( what does Organization mean?))\n",
    "\n",
    "1. loop through \"all\" groups in group list\n",
    "1. loop through the characteristic list\n",
    "1. edit \"all\" group for characteristic\n",
    "    - change id, name, dates\n",
    "    - add characteristic\n",
    "    - edit members based on Encounter data\n",
    "    - update quantity\n",
    "1. add to group List"
   ]
  },
  {
   "cell_type": "code",
   "execution_count": 7,
   "metadata": {},
   "outputs": [
    {
     "data": {
      "text/html": [
       "......create Char based Groups...... &#9203;"
      ],
      "text/plain": [
       "<IPython.core.display.HTML object>"
      ]
     },
     "metadata": {},
     "output_type": "display_data"
    },
    {
     "name": "stdout",
     "output_type": "stream",
     "text": [
      "==========================\n",
      "g = argo-pl-group-all-1000, 3\n"
     ]
    },
    {
     "data": {
      "text/html": [
       "<h3>Use Case = location for NORTH SHORE MEDICAL CENTER g_counter= 0, uc_counter = 1</h3>"
      ],
      "text/plain": [
       "<IPython.core.display.HTML object>"
      ]
     },
     "metadata": {},
     "output_type": "display_data"
    },
    {
     "name": "stdout",
     "output_type": "stream",
     "text": [
      "1000 1001\n",
      "new id = argo-pl-group-location-1001\n",
      "new name = Argo Patient List: \"location\" Use Case 1001\n"
     ]
    },
    {
     "data": {
      "text/html": [
       "<h3>Use Case = location for SOUTH SHORE HOSPITAL g_counter= 0, uc_counter = 2</h3>"
      ],
      "text/plain": [
       "<IPython.core.display.HTML object>"
      ]
     },
     "metadata": {},
     "output_type": "display_data"
    },
    {
     "name": "stdout",
     "output_type": "stream",
     "text": [
      "1000 1002\n",
      "new id = argo-pl-group-location-1002\n",
      "new name = Argo Patient List: \"location\" Use Case 1002\n"
     ]
    },
    {
     "data": {
      "text/html": [
       "<h3>Use Case = location for GOOD SAMARITAN MEDICAL CENTER g_counter= 0, uc_counter = 3</h3>"
      ],
      "text/plain": [
       "<IPython.core.display.HTML object>"
      ]
     },
     "metadata": {},
     "output_type": "display_data"
    },
    {
     "name": "stdout",
     "output_type": "stream",
     "text": [
      "1000 1003\n",
      "new id = argo-pl-group-location-1003\n",
      "new name = Argo Patient List: \"location\" Use Case 1003\n"
     ]
    },
    {
     "data": {
      "text/html": [
       "<h3>Use Case = practitioner for Dr. Kira861 Mayert710 g_counter= 0, uc_counter = 4</h3>"
      ],
      "text/plain": [
       "<IPython.core.display.HTML object>"
      ]
     },
     "metadata": {},
     "output_type": "display_data"
    },
    {
     "name": "stdout",
     "output_type": "stream",
     "text": [
      "1000 1004\n",
      "new id = argo-pl-group-practitioner-1004\n",
      "new name = Argo Patient List: \"practitioner\" Use Case 1004\n"
     ]
    },
    {
     "data": {
      "text/html": [
       "<h3>Use Case = practitioner for Dr. Carmelia328 Walter473 g_counter= 0, uc_counter = 5</h3>"
      ],
      "text/plain": [
       "<IPython.core.display.HTML object>"
      ]
     },
     "metadata": {},
     "output_type": "display_data"
    },
    {
     "name": "stdout",
     "output_type": "stream",
     "text": [
      "1000 1005\n",
      "new id = argo-pl-group-practitioner-1005\n",
      "new name = Argo Patient List: \"practitioner\" Use Case 1005\n"
     ]
    },
    {
     "data": {
      "text/html": [
       "<h3>Use Case = practitioner for Dr. Jaime666 Paredes726 g_counter= 0, uc_counter = 6</h3>"
      ],
      "text/plain": [
       "<IPython.core.display.HTML object>"
      ]
     },
     "metadata": {},
     "output_type": "display_data"
    },
    {
     "name": "stdout",
     "output_type": "stream",
     "text": [
      "1000 1006\n",
      "new id = argo-pl-group-practitioner-1006\n",
      "new name = Argo Patient List: \"practitioner\" Use Case 1006\n",
      "==========================\n",
      "g = argo-pl-group-all-2000, 3\n"
     ]
    },
    {
     "data": {
      "text/html": [
       "<h3>Use Case = location for BAYSTATE FRANKLIN MEDICAL CENTER g_counter= 1, uc_counter = 1</h3>"
      ],
      "text/plain": [
       "<IPython.core.display.HTML object>"
      ]
     },
     "metadata": {},
     "output_type": "display_data"
    },
    {
     "name": "stdout",
     "output_type": "stream",
     "text": [
      "2000 2001\n",
      "new id = argo-pl-group-location-2001\n",
      "new name = Argo Patient List: \"location\" Use Case 2001\n"
     ]
    },
    {
     "data": {
      "text/html": [
       "<h3>Use Case = location for HOLYOKE MEDICAL CENTER g_counter= 1, uc_counter = 2</h3>"
      ],
      "text/plain": [
       "<IPython.core.display.HTML object>"
      ]
     },
     "metadata": {},
     "output_type": "display_data"
    },
    {
     "name": "stdout",
     "output_type": "stream",
     "text": [
      "2000 2002\n",
      "new id = argo-pl-group-location-2002\n",
      "new name = Argo Patient List: \"location\" Use Case 2002\n"
     ]
    },
    {
     "data": {
      "text/html": [
       "<h3>Use Case = location for ST VINCENT HOSPITAL g_counter= 1, uc_counter = 3</h3>"
      ],
      "text/plain": [
       "<IPython.core.display.HTML object>"
      ]
     },
     "metadata": {},
     "output_type": "display_data"
    },
    {
     "name": "stdout",
     "output_type": "stream",
     "text": [
      "2000 2003\n",
      "new id = argo-pl-group-location-2003\n",
      "new name = Argo Patient List: \"location\" Use Case 2003\n"
     ]
    },
    {
     "data": {
      "text/html": [
       "<h3>Use Case = practitioner for Dr. Adriana394 Dickinson688 g_counter= 1, uc_counter = 4</h3>"
      ],
      "text/plain": [
       "<IPython.core.display.HTML object>"
      ]
     },
     "metadata": {},
     "output_type": "display_data"
    },
    {
     "name": "stdout",
     "output_type": "stream",
     "text": [
      "2000 2004\n",
      "new id = argo-pl-group-practitioner-2004\n",
      "new name = Argo Patient List: \"practitioner\" Use Case 2004\n"
     ]
    },
    {
     "data": {
      "text/html": [
       "<h3>Use Case = practitioner for Dr. Francie486 Marks830 g_counter= 1, uc_counter = 5</h3>"
      ],
      "text/plain": [
       "<IPython.core.display.HTML object>"
      ]
     },
     "metadata": {},
     "output_type": "display_data"
    },
    {
     "name": "stdout",
     "output_type": "stream",
     "text": [
      "2000 2005\n",
      "new id = argo-pl-group-practitioner-2005\n",
      "new name = Argo Patient List: \"practitioner\" Use Case 2005\n"
     ]
    },
    {
     "data": {
      "text/html": [
       "<h3>Use Case = practitioner for Dr. Corinna386 Beer512 g_counter= 1, uc_counter = 6</h3>"
      ],
      "text/plain": [
       "<IPython.core.display.HTML object>"
      ]
     },
     "metadata": {},
     "output_type": "display_data"
    },
    {
     "name": "stdout",
     "output_type": "stream",
     "text": [
      "2000 2006\n",
      "new id = argo-pl-group-practitioner-2006\n",
      "new name = Argo Patient List: \"practitioner\" Use Case 2006\n",
      "==========================\n",
      "g = argo-pl-group-all-3000, 3\n"
     ]
    },
    {
     "data": {
      "text/html": [
       "<h3>Use Case = location for BRIGHAM AND WOMEN'S HOSPITAL g_counter= 2, uc_counter = 1</h3>"
      ],
      "text/plain": [
       "<IPython.core.display.HTML object>"
      ]
     },
     "metadata": {},
     "output_type": "display_data"
    },
    {
     "name": "stdout",
     "output_type": "stream",
     "text": [
      "3000 3001\n",
      "new id = argo-pl-group-location-3001\n",
      "new name = Argo Patient List: \"location\" Use Case 3001\n"
     ]
    },
    {
     "data": {
      "text/html": [
       "<h3>Use Case = location for CARNEY HOSPITAL g_counter= 2, uc_counter = 2</h3>"
      ],
      "text/plain": [
       "<IPython.core.display.HTML object>"
      ]
     },
     "metadata": {},
     "output_type": "display_data"
    },
    {
     "name": "stdout",
     "output_type": "stream",
     "text": [
      "3000 3002\n",
      "new id = argo-pl-group-location-3002\n",
      "new name = Argo Patient List: \"location\" Use Case 3002\n"
     ]
    },
    {
     "data": {
      "text/html": [
       "<h3>Use Case = location for BETH ISRAEL DEACONESS HOSPITAL - PLYMOUTH g_counter= 2, uc_counter = 3</h3>"
      ],
      "text/plain": [
       "<IPython.core.display.HTML object>"
      ]
     },
     "metadata": {},
     "output_type": "display_data"
    },
    {
     "name": "stdout",
     "output_type": "stream",
     "text": [
      "3000 3003\n",
      "new id = argo-pl-group-location-3003\n",
      "new name = Argo Patient List: \"location\" Use Case 3003\n"
     ]
    },
    {
     "data": {
      "text/html": [
       "<h3>Use Case = practitioner for Dr. Johnetta529 Kiehn525 g_counter= 2, uc_counter = 4</h3>"
      ],
      "text/plain": [
       "<IPython.core.display.HTML object>"
      ]
     },
     "metadata": {},
     "output_type": "display_data"
    },
    {
     "name": "stdout",
     "output_type": "stream",
     "text": [
      "3000 3004\n",
      "new id = argo-pl-group-practitioner-3004\n",
      "new name = Argo Patient List: \"practitioner\" Use Case 3004\n"
     ]
    },
    {
     "data": {
      "text/html": [
       "<h3>Use Case = practitioner for Dr. Sharan181 Reichel38 g_counter= 2, uc_counter = 5</h3>"
      ],
      "text/plain": [
       "<IPython.core.display.HTML object>"
      ]
     },
     "metadata": {},
     "output_type": "display_data"
    },
    {
     "name": "stdout",
     "output_type": "stream",
     "text": [
      "3000 3005\n",
      "new id = argo-pl-group-practitioner-3005\n",
      "new name = Argo Patient List: \"practitioner\" Use Case 3005\n"
     ]
    },
    {
     "data": {
      "text/html": [
       "<h3>Use Case = practitioner for Dr. Ressie457 Wyman904 g_counter= 2, uc_counter = 6</h3>"
      ],
      "text/plain": [
       "<IPython.core.display.HTML object>"
      ]
     },
     "metadata": {},
     "output_type": "display_data"
    },
    {
     "name": "stdout",
     "output_type": "stream",
     "text": [
      "3000 3006\n",
      "new id = argo-pl-group-practitioner-3006\n",
      "new name = Argo Patient List: \"practitioner\" Use Case 3006\n"
     ]
    },
    {
     "data": {
      "text/html": [
       "<h1>NEW GROUP RESOURCE AS YAML</h1>"
      ],
      "text/plain": [
       "<IPython.core.display.HTML object>"
      ]
     },
     "metadata": {},
     "output_type": "display_data"
    },
    {
     "data": {
      "text/html": [
       "<h3>Quantity = 11</h3>"
      ],
      "text/plain": [
       "<IPython.core.display.HTML object>"
      ]
     },
     "metadata": {},
     "output_type": "display_data"
    },
    {
     "data": {
      "text/html": [
       "<pre style=\"color: blue; background-color: AliceBlue;\">resourceType: Group\n",
       "id: argo-pl-group-location-1001\n",
       "meta:\n",
       "  lastUpdated: '2020-12-26T10:31:22.080837Z'\n",
       "  source: Health_eData_Inc\n",
       "  profile:\n",
       "  - http://www.fhir.org/guides/argonaut/patient-list/StructureDefinition/patientlist\n",
       "  tag:\n",
       "  - code: 2020-Sep\n",
       "  - code: 2021-Jan\n",
       "extension:\n",
       "- url: http://www.fhir.org/guides/argonaut/patient-list/StructureDefinition/patientlist-questionnaire\n",
       "  valueReference:\n",
       "    reference: Questionnaire/argo-pl-q2\n",
       "    display: Argo PL List Test Questionnaire id=argo-pl-q2\n",
       "identifier:\n",
       "- system: http://example.org/fhir/identifiers\n",
       "  value: argo-pl-group-all-1000\n",
       "active: true\n",
       "type: person\n",
       "actual: true\n",
       "name: 'Argo Patient List: \"location\" Use Case 1001'\n",
       "quantity: 11\n",
       "managingEntity:\n",
       "  reference: Organization/37c0de84-bcaf-3624-82bf-a89b2ac441b8\n",
       "  display: BEVERLY HOSPITAL CORPORATION\n",
       "characteristic:\n",
       "- code:\n",
       "    coding:\n",
       "    - system: http://www.fhir.org/guides/argonaut/patient-list/CodeSystem/group-characteristic\n",
       "      code: location\n",
       "      display: Location\n",
       "  valueReference:\n",
       "    reference: Location/76785e60-5f8b-4782-903b-78bcfc9da9b1\n",
       "    display: NORTH SHORE MEDICAL CENTER\n",
       "  exclude: false\n",
       "member:\n",
       "- extension:\n",
       "  - url: http://www.fhir.org/guides/argonaut/patient-list/StructureDefinition/patientlist-appointment\n",
       "    valueReference:\n",
       "      reference: Appointment/pl-appt-b26fbdf0-9b79-4807-a380-f84f0ae83aed\n",
       "      display: Argo PL List Test Appointment pl-appt-b26fbdf0-9b79-4807-a380-f84f0ae83aed\n",
       "  - url: http://www.fhir.org/guides/argonaut/patient-list/StructureDefinition/patientlist-encounter\n",
       "    valueReference:\n",
       "      reference: Encounter/c8f7d781-3843-4535-a327-cfd98a76953f\n",
       "      display: Argo PL List Test Encounter c8f7d781-3843-4535-a327-cfd98a76953f\n",
       "  - url: http://www.fhir.org/guides/argonaut/patient-list/StructureDefinition/patientlist-questionnaireresponse\n",
       "    valueReference:\n",
       "      reference: QuestionnaireResponse/argo-pl-q2-qr-b26fbdf0-9b79-4807-a380-f84f0ae83aed\n",
       "      display: Argo PL List Test QuestionnaireResponse argo-pl-q2-qr-b26fbdf0-9b79-4807-a380-f84f0ae83aed\n",
       "  entity:\n",
       "    reference: Patient/b26fbdf0-9b79-4807-a380-f84f0ae83aed\n",
       "    display: Mr. Ervin886 Ferry570\n",
       "  period:\n",
       "    start: '2020-12-26'\n",
       "  inactive: false\n",
       "- extension:\n",
       "  - url: http://www.fhir.org/guides/argonaut/patient-list/StructureDefinition/patientlist-appointment\n",
       "    valueReference:\n",
       "      reference: Appointment/pl-appt-ace1d67a-3083-4f37-a5d6-b5dbea300a93\n",
       "      display: Argo PL List Test Appointment pl-appt-ace1d67a-3083-4f37-a5d6-b5dbea300a93\n",
       "  - url: http://www.fhir.org/guides/argonaut/patient-list/StructureDefinition/patientlist-encounter\n",
       "    valueReference:\n",
       "      reference: Encounter/17a6c372-453d-40e4-83ef-63fd610b816f\n",
       "      display: Argo PL List Test Encounter 17a6c372-453d-40e4-83ef-63fd610b816f\n",
       "  - url: http://www.fhir.org/guides/argonaut/patient-list/StructureDefinition/patientlist-questionnaireresponse\n",
       "    valueReference:\n",
       "      reference: QuestionnaireResponse/argo-pl-q2-qr-ace1d67a-3083-4f37-a5d6-b5dbea300a93\n",
       "      display: Argo PL List Test QuestionnaireResponse argo-pl-q2-qr-ace1d67a-3083-4f37-a5d6-b5dbea300a93\n",
       "  entity:\n",
       "    reference: Patient/ace1d67a-3083-4f37-a5d6-b5dbea300a93\n",
       "    display: Ms. Estelle478 Hayes766\n",
       "  period:\n",
       "    start: '2020-12-26'\n",
       "  inactive: false\n",
       "- extension:\n",
       "  - url: http://www.fhir.org/guides/argonaut/patient-list/StructureDefinition/patientlist-appointment\n",
       "    valueReference:\n",
       "      reference: Appointment/pl-appt-da2393b7-fa96-4686-8a04-7f073585945f\n",
       "      display: Argo PL List Test Appointment pl-appt-da2393b7-fa96-4686-8a04-7f073585945f\n",
       "  - url: http://www.fhir.org/guides/argonaut/patient-list/StructureDefinition/patientlist-encounter\n",
       "    valueReference:\n",
       "      reference: Encounter/da32b3a9-1c54-41e1-b576-2567a346b9ba\n",
       "      display: Argo PL List Test Encounter da32b3a9-1c54-41e1-b576-2567a346b9ba\n",
       "  - url: http://www.fhir.org/guides/argonaut/patient-list/StructureDefinition/patientlist-questionnaireresponse\n",
       "    valueReference:\n",
       "      reference: QuestionnaireResponse/argo-pl-q2-qr-da2393b7-fa96-4686-8a04-7f073585945f\n",
       "      display: Argo PL List Test QuestionnaireResponse argo-pl-q2-qr-da2393b7-fa96-4686-8a04-7f073585945f\n",
       "  entity:\n",
       "    reference: Patient/da2393b7-fa96-4686-8a04-7f073585945f\n",
       "    display: Ms. Gaye230 Boehm581\n",
       "  period:\n",
       "    start: '2020-12-26'\n",
       "  inactive: false\n",
       "- extension:\n",
       "  - url: http://www.fhir.org/guides/argonaut/patient-list/StructureDefinition/patientlist-appointment\n",
       "    valueReference:\n",
       "      reference: Appointment/pl-appt-4f2749c5-058e-44eb-80c9-714caa5a6fa6\n",
       "      display: Argo PL List Test Appointment pl-appt-4f2749c5-058e-44eb-80c9-714caa5a6fa6\n",
       "  - url: http://www.fhir.org/guides/argonaut/patient-list/StructureDefinition/patientlist-encounter\n",
       "    valueReference:\n",
       "      reference: Encounter/e010c93a-2cac-4543-a58e-674381c1a0e6\n",
       "      display: Argo PL List Test Encounter e010c93a-2cac-4543-a58e-674381c1a0e6\n",
       "  - url: http://www.fhir.org/guides/argonaut/patient-list/StructureDefinition/patientlist-questionnaireresponse\n",
       "    valueReference:\n",
       "      reference: QuestionnaireResponse/argo-pl-q2-qr-4f2749c5-058e-44eb-80c9-714caa5a6fa6\n",
       "      display: Argo PL List Test QuestionnaireResponse argo-pl-q2-qr-4f2749c5-058e-44eb-80c9-714caa5a6fa6\n",
       "  entity:\n",
       "    reference: Patient/4f2749c5-058e-44eb-80c9-714caa5a6fa6\n",
       "    display: Mr. Gilbert263 Harber290\n",
       "  period:\n",
       "    start: '2020-12-26'\n",
       "  inactive: false\n",
       "- extension:\n",
       "  - url: http://www.fhir.org/guides/argonaut/patient-list/StructureDefinition/patientlist-appointment\n",
       "    valueReference:\n",
       "      reference: Appointment/pl-appt-350df19c-0070-47cf-b83a-3af55282425a\n",
       "      display: Argo PL List Test Appointment pl-appt-350df19c-0070-47cf-b83a-3af55282425a\n",
       "  - url: http://www.fhir.org/guides/argonaut/patient-list/StructureDefinition/patientlist-encounter\n",
       "    valueReference:\n",
       "      reference: Encounter/f8c7d3fd-9ee7-4d00-b5b7-c49f3a6c5b10\n",
       "      display: Argo PL List Test Encounter f8c7d3fd-9ee7-4d00-b5b7-c49f3a6c5b10\n",
       "  - url: http://www.fhir.org/guides/argonaut/patient-list/StructureDefinition/patientlist-questionnaireresponse\n",
       "    valueReference:\n",
       "      reference: QuestionnaireResponse/argo-pl-q2-qr-350df19c-0070-47cf-b83a-3af55282425a\n",
       "      display: Argo PL List Test QuestionnaireResponse argo-pl-q2-qr-350df19c-0070-47cf-b83a-3af55282425a\n",
       "  entity:\n",
       "    reference: Patient/350df19c-0070-47cf-b83a-3af55282425a\n",
       "    display: Mr. Hunter736 Maggio310\n",
       "  period:\n",
       "    start: '2020-12-26'\n",
       "  inactive: false\n",
       "- extension:\n",
       "  - url: http://www.fhir.org/guides/argonaut/patient-list/StructureDefinition/patientlist-appointment\n",
       "    valueReference:\n",
       "      reference: Appointment/pl-appt-80f05f6c-30e1-497f-9cbf-bfe0915aea17\n",
       "      display: Argo PL List Test Appointment pl-appt-80f05f6c-30e1-497f-9cbf-bfe0915aea17\n",
       "  - url: http://www.fhir.org/guides/argonaut/patient-list/StructureDefinition/patientlist-encounter\n",
       "    valueReference:\n",
       "      reference: Encounter/9f97554e-a3e3-454a-a705-16b677bb9e3b\n",
       "      display: Argo PL List Test Encounter 9f97554e-a3e3-454a-a705-16b677bb9e3b\n",
       "  - url: http://www.fhir.org/guides/argonaut/patient-list/StructureDefinition/patientlist-questionnaireresponse\n",
       "    valueReference:\n",
       "      reference: QuestionnaireResponse/argo-pl-q2-qr-80f05f6c-30e1-497f-9cbf-bfe0915aea17\n",
       "      display: Argo PL List Test QuestionnaireResponse argo-pl-q2-qr-80f05f6c-30e1-497f-9cbf-bfe0915aea17\n",
       "  entity:\n",
       "    reference: Patient/80f05f6c-30e1-497f-9cbf-bfe0915aea17\n",
       "    display: Mr. Javier97 Cortez851\n",
       "  period:\n",
       "    start: '2020-12-26'\n",
       "  inactive: false\n",
       "- extension:\n",
       "  - url: http://www.fhir.org/guides/argonaut/patient-list/StructureDefinition/patientlist-appointment\n",
       "    valueReference:\n",
       "      reference: Appointment/pl-appt-617a2fe9-2bb5-47cf-ae0e-4fb854b77f73\n",
       "      display: Argo PL List Test Appointment pl-appt-617a2fe9-2bb5-47cf-ae0e-4fb854b77f73\n",
       "  - url: http://www.fhir.org/guides/argonaut/patient-list/StructureDefinition/patientlist-encounter\n",
       "    valueReference:\n",
       "      reference: Encounter/59aaf470-b0c3-472a-ae86-25948bc2d83b\n",
       "      display: Argo PL List Test Encounter 59aaf470-b0c3-472a-ae86-25948bc2d83b\n",
       "  - url: http://www.fhir.org/guides/argonaut/patient-list/StructureDefinition/patientlist-questionnaireresponse\n",
       "    valueReference:\n",
       "      reference: QuestionnaireResponse/argo-pl-q2-qr-617a2fe9-2bb5-47cf-ae0e-4fb854b77f73\n",
       "      display: Argo PL List Test QuestionnaireResponse argo-pl-q2-qr-617a2fe9-2bb5-47cf-ae0e-4fb854b77f73\n",
       "  entity:\n",
       "    reference: Patient/617a2fe9-2bb5-47cf-ae0e-4fb854b77f73\n",
       "    display: Mr. Justin359 Schaefer657\n",
       "  period:\n",
       "    start: '2020-12-26'\n",
       "  inactive: false\n",
       "- extension:\n",
       "  - url: http://www.fhir.org/guides/argonaut/patient-list/StructureDefinition/patientlist-appointment\n",
       "    valueReference:\n",
       "      reference: Appointment/pl-appt-75824b7d-b651-45f1-bd33-d9337fba30c6\n",
       "      display: Argo PL List Test Appointment pl-appt-75824b7d-b651-45f1-bd33-d9337fba30c6\n",
       "  - url: http://www.fhir.org/guides/argonaut/patient-list/StructureDefinition/patientlist-encounter\n",
       "    valueReference:\n",
       "      reference: Encounter/449b95c6-4683-4421-af76-8529031f2479\n",
       "      display: Argo PL List Test Encounter 449b95c6-4683-4421-af76-8529031f2479\n",
       "  - url: http://www.fhir.org/guides/argonaut/patient-list/StructureDefinition/patientlist-questionnaireresponse\n",
       "    valueReference:\n",
       "      reference: QuestionnaireResponse/argo-pl-q2-qr-75824b7d-b651-45f1-bd33-d9337fba30c6\n",
       "      display: Argo PL List Test QuestionnaireResponse argo-pl-q2-qr-75824b7d-b651-45f1-bd33-d9337fba30c6\n",
       "  entity:\n",
       "    reference: Patient/75824b7d-b651-45f1-bd33-d9337fba30c6\n",
       "    display: Mr. Kerry175 Mills423\n",
       "  period:\n",
       "    start: '2020-12-26'\n",
       "  inactive: false\n",
       "- extension:\n",
       "  - url: http://www.fhir.org/guides/argonaut/patient-list/StructureDefinition/patientlist-appointment\n",
       "    valueReference:\n",
       "      reference: Appointment/pl-appt-97049c64-c4b0-4caf-b7b7-09481b6c4c5e\n",
       "      display: Argo PL List Test Appointment pl-appt-97049c64-c4b0-4caf-b7b7-09481b6c4c5e\n",
       "  - url: http://www.fhir.org/guides/argonaut/patient-list/StructureDefinition/patientlist-encounter\n",
       "    valueReference:\n",
       "      reference: Encounter/4fea1c7c-c4b4-401a-bae5-1e2a0daf6832\n",
       "      display: Argo PL List Test Encounter 4fea1c7c-c4b4-401a-bae5-1e2a0daf6832\n",
       "  - url: http://www.fhir.org/guides/argonaut/patient-list/StructureDefinition/patientlist-questionnaireresponse\n",
       "    valueReference:\n",
       "      reference: QuestionnaireResponse/argo-pl-q2-qr-97049c64-c4b0-4caf-b7b7-09481b6c4c5e\n",
       "      display: Argo PL List Test QuestionnaireResponse argo-pl-q2-qr-97049c64-c4b0-4caf-b7b7-09481b6c4c5e\n",
       "  entity:\n",
       "    reference: Patient/97049c64-c4b0-4caf-b7b7-09481b6c4c5e\n",
       "    display: Ms. Leisa54 Schaefer657\n",
       "  period:\n",
       "    start: '2020-12-26'\n",
       "  inactive: false\n",
       "- extension:\n",
       "  - url: http://www.fhir.org/guides/argonaut/patient-list/StructureDefinition/patientlist-appointment\n",
       "    valueReference:\n",
       "      reference: Appointment/pl-appt-03160bc5-07d8-4298-85fc-69e5d1ed485d\n",
       "      display: Argo PL List Test Appointment pl-appt-03160bc5-07d8-4298-85fc-69e5d1ed485d\n",
       "  - url: http://www.fhir.org/guides/argonaut/patient-list/StructureDefinition/patientlist-encounter\n",
       "    valueReference:\n",
       "      reference: Encounter/e202fe66-0642-4d20-9fcc-a43871489a6b\n",
       "      display: Argo PL List Test Encounter e202fe66-0642-4d20-9fcc-a43871489a6b\n",
       "  - url: http://www.fhir.org/guides/argonaut/patient-list/StructureDefinition/patientlist-questionnaireresponse\n",
       "    valueReference:\n",
       "      reference: QuestionnaireResponse/argo-pl-q2-qr-03160bc5-07d8-4298-85fc-69e5d1ed485d\n",
       "      display: Argo PL List Test QuestionnaireResponse argo-pl-q2-qr-03160bc5-07d8-4298-85fc-69e5d1ed485d\n",
       "  entity:\n",
       "    reference: Patient/03160bc5-07d8-4298-85fc-69e5d1ed485d\n",
       "    display: Mr. Leopoldo762 Harvey63\n",
       "  period:\n",
       "    start: '2020-12-26'\n",
       "  inactive: false\n",
       "- extension:\n",
       "  - url: http://www.fhir.org/guides/argonaut/patient-list/StructureDefinition/patientlist-appointment\n",
       "    valueReference:\n",
       "      reference: Appointment/pl-appt-b171d8da-fca1-496c-ba1f-de8bdb4bc015\n",
       "      display: Argo PL List Test Appointment pl-appt-b171d8da-fca1-496c-ba1f-de8bdb4bc015\n",
       "  - url: http://www.fhir.org/guides/argonaut/patient-list/StructureDefinition/patientlist-encounter\n",
       "    valueReference:\n",
       "      reference: Encounter/2c9a7f04-46da-48d6-8f13-c52cf4483c91\n",
       "      display: Argo PL List Test Encounter 2c9a7f04-46da-48d6-8f13-c52cf4483c91\n",
       "  - url: http://www.fhir.org/guides/argonaut/patient-list/StructureDefinition/patientlist-questionnaireresponse\n",
       "    valueReference:\n",
       "      reference: QuestionnaireResponse/argo-pl-q2-qr-b171d8da-fca1-496c-ba1f-de8bdb4bc015\n",
       "      display: Argo PL List Test QuestionnaireResponse argo-pl-q2-qr-b171d8da-fca1-496c-ba1f-de8bdb4bc015\n",
       "  entity:\n",
       "    reference: Patient/b171d8da-fca1-496c-ba1f-de8bdb4bc015\n",
       "    display: Mr. Les282 Wuckert783\n",
       "  period:\n",
       "    start: '2020-12-26'\n",
       "  inactive: false\n",
       "</pre>"
      ],
      "text/plain": [
       "<IPython.core.display.HTML object>"
      ]
     },
     "metadata": {},
     "output_type": "display_data"
    },
    {
     "data": {
      "text/html": [
       "...validating...&#9203;"
      ],
      "text/plain": [
       "<IPython.core.display.HTML object>"
      ]
     },
     "metadata": {},
     "output_type": "display_data"
    },
    {
     "ename": "JSONDecodeError",
     "evalue": "Expecting value: line 1 column 1 (char 0)",
     "output_type": "error",
     "traceback": [
      "\u001b[0;31m---------------------------------------------------------------------------\u001b[0m",
      "\u001b[0;31mJSONDecodeError\u001b[0m                           Traceback (most recent call last)",
      "\u001b[0;32m<ipython-input-7-8479602ec79f>\u001b[0m in \u001b[0;36m<module>\u001b[0;34m\u001b[0m\n\u001b[1;32m     58\u001b[0m     \u001b[0mdisplay\u001b[0m\u001b[0;34m(\u001b[0m\u001b[0mHTML\u001b[0m\u001b[0;34m(\u001b[0m\u001b[0;34m'...validating...&#9203;'\u001b[0m\u001b[0;34m)\u001b[0m\u001b[0;34m)\u001b[0m\u001b[0;34m\u001b[0m\u001b[0;34m\u001b[0m\u001b[0m\n\u001b[1;32m     59\u001b[0m     \u001b[0mr\u001b[0m \u001b[0;34m=\u001b[0m \u001b[0mvalidate\u001b[0m\u001b[0;34m(\u001b[0m\u001b[0mi\u001b[0m\u001b[0;34m)\u001b[0m\u001b[0;34m\u001b[0m\u001b[0;34m\u001b[0m\u001b[0m\n\u001b[0;32m---> 60\u001b[0;31m     \u001b[0mdisplay\u001b[0m\u001b[0;34m(\u001b[0m\u001b[0mHTML\u001b[0m\u001b[0;34m(\u001b[0m\u001b[0;34mf'<h2>Validation output</h1><h2>Status Code = {r.status_code}</h3> {r.json()[\"text\"][\"div\"]} <hr><hr>'\u001b[0m\u001b[0;34m)\u001b[0m\u001b[0;34m)\u001b[0m\u001b[0;34m\u001b[0m\u001b[0;34m\u001b[0m\u001b[0m\n\u001b[0m",
      "\u001b[0;32m~/Documents/Python/Venv/venv37/lib/python3.7/site-packages/requests/models.py\u001b[0m in \u001b[0;36mjson\u001b[0;34m(self, **kwargs)\u001b[0m\n\u001b[1;32m    895\u001b[0m                     \u001b[0;31m# used.\u001b[0m\u001b[0;34m\u001b[0m\u001b[0;34m\u001b[0m\u001b[0;34m\u001b[0m\u001b[0m\n\u001b[1;32m    896\u001b[0m                     \u001b[0;32mpass\u001b[0m\u001b[0;34m\u001b[0m\u001b[0;34m\u001b[0m\u001b[0m\n\u001b[0;32m--> 897\u001b[0;31m         \u001b[0;32mreturn\u001b[0m \u001b[0mcomplexjson\u001b[0m\u001b[0;34m.\u001b[0m\u001b[0mloads\u001b[0m\u001b[0;34m(\u001b[0m\u001b[0mself\u001b[0m\u001b[0;34m.\u001b[0m\u001b[0mtext\u001b[0m\u001b[0;34m,\u001b[0m \u001b[0;34m**\u001b[0m\u001b[0mkwargs\u001b[0m\u001b[0;34m)\u001b[0m\u001b[0;34m\u001b[0m\u001b[0;34m\u001b[0m\u001b[0m\n\u001b[0m\u001b[1;32m    898\u001b[0m \u001b[0;34m\u001b[0m\u001b[0m\n\u001b[1;32m    899\u001b[0m     \u001b[0;34m@\u001b[0m\u001b[0mproperty\u001b[0m\u001b[0;34m\u001b[0m\u001b[0;34m\u001b[0m\u001b[0m\n",
      "\u001b[0;32m/Library/Frameworks/Python.framework/Versions/3.7/lib/python3.7/json/__init__.py\u001b[0m in \u001b[0;36mloads\u001b[0;34m(s, encoding, cls, object_hook, parse_float, parse_int, parse_constant, object_pairs_hook, **kw)\u001b[0m\n\u001b[1;32m    346\u001b[0m             \u001b[0mparse_int\u001b[0m \u001b[0;32mis\u001b[0m \u001b[0;32mNone\u001b[0m \u001b[0;32mand\u001b[0m \u001b[0mparse_float\u001b[0m \u001b[0;32mis\u001b[0m \u001b[0;32mNone\u001b[0m \u001b[0;32mand\u001b[0m\u001b[0;34m\u001b[0m\u001b[0;34m\u001b[0m\u001b[0m\n\u001b[1;32m    347\u001b[0m             parse_constant is None and object_pairs_hook is None and not kw):\n\u001b[0;32m--> 348\u001b[0;31m         \u001b[0;32mreturn\u001b[0m \u001b[0m_default_decoder\u001b[0m\u001b[0;34m.\u001b[0m\u001b[0mdecode\u001b[0m\u001b[0;34m(\u001b[0m\u001b[0ms\u001b[0m\u001b[0;34m)\u001b[0m\u001b[0;34m\u001b[0m\u001b[0;34m\u001b[0m\u001b[0m\n\u001b[0m\u001b[1;32m    349\u001b[0m     \u001b[0;32mif\u001b[0m \u001b[0mcls\u001b[0m \u001b[0;32mis\u001b[0m \u001b[0;32mNone\u001b[0m\u001b[0;34m:\u001b[0m\u001b[0;34m\u001b[0m\u001b[0;34m\u001b[0m\u001b[0m\n\u001b[1;32m    350\u001b[0m         \u001b[0mcls\u001b[0m \u001b[0;34m=\u001b[0m \u001b[0mJSONDecoder\u001b[0m\u001b[0;34m\u001b[0m\u001b[0;34m\u001b[0m\u001b[0m\n",
      "\u001b[0;32m/Library/Frameworks/Python.framework/Versions/3.7/lib/python3.7/json/decoder.py\u001b[0m in \u001b[0;36mdecode\u001b[0;34m(self, s, _w)\u001b[0m\n\u001b[1;32m    335\u001b[0m \u001b[0;34m\u001b[0m\u001b[0m\n\u001b[1;32m    336\u001b[0m         \"\"\"\n\u001b[0;32m--> 337\u001b[0;31m         \u001b[0mobj\u001b[0m\u001b[0;34m,\u001b[0m \u001b[0mend\u001b[0m \u001b[0;34m=\u001b[0m \u001b[0mself\u001b[0m\u001b[0;34m.\u001b[0m\u001b[0mraw_decode\u001b[0m\u001b[0;34m(\u001b[0m\u001b[0ms\u001b[0m\u001b[0;34m,\u001b[0m \u001b[0midx\u001b[0m\u001b[0;34m=\u001b[0m\u001b[0m_w\u001b[0m\u001b[0;34m(\u001b[0m\u001b[0ms\u001b[0m\u001b[0;34m,\u001b[0m \u001b[0;36m0\u001b[0m\u001b[0;34m)\u001b[0m\u001b[0;34m.\u001b[0m\u001b[0mend\u001b[0m\u001b[0;34m(\u001b[0m\u001b[0;34m)\u001b[0m\u001b[0;34m)\u001b[0m\u001b[0;34m\u001b[0m\u001b[0;34m\u001b[0m\u001b[0m\n\u001b[0m\u001b[1;32m    338\u001b[0m         \u001b[0mend\u001b[0m \u001b[0;34m=\u001b[0m \u001b[0m_w\u001b[0m\u001b[0;34m(\u001b[0m\u001b[0ms\u001b[0m\u001b[0;34m,\u001b[0m \u001b[0mend\u001b[0m\u001b[0;34m)\u001b[0m\u001b[0;34m.\u001b[0m\u001b[0mend\u001b[0m\u001b[0;34m(\u001b[0m\u001b[0;34m)\u001b[0m\u001b[0;34m\u001b[0m\u001b[0;34m\u001b[0m\u001b[0m\n\u001b[1;32m    339\u001b[0m         \u001b[0;32mif\u001b[0m \u001b[0mend\u001b[0m \u001b[0;34m!=\u001b[0m \u001b[0mlen\u001b[0m\u001b[0;34m(\u001b[0m\u001b[0ms\u001b[0m\u001b[0;34m)\u001b[0m\u001b[0;34m:\u001b[0m\u001b[0;34m\u001b[0m\u001b[0;34m\u001b[0m\u001b[0m\n",
      "\u001b[0;32m/Library/Frameworks/Python.framework/Versions/3.7/lib/python3.7/json/decoder.py\u001b[0m in \u001b[0;36mraw_decode\u001b[0;34m(self, s, idx)\u001b[0m\n\u001b[1;32m    353\u001b[0m             \u001b[0mobj\u001b[0m\u001b[0;34m,\u001b[0m \u001b[0mend\u001b[0m \u001b[0;34m=\u001b[0m \u001b[0mself\u001b[0m\u001b[0;34m.\u001b[0m\u001b[0mscan_once\u001b[0m\u001b[0;34m(\u001b[0m\u001b[0ms\u001b[0m\u001b[0;34m,\u001b[0m \u001b[0midx\u001b[0m\u001b[0;34m)\u001b[0m\u001b[0;34m\u001b[0m\u001b[0;34m\u001b[0m\u001b[0m\n\u001b[1;32m    354\u001b[0m         \u001b[0;32mexcept\u001b[0m \u001b[0mStopIteration\u001b[0m \u001b[0;32mas\u001b[0m \u001b[0merr\u001b[0m\u001b[0;34m:\u001b[0m\u001b[0;34m\u001b[0m\u001b[0;34m\u001b[0m\u001b[0m\n\u001b[0;32m--> 355\u001b[0;31m             \u001b[0;32mraise\u001b[0m \u001b[0mJSONDecodeError\u001b[0m\u001b[0;34m(\u001b[0m\u001b[0;34m\"Expecting value\"\u001b[0m\u001b[0;34m,\u001b[0m \u001b[0ms\u001b[0m\u001b[0;34m,\u001b[0m \u001b[0merr\u001b[0m\u001b[0;34m.\u001b[0m\u001b[0mvalue\u001b[0m\u001b[0;34m)\u001b[0m \u001b[0;32mfrom\u001b[0m \u001b[0;32mNone\u001b[0m\u001b[0;34m\u001b[0m\u001b[0;34m\u001b[0m\u001b[0m\n\u001b[0m\u001b[1;32m    356\u001b[0m         \u001b[0;32mreturn\u001b[0m \u001b[0mobj\u001b[0m\u001b[0;34m,\u001b[0m \u001b[0mend\u001b[0m\u001b[0;34m\u001b[0m\u001b[0;34m\u001b[0m\u001b[0m\n",
      "\u001b[0;31mJSONDecodeError\u001b[0m: Expecting value: line 1 column 1 (char 0)"
     ]
    }
   ],
   "source": [
    "display(HTML('......create Char based Groups...... &#9203;'))\n",
    "new_groups=[]\n",
    "my_locs =  [r.resource.location[0].location for r in my_bundle.entry if r.resource.resource_type == \"Encounter\"]\n",
    "my_locs= dedup(my_locs)\n",
    "my_practs =  [r.resource.participant[0].individual for r in my_bundle.entry if r.resource.resource_type == \"Encounter\"]\n",
    "my_practs = dedup(my_practs)\n",
    "chars_dict = dict(\n",
    "            location = my_locs,\n",
    "            practitioner = my_practs,\n",
    "            )\n",
    "\n",
    "for g_counter, g in enumerate(my_groups):\n",
    "    print('==========================')\n",
    "    print(f'g = {g.id}, {len(my_groups)}')\n",
    "    uc_counter = 1\n",
    "    for char, char_refs in chars_dict.items():\n",
    "\n",
    "        for ref in char_refs:\n",
    "            #display(HTML(f'<h3>Use Case = {char} for {ref.display}</h3>')) \n",
    "            new_members = {get_id(e.resource.subject) for e in my_bundle.entry if e.resource.resource_type== \"Encounter\"\n",
    "                      and (e.resource.location[0].location == ref or e.resource.participant[0].individual == ref)}\n",
    "            #print(f'new_members={new_members}')\n",
    "            all_members = [get_id(m.entity) for m in g.member]\n",
    "            #print(f'all_members={all_members}')\n",
    "            if any(elem in new_members for elem in all_members): # all not working ???\n",
    "                '''\n",
    "                for nm in new_members:\n",
    "                    print(f'nm = {nm}')\n",
    "                    if nm in all_members:\n",
    "                        print(f'nm = {nm} in all = {[i for i in all_members if i ==nm]}')\n",
    "                    else:\n",
    "                        print(f'nm = {nm} not in all')\n",
    "                '''\n",
    "                display(HTML(f'<h3>Use Case = {char} for {ref.display} g_counter= {g_counter}, uc_counter = {uc_counter}</h3>')) \n",
    "\n",
    "                new_g = deepcopy(g)\n",
    "                \n",
    "                new_index = str(g_counter+1) + g.id[-3:-1] + str(uc_counter)\n",
    "                print(g.id[-4:],new_index)\n",
    "                new_g.id = g.id[:-4].replace('all', char) + new_index\n",
    "                new_g.name = g.name[:-4].replace('all', char) + new_index\n",
    "\n",
    "                print(f'new id = {new_g.id}')\n",
    "                print(f'new name = {new_g.name}')\n",
    "\n",
    "                add_char()\n",
    "                # edit member list based on char\n",
    "                new_g.member = [m for m in new_g.member if get_id(m.entity) in new_members] \n",
    "\n",
    "                new_g.quantity = len(new_g.member)\n",
    "                new_groups.append(new_g)\n",
    "                uc_counter += 1\n",
    "\n",
    "for i in new_groups:\n",
    "    display(HTML('<h1>NEW GROUP RESOURCE AS YAML</h1>'))\n",
    "    display(HTML(f'<h3>Quantity = {i.quantity}</h3>'))\n",
    "    display(HTML(f'<pre style=\"color: blue; background-color: AliceBlue;\">{to_yaml(i)}</pre>'))\n",
    "    display(HTML('...validating...&#9203;'))\n",
    "    r = validate(i)\n",
    "    display(HTML(f'<h2>Validation output</h1><h2>Status Code = {r.status_code}</h3> {r.json()[\"text\"][\"div\"]} <hr><hr>'))\n"
   ]
  },
  {
   "cell_type": "markdown",
   "metadata": {},
   "source": [
    "### Rebundle into Transaction/Validate/Save/Load to ref FHIR Server\n",
    "\n",
    "- Add new and updated resources to Ttansaction bundle using PUT to preserve ids \n",
    "order is Patient, Pract, Org, Location, Careteam, Condition, Observation, Appointment, Encounter, Q, QR, Group\n",
    "  \n",
    "1. use original Bundle\n",
    "2. remove old encounter Encounter\n",
    "3. append Appt\n",
    "4. append new Enc\n",
    "5. append Q, QR, Group"
   ]
  },
  {
   "cell_type": "code",
   "execution_count": null,
   "metadata": {},
   "outputs": [],
   "source": [
    "\n",
    "display(HTML('......Bundle into transaction...... &#9203;'))\n",
    "test_server = 'http://test.fhir.org/r4'\n",
    "\n",
    "#remove old encounter Encounters\n",
    "my_enc_ids = [i.id for i in my_encs]\n",
    "#print(my_enc_ids)\n",
    "my_bundle.entry = [e for e in my_bundle.entry if e.resource.id not in my_enc_ids]\n",
    "print([e.resource.resource_type for e in my_bundle.entry])\n",
    "\n",
    "my_res =  my_appts + my_encs + [q.Questionnaire(FHIR_templates.my_q)] + my_qrs +  my_groups + new_groups\n",
    "for r in my_res:\n",
    "    print(f'type = {r.resource_type}, id = {r.id}')\n",
    "    try:\n",
    "        my_b = bundle_me(test_server, r, my_bundle)\n",
    "    except NameError:\n",
    "        my_b = bundle_me(test_server, r)\n",
    "my_b.id = f'{pl_use_case}-{file_size}'\n",
    "display(HTML(f'<h1>BUNDLE RESOURCE AS YAML ({len(my_b.entry)} Entries) </h1>'))\n",
    "display(HTML(f'<pre style=\"color: blue; background-color: AliceBlue;\">{to_yaml(my_b)}</pre>'))\n",
    "display(HTML('...validating...&#9203;'))\n",
    "r = validate(my_b)\n",
    "display(HTML(f'<h2>Validation output</h1><h2>Status Code = {r.status_code}</h3> {r.json()[\"text\"][\"div\"]} <hr><hr>'))"
   ]
  },
  {
   "cell_type": "markdown",
   "metadata": {},
   "source": [
    "### Write to File"
   ]
  },
  {
   "cell_type": "code",
   "execution_count": null,
   "metadata": {},
   "outputs": [],
   "source": [
    "if not console_only:\n",
    "    file_name = f'argo-pl-{my_b.id}.json'\n",
    "\n",
    "    my_path = Path.cwd()/ 'test_out' / file_name\n",
    "    display(HTML(f'&#9203...writing bundle resource as json file  to {my_path}... '))\n",
    "    my_path.write_text(to_json(my_b))\n",
    "\n",
    "\n",
    "    display(HTML(f'&#8987; Done!!!'))"
   ]
  },
  {
   "cell_type": "markdown",
   "metadata": {},
   "source": [
    "### Post to Test Server"
   ]
  },
  {
   "cell_type": "code",
   "execution_count": null,
   "metadata": {},
   "outputs": [],
   "source": [
    "if not console_only:\n",
    "    r = load_transaction(my_b)\n",
    "    try:\n",
    "        display(HTML(\n",
    "            '<h1>Post Response</h1>'\n",
    "            f'<h3>Status Code = {r.status_code}</h3><br />'\n",
    "            f'<pre>Response Headers: {dumps(dict(r.headers), indent=4)}</pre>'\n",
    "            f'<em>Resource Narrative</em>: {r.json()[\"text\"][\"div\"]}'\n",
    "            '===============================================<br /><br /><br />'\n",
    "            ))\n",
    "    except KeyError:\n",
    "        display(HTML(\n",
    "            '<h1>Post Response</h1>'\n",
    "            f'<h3>Status Code = {r.status_code}</h3><br />'\n",
    "            f'<pre>Response Headers: {dumps(dict(r.headers), indent=4)}</pre>'\n",
    "            f'<pre style=\"color: blue; background-color: Aquamarine;\">Resource Body: {to_yaml(r.json())}</pre>'\n",
    "            '===============================================<br /><br /><br />'\n",
    "            ))   "
   ]
  },
  {
   "cell_type": "code",
   "execution_count": null,
   "metadata": {},
   "outputs": [],
   "source": []
  }
 ],
 "metadata": {
  "kernelspec": {
   "display_name": "Python 3",
   "language": "python",
   "name": "python3"
  },
  "language_info": {
   "codemirror_mode": {
    "name": "ipython",
    "version": 3
   },
   "file_extension": ".py",
   "mimetype": "text/x-python",
   "name": "python",
   "nbconvert_exporter": "python",
   "pygments_lexer": "ipython3",
   "version": "3.7.3"
  }
 },
 "nbformat": 4,
 "nbformat_minor": 4
}
