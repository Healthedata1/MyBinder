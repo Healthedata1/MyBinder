{
 "cells": [
  {
   "cell_type": "markdown",
   "metadata": {},
   "source": [
    "## Transaction Bundler utility\n",
    "\n",
    "- inputs = resource as pyfhir model to append to bundle and existing bundle as pyfhir model to append to.\n"
   ]
  },
  {
   "cell_type": "code",
   "execution_count": 29,
   "metadata": {},
   "outputs": [],
   "source": [
    "from fhir_model_generator.model import bundle, organization\n",
    "from datetime import datetime, date, timedelta\n",
    "import uuid\n",
    "import FHIR_templates as f\n",
    "from json import dumps"
   ]
  },
  {
   "cell_type": "code",
   "execution_count": 30,
   "metadata": {},
   "outputs": [],
   "source": [
    "def bundle_me(pyfhir_res, fhir_bundle=None):\n",
    "    file_ts = datetime.utcnow().strftime('%Y%m%d%H%M%S%f')\n",
    "    new_urn = uuid.uuid1().urn # new urn for resource\n",
    "    pyfhir_res.id = new_urn[9:]\n",
    "    e = bundle.BundleEntry()\n",
    "    e.fullUrl = new_urn\n",
    "    e.resource = pyfhir_res\n",
    "    e.request = bundle.BundleEntryRequest()\n",
    "    e.request.method = 'POST'\n",
    "    e.request.url = pyfhir_res.resource_type\n",
    "    if fhir_bundle: #add entry\n",
    "        pass\n",
    "    else:  # create transaction bundle\n",
    "        bundle_type = 'transaction'\n",
    "        bundle_id = f'transaction-bundle-{file_ts}'   \n",
    "        fhir_bundle = bundle.Bundle(\n",
    "            dict(\n",
    "                id = bundle_id,\n",
    "                type = bundle_type,\n",
    "                timestamp = str(datetime.utcnow()),\n",
    "                entry = [],\n",
    "            )\n",
    "        )\n",
    "    fhir_bundle.entry.append(e)\n",
    "    return(fhir_bundle)"
   ]
  },
  {
   "cell_type": "code",
   "execution_count": 43,
   "metadata": {},
   "outputs": [
    {
     "name": "stdout",
     "output_type": "stream",
     "text": [
      "{\n",
      "  \"resourceType\": \"Bundle\",\n",
      "  \"id\": \"transaction-bundle-20200504204652182578\",\n",
      "  \"type\": \"transaction\",\n",
      "  \"timestamp\": \"2020-05-04 20:46:52.183069\",\n",
      "  \"entry\": [\n",
      "    {\n",
      "      \"fullUrl\": \"urn:uuid:6209ee7e-8e48-11ea-9b63-a4d18ccf5172\",\n",
      "      \"resource\": {\n",
      "        \"resourceType\": \"Organization\",\n",
      "        \"id\": \"6209ee7e-8e48-11ea-9b63-a4d18ccf5172\",\n",
      "        \"meta\": {\n",
      "          \"profile\": [\n",
      "            \"http://hl7.org/fhir/us/core/StructureDefinition/us-core-organization\"\n",
      "          ]\n",
      "        },\n",
      "        \"text\": {\n",
      "          \"status\": \"generated\",\n",
      "          \"div\": \"<div xmlns=\\\"http://www.w3.org/1999/xhtml\\\"><p><b>Generated Narrative with Details</b></p><p><b>id</b>: example-organization-2</p><p><b>meta</b>: </p><p><b>identifier</b>: 1407071236, 121111111</p><p><b>active</b>: true</p><p><b>type</b>: Healthcare Provider <span style=\\\"background: LightGoldenRodYellow\\\">(Details : {http://terminology.hl7.org/CodeSystem/organization-type code 'prov' = 'Healthcare Provider', given as 'Healthcare Provider'})</span></p><p><b>name</b>: Acme Clinic</p><p><b>telecom</b>: ph: (+1) 734-677-7777, customer-service@acme-clinic.org</p><p><b>address</b>: 3300 Washtenaw Avenue, Suite 227 Amherst MA 01002 USA </p></div>\"\n",
      "        },\n",
      "        \"identifier\": [\n",
      "          {\n",
      "            \"system\": \"http://hl7.org.fhir/sid/us-npi\",\n",
      "            \"value\": \"1407071236\"\n",
      "          },\n",
      "          {\n",
      "            \"system\": \"http://example.org/fhir/sid/us-tin\",\n",
      "            \"value\": \"121111111\"\n",
      "          }\n",
      "        ],\n",
      "        \"active\": true,\n",
      "        \"type\": [\n",
      "          {\n",
      "            \"coding\": [\n",
      "              {\n",
      "                \"system\": \"http://terminology.hl7.org/CodeSystem/organization-type\",\n",
      "                \"code\": \"prov\",\n",
      "                \"display\": \"Healthcare Provider\"\n",
      "              }\n",
      "            ]\n",
      "          }\n",
      "        ],\n",
      "        \"name\": \"Acme Clinic\",\n",
      "        \"telecom\": [\n",
      "          {\n",
      "            \"system\": \"phone\",\n",
      "            \"value\": \"(+1) 734-677-7777\"\n",
      "          },\n",
      "          {\n",
      "            \"system\": \"email\",\n",
      "            \"value\": \"customer-service@acme-clinic.org\"\n",
      "          }\n",
      "        ],\n",
      "        \"address\": [\n",
      "          {\n",
      "            \"line\": [\n",
      "              \"3300 Washtenaw Avenue, Suite 227\"\n",
      "            ],\n",
      "            \"city\": \"Amherst\",\n",
      "            \"state\": \"MA\",\n",
      "            \"postalCode\": \"01002\",\n",
      "            \"country\": \"USA\"\n",
      "          }\n",
      "        ]\n",
      "      },\n",
      "      \"request\": {\n",
      "        \"method\": \"POST\",\n",
      "        \"url\": \"Organization\"\n",
      "      }\n",
      "    }\n",
      "  ]\n",
      "}\n"
     ]
    }
   ],
   "source": [
    "if __name__ == \"__main__\": \n",
    "    org = organization.Organization(f.example_org)\n",
    "    tbundle = bundle_me(org)\n",
    "    print(dumps(tbundle.as_json(),indent=2))\n",
    " "
   ]
  },
  {
   "cell_type": "code",
   "execution_count": null,
   "metadata": {},
   "outputs": [],
   "source": []
  }
 ],
 "metadata": {
  "kernelspec": {
   "display_name": "Python 3",
   "language": "python",
   "name": "python3"
  },
  "language_info": {
   "codemirror_mode": {
    "name": "ipython",
    "version": 3
   },
   "file_extension": ".py",
   "mimetype": "text/x-python",
   "name": "python",
   "nbconvert_exporter": "python",
   "pygments_lexer": "ipython3",
   "version": "3.7.1"
  }
 },
 "nbformat": 4,
 "nbformat_minor": 4
}
