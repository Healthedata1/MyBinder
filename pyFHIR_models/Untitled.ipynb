{
 "cells": [
  {
   "cell_type": "code",
   "execution_count": 1,
   "metadata": {},
   "outputs": [
    {
     "ename": "NameError",
     "evalue": "name 'bundle_me' is not defined",
     "output_type": "error",
     "traceback": [
      "\u001b[0;31m---------------------------------------------------------------------------\u001b[0m",
      "\u001b[0;31mNameError\u001b[0m                                 Traceback (most recent call last)",
      "\u001b[0;32m<ipython-input-1-b29a7ea4e3b5>\u001b[0m in \u001b[0;36m<module>\u001b[0;34m\u001b[0m\n\u001b[1;32m      3\u001b[0m }\n\u001b[1;32m      4\u001b[0m \u001b[0;34m\u001b[0m\u001b[0m\n\u001b[0;32m----> 5\u001b[0;31m \u001b[0mmy_bundle\u001b[0m \u001b[0;34m=\u001b[0m \u001b[0mbundle_me\u001b[0m\u001b[0;34m(\u001b[0m\u001b[0mmy_mr\u001b[0m\u001b[0;34m,\u001b[0m\u001b[0mmy_bundle\u001b[0m\u001b[0;34m)\u001b[0m \u001b[0;31m# as transaction\u001b[0m\u001b[0;34m\u001b[0m\u001b[0;34m\u001b[0m\u001b[0m\n\u001b[0m\u001b[1;32m      6\u001b[0m \u001b[0;34m\u001b[0m\u001b[0m\n\u001b[1;32m      7\u001b[0m \u001b[0;34m\u001b[0m\u001b[0m\n",
      "\u001b[0;31mNameError\u001b[0m: name 'bundle_me' is not defined"
     ]
    }
   ],
   "source": [
    "parameters = {\n",
    "\"all-patients\": None,\n",
    "}\n",
    "\n",
    "my_bundle = bundle_me(my_mr,my_bundle) # as transaction\n",
    "\n",
    "\n",
    "\n"
   ]
  },
  {
   "cell_type": "code",
   "execution_count": null,
   "metadata": {},
   "outputs": [],
   "source": [
    "import FHIR_templates\n",
    "from utils import bundle_me"
   ]
  },
  {
   "cell_type": "markdown",
   "metadata": {},
   "source": [
    "- create group resources for combinations of:\n",
    "\n",
    "1. all patients\n",
    "1. all patients + timeframe ( today, tomorrow )\n",
    "1. all patients + status\n",
    "1. practitioner\n",
    "1. practitioner + timeframe ( today, tomorrow )\n",
    "1. practitioner + status\n",
    "1. location\n",
    "1. location + timeframe ( today, tomorrow )\n",
    "1. location + status\n",
    "1. service\n",
    "1. service + timeframe ( today, tomorrow )\n",
    "1. service + status"
   ]
  },
  {
   "cell_type": "code",
   "execution_count": null,
   "metadata": {},
   "outputs": [],
   "source": [
    "l = 'http://loinc.org'\n",
    "rt = 'http://hl7.org/fhir/resource-types'\n",
    "parameters_map = {\n",
    " 'all':('LA18187-7', l,'All'),\n",
    " 'practitioner': ('Practitioner', rt,'Practitioner',\"Doctor \"),\n",
    " 'active':('LA16666-2', l,'Active'),\n",
    " 'discharged':('LA14102-0', l,'Discharged'),\n",
    " 'location':(\"Location\", rt, 'Location', 'Location: '),\n",
    "  'service':('HealthcareService', rt, 'HealthcareService', 'Service: ')\n",
    "    }"
   ]
  }
 ],
 "metadata": {
  "kernelspec": {
   "display_name": "Python 3",
   "language": "python",
   "name": "python3"
  },
  "language_info": {
   "codemirror_mode": {
    "name": "ipython",
    "version": 3
   },
   "file_extension": ".py",
   "mimetype": "text/x-python",
   "name": "python",
   "nbconvert_exporter": "python",
   "pygments_lexer": "ipython3",
   "version": "3.7.3"
  }
 },
 "nbformat": 4,
 "nbformat_minor": 4
}
