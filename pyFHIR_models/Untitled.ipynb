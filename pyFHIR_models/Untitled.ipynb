{
 "cells": [
  {
   "cell_type": "code",
   "execution_count": 1,
   "metadata": {},
   "outputs": [],
   "source": [
    "parameters = {\n",
    "\"all-patients\": None,\n",
    "}\n",
    "\n",
    "\n",
    "\n"
   ]
  },
  {
   "cell_type": "markdown",
   "metadata": {},
   "source": [
    "- create group resources for combinations of:\n",
    "\n",
    "1. all patients\n",
    "1. all patients + timeframe ( today, tomorrow )\n",
    "1. all patients + status\n",
    "1. practitioner\n",
    "1. practitioner + timeframe ( today, tomorrow )\n",
    "1. practitioner + status\n",
    "1. location\n",
    "1. location + timeframe ( today, tomorrow )\n",
    "1. location + status\n",
    "1. service\n",
    "1. service + timeframe ( today, tomorrow )\n",
    "1. service + status"
   ]
  }
 ],
 "metadata": {
  "kernelspec": {
   "display_name": "Python 3",
   "language": "python",
   "name": "python3"
  },
  "language_info": {
   "codemirror_mode": {
    "name": "ipython",
    "version": 3
   },
   "file_extension": ".py",
   "mimetype": "text/x-python",
   "name": "python",
   "nbconvert_exporter": "python",
   "pygments_lexer": "ipython3",
   "version": "3.7.3"
  }
 },
 "nbformat": 4,
 "nbformat_minor": 4
}
