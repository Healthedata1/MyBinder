{
 "cells": [
  {
   "cell_type": "markdown",
   "metadata": {},
   "source": [
    "## Function to create PyFHIR Class instances\n",
    "\n",
    "- use hs_model in local Jupyter folder \n",
    "- function parameters for PyFHIR\n",
    "    - input is resource(or datatype) instance as key value pairs\n",
    "    - requires 'ResourceType' parameter for fhir ResourceType\n",
    "    - optionally 'BackboneElement' parameter for instantiating BackboneElement\n",
    "    - optionally other resource elements as parameters\n",
    "    - output is fhirclient class instance"
   ]
  },
  {
   "cell_type": "code",
   "execution_count": 17,
   "metadata": {},
   "outputs": [],
   "source": [
    "from importlib import import_module"
   ]
  },
  {
   "cell_type": "code",
   "execution_count": 18,
   "metadata": {},
   "outputs": [],
   "source": [
    "def pyfhir(ResourceType, BackboneElement=None, **kwargs):\n",
    "    '''\n",
    "    input is resource(or datatype) instance as key value pairs\n",
    "    requires 'ResourceType' parameter for fhir ResourceType\n",
    "    optionally 'BackboneElement' parameter for instantiating BackboneElement\n",
    "    optionally other resource elements as parameters\n",
    "    output is fhirclient class instance\n",
    "    '''\n",
    "    try:\n",
    "        MyClass = getattr(import_module(\n",
    "        f\"fhir_model_generator.model.{ResourceType.lower()}\"),BackboneElement\n",
    "        )\n",
    "    except TypeError:\n",
    "            MyClass = getattr(import_module(\n",
    "        f\"fhir_model_generator.model.{ResourceType.lower()}\"),ResourceType\n",
    "        )    \n",
    "    # Instantiate the class (pass arguments to the constructor, if needed)\n",
    "    instance = MyClass(dict(kwargs), strict=False)\n",
    "    return(instance)"
   ]
  },
  {
   "cell_type": "markdown",
   "metadata": {},
   "source": [
    "### Some examples..."
   ]
  },
  {
   "cell_type": "code",
   "execution_count": 22,
   "metadata": {},
   "outputs": [],
   "source": [
    "def main():\n",
    "    py_res1 = pyfhir(\n",
    "    ResourceType ='Bundle',\n",
    "    type = 'message',\n",
    "    foo = 'bar',\n",
    "    BackboneElement = 'BundleEntry'\n",
    "    )\n",
    "    \n",
    "    py_res2 = pyfhir(\n",
    "    ResourceType ='CodeableConcept',\n",
    "    text = 'example',\n",
    "    foo = 'bar',\n",
    "    coding = [\n",
    "        pyfhir(ResourceType ='Coding',\n",
    "                    code = 'foo',\n",
    "                    system = 'bar',\n",
    "                   ).as_json()\n",
    "             ],\n",
    "       )\n",
    "    \n",
    "    [py_res1.as_json(),py_res2.as_json()]"
   ]
  },
  {
   "cell_type": "code",
   "execution_count": 23,
   "metadata": {},
   "outputs": [
    {
     "name": "stderr",
     "output_type": "stream",
     "text": [
      "Superfluous entry \"foo\" in data for BundleEntry(id=None, extension=None, link=None, fullUrl=None, resource=None, search=None, request=None, response=None)\n",
      "Superfluous entry \"type\" in data for BundleEntry(id=None, extension=None, link=None, fullUrl=None, resource=None, search=None, request=None, response=None)\n",
      "Superfluous entry \"foo\" in data for CodeableConcept(id=None, extension=None, coding=[Coding(id=None, extension=None, system='bar', version=None, code='foo', display=None, userSelected=None)], text='example')\n"
     ]
    }
   ],
   "source": [
    "if __name__== \"__main__\":\n",
    "  main()"
   ]
  }
 ],
 "metadata": {
  "kernelspec": {
   "display_name": "Python 3",
   "language": "python",
   "name": "python3"
  },
  "language_info": {
   "codemirror_mode": {
    "name": "ipython",
    "version": 3
   },
   "file_extension": ".py",
   "mimetype": "text/x-python",
   "name": "python",
   "nbconvert_exporter": "python",
   "pygments_lexer": "ipython3",
   "version": "3.7.3"
  }
 },
 "nbformat": 4,
 "nbformat_minor": 4
}
