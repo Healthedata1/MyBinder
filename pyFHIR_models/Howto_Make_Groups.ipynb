{
 "cells": [
  {
   "cell_type": "markdown",
   "metadata": {},
   "source": [
    "\n",
    "## 4. <a id='4_cell'></a>Create Group using Excel, Pandas and the PyFHIR models....\n",
    "\n",
    "This uses Pandas to easily upload patient data from an Excel (or CSV) file based\n",
    "on some tricks I learned to create instancea fo resources a lot more complex than patient such as conformance\n",
    "resources like CapabilityStatement and StructureDefinitition.\n",
    "\n",
    "### Load and excel file using Pandas\n",
    "\n",
    "I've made a sample excel file `my_patients.xlsx` containing data for several patients.\n",
    "Note that you will need to install the *pandas* module.\n",
    "\n",
    "- See this set of tutorials to learn more about Pandas:\n",
    "\n",
    "   [![pandas_tut](pandas.png)](https://www.youtube.com/watch?v=ZyhVh-qRZPA&list=PL-osiE80TeTsWmV9i9c58mdDCSskIFdDS \"Pandas Tutorial\")"
   ]
  },
  {
   "cell_type": "code",
   "execution_count": 11,
   "metadata": {},
   "outputs": [
    {
     "name": "stdout",
     "output_type": "stream",
     "text": [
      "[Errno 2] No such file or directory: '/Users/ehaas/pyFHIR_models # This is to make sure in right directory for Binder'\n",
      "/Users/ehaas/Documents/Python/MyBinder/pyFHIR_models\n"
     ]
    }
   ],
   "source": [
    "cd ~/pyFHIR_models # This is to make sure in right directory for Binder"
   ]
  },
  {
   "cell_type": "code",
   "execution_count": 12,
   "metadata": {},
   "outputs": [
    {
     "data": {
      "text/html": [
       "<div>\n",
       "<style scoped>\n",
       "    .dataframe tbody tr th:only-of-type {\n",
       "        vertical-align: middle;\n",
       "    }\n",
       "\n",
       "    .dataframe tbody tr th {\n",
       "        vertical-align: top;\n",
       "    }\n",
       "\n",
       "    .dataframe thead th {\n",
       "        text-align: right;\n",
       "    }\n",
       "</style>\n",
       "<table border=\"1\" class=\"dataframe\">\n",
       "  <thead>\n",
       "    <tr style=\"text-align: right;\">\n",
       "      <th></th>\n",
       "      <th>row</th>\n",
       "      <th>my_id</th>\n",
       "      <th>f_name</th>\n",
       "      <th>l_name</th>\n",
       "      <th>gender</th>\n",
       "      <th>b_date</th>\n",
       "      <th>is_deceased</th>\n",
       "      <th>is_active</th>\n",
       "      <th>phone</th>\n",
       "      <th>address1</th>\n",
       "      <th>city</th>\n",
       "      <th>state</th>\n",
       "      <th>zip</th>\n",
       "    </tr>\n",
       "  </thead>\n",
       "  <tbody>\n",
       "    <tr>\n",
       "      <th>0</th>\n",
       "      <td>1</td>\n",
       "      <td>123</td>\n",
       "      <td>Amy</td>\n",
       "      <td>Brown</td>\n",
       "      <td>F</td>\n",
       "      <td>1964-06-19 00:00:00</td>\n",
       "      <td>False</td>\n",
       "      <td>True</td>\n",
       "      <td>5555555555</td>\n",
       "      <td>100 Main St</td>\n",
       "      <td>Napa</td>\n",
       "      <td>CA</td>\n",
       "      <td>94559</td>\n",
       "    </tr>\n",
       "    <tr>\n",
       "      <th>1</th>\n",
       "      <td>2</td>\n",
       "      <td>234</td>\n",
       "      <td>Bert</td>\n",
       "      <td>Black</td>\n",
       "      <td>M</td>\n",
       "      <td>1969-08-09 00:00:00</td>\n",
       "      <td>False</td>\n",
       "      <td>True</td>\n",
       "      <td>5555555555</td>\n",
       "      <td>100 Oak St</td>\n",
       "      <td>Napa</td>\n",
       "      <td>CA</td>\n",
       "      <td>94558</td>\n",
       "    </tr>\n",
       "    <tr>\n",
       "      <th>2</th>\n",
       "      <td>3</td>\n",
       "      <td>345</td>\n",
       "      <td>Colleen</td>\n",
       "      <td>Blue</td>\n",
       "      <td>F</td>\n",
       "      <td>2000-09-21 00:00:00</td>\n",
       "      <td>False</td>\n",
       "      <td>False</td>\n",
       "      <td>5555555555</td>\n",
       "      <td>100 Spruce St</td>\n",
       "      <td>Napa</td>\n",
       "      <td>CA</td>\n",
       "      <td>94559</td>\n",
       "    </tr>\n",
       "    <tr>\n",
       "      <th>3</th>\n",
       "      <td>4</td>\n",
       "      <td>456</td>\n",
       "      <td>Daniel</td>\n",
       "      <td>Crimson</td>\n",
       "      <td>M</td>\n",
       "      <td>1996-05-23 00:00:00</td>\n",
       "      <td>False</td>\n",
       "      <td>True</td>\n",
       "      <td>5555555555</td>\n",
       "      <td>100 Yahome St</td>\n",
       "      <td>Napa</td>\n",
       "      <td>CA</td>\n",
       "      <td>94558</td>\n",
       "    </tr>\n",
       "    <tr>\n",
       "      <th>4</th>\n",
       "      <td>5</td>\n",
       "      <td>567</td>\n",
       "      <td>Elizabeth</td>\n",
       "      <td>Green</td>\n",
       "      <td>F</td>\n",
       "      <td>1941-10-21 00:00:00</td>\n",
       "      <td>False</td>\n",
       "      <td>True</td>\n",
       "      <td>5555555555</td>\n",
       "      <td>100 Trancas Blvd</td>\n",
       "      <td>Napa</td>\n",
       "      <td>CA</td>\n",
       "      <td>94559</td>\n",
       "    </tr>\n",
       "    <tr>\n",
       "      <th>5</th>\n",
       "      <td>6</td>\n",
       "      <td>689</td>\n",
       "      <td>Frederick</td>\n",
       "      <td>Gray</td>\n",
       "      <td>M</td>\n",
       "      <td>1964-06-26 00:00:00</td>\n",
       "      <td>False</td>\n",
       "      <td>True</td>\n",
       "      <td>5555555555</td>\n",
       "      <td>100 A St</td>\n",
       "      <td>Napa</td>\n",
       "      <td>CA</td>\n",
       "      <td>94558</td>\n",
       "    </tr>\n",
       "  </tbody>\n",
       "</table>\n",
       "</div>"
      ],
      "text/plain": [
       "  row my_id     f_name   l_name gender               b_date is_deceased  \\\n",
       "0   1   123        Amy    Brown      F  1964-06-19 00:00:00       False   \n",
       "1   2   234       Bert    Black      M  1969-08-09 00:00:00       False   \n",
       "2   3   345    Colleen     Blue      F  2000-09-21 00:00:00       False   \n",
       "3   4   456     Daniel  Crimson      M  1996-05-23 00:00:00       False   \n",
       "4   5   567  Elizabeth    Green      F  1941-10-21 00:00:00       False   \n",
       "5   6   689  Frederick     Gray      M  1964-06-26 00:00:00       False   \n",
       "\n",
       "  is_active       phone          address1  city state    zip  \n",
       "0      True  5555555555       100 Main St  Napa    CA  94559  \n",
       "1      True  5555555555        100 Oak St  Napa    CA  94558  \n",
       "2     False  5555555555     100 Spruce St  Napa    CA  94559  \n",
       "3      True  5555555555     100 Yahome St  Napa    CA  94558  \n",
       "4      True  5555555555  100 Trancas Blvd  Napa    CA  94559  \n",
       "5      True  5555555555          100 A St  Napa    CA  94558  "
      ]
     },
     "execution_count": 12,
     "metadata": {},
     "output_type": "execute_result"
    }
   ],
   "source": [
    "from pandas import *\n",
    "df = read_excel('my_patients.xlsx','Sheet1',na_filter = False, dtype=str)\n",
    "# treat all empty cells as '' and convert all data including booleans to string  \n",
    "\n",
    "df"
   ]
  },
  {
   "cell_type": "markdown",
   "metadata": {},
   "source": [
    "### How to Access Dataframe Data Using dot.notation\n",
    "\n",
    "To do this use the [itertuples method](https://pandas.pydata.org/pandas-docs/stable/reference/api/pandas.DataFrame.itertuples.html)."
   ]
  },
  {
   "cell_type": "code",
   "execution_count": 3,
   "metadata": {},
   "outputs": [
    {
     "name": "stdout",
     "output_type": "stream",
     "text": [
      "i.row = 1: i.f_name = Amy, i.l_name = Brown, i.gender = F , etc...\n",
      "i.row = 2: i.f_name = Bert, i.l_name = Black, i.gender = M , etc...\n",
      "i.row = 3: i.f_name = Colleen, i.l_name = Blue, i.gender = F , etc...\n",
      "i.row = 4: i.f_name = Daniel, i.l_name = Crimson, i.gender = M , etc...\n",
      "i.row = 5: i.f_name = Elizabeth, i.l_name = Green, i.gender = F , etc...\n",
      "i.row = 6: i.f_name = Frederick, i.l_name = Gray, i.gender = M , etc...\n"
     ]
    }
   ],
   "source": [
    "for i in df.itertuples(index=True):     \n",
    "    print(f'i.row = {i.row}: i.f_name = {i.f_name}, i.l_name = {i.l_name}, i.gender = {i.gender} , etc...')"
   ]
  },
  {
   "cell_type": "markdown",
   "metadata": {},
   "source": [
    "### Create Group Instance, One member for Each Row...\n",
    "\n",
    "1. initialize group resource and datatype instances\n",
    "1. iterate over dataframe rows\n",
    "1. assign dataframe data to member elements (may need to massage the strings to fit the data-types - see `active` for example)\n",
    "1. validate and save the resources in the reference server\n",
    "1. option to create narrative using jinja2 templates (that is a topic for another notebook)"
   ]
  },
  {
   "cell_type": "markdown",
   "metadata": {},
   "source": [
    "### import all the modules you need"
   ]
  },
  {
   "cell_type": "code",
   "execution_count": 4,
   "metadata": {},
   "outputs": [],
   "source": [
    "from fhir_model_generator.model import fhirdate, fhirreference, group, patient, identifier, humanname, contactpoint, address\n",
    "from json import dumps\n",
    "from requests import get, post\n",
    "from datetime import datetime, date, timedelta\n",
    "from IPython.display import display as Display, HTML, Markdown"
   ]
  },
  {
   "cell_type": "markdown",
   "metadata": {},
   "source": [
    "### Initialize the Group Resource"
   ]
  },
  {
   "cell_type": "code",
   "execution_count": 5,
   "metadata": {},
   "outputs": [
    {
     "name": "stdout",
     "output_type": "stream",
     "text": [
      "{\n",
      "    \"resourceType\": \"Group\",\n",
      "    \"active\": true,\n",
      "    \"type\": \"person\",\n",
      "    \"actual\": true,\n",
      "    \"name\": \"Example provider patients for today\",\n",
      "    \"quantity\": 6\n",
      "}\n"
     ]
    }
   ],
   "source": [
    "my_g = group.Group(\n",
    "        dict(\n",
    "            type = 'person',\n",
    "            actual = True,\n",
    "            name = \"Example provider patients for today\",\n",
    "            active = True,\n",
    "            quantity = df.shape[0],          \n",
    "        )\n",
    ") # initialize group instance\n",
    "\n",
    "print(dumps(my_g.as_json(), indent =4))"
   ]
  },
  {
   "cell_type": "markdown",
   "metadata": {},
   "source": [
    "### add an identifier and the managingEntity element - i.e. the Organization that created the group."
   ]
  },
  {
   "cell_type": "code",
   "execution_count": 7,
   "metadata": {},
   "outputs": [
    {
     "name": "stdout",
     "output_type": "stream",
     "text": [
      "{\n",
      "    \"resourceType\": \"Group\",\n",
      "    \"identifier\": [\n",
      "        {\n",
      "            \"system\": \"http://example.org\",\n",
      "            \"value\": \"group-2020-03-21T21:19:48.463955\"\n",
      "        }\n",
      "    ],\n",
      "    \"active\": true,\n",
      "    \"type\": \"person\",\n",
      "    \"actual\": true,\n",
      "    \"name\": \"Example provider patients for today\",\n",
      "    \"quantity\": 6,\n",
      "    \"managingEntity\": {\n",
      "        \"display\": \"example managingEntity\"\n",
      "    }\n",
      "}\n"
     ]
    }
   ],
   "source": [
    "my_id = identifier.Identifier( # add complex identifier element\n",
    "    dict(\n",
    "        value = f'group-{str(datetime.now().isoformat())}',\n",
    "        system = \"http://example.org\",\n",
    "        ))\n",
    "my_g.identifier = [my_id]\n",
    "\n",
    "my_me = fhirreference.FHIRReference(\n",
    "    dict(\n",
    "        #reference = \"http://example.org\",\n",
    "        display = \"example managingEntity\",\n",
    "    )\n",
    ")\n",
    "my_g.managingEntity = my_me\n",
    "\n",
    "print(dumps(my_g.as_json(), indent =4))"
   ]
  },
  {
   "cell_type": "markdown",
   "metadata": {},
   "source": [
    "### Add Group Characteristics"
   ]
  },
  {
   "cell_type": "code",
   "execution_count": 8,
   "metadata": {},
   "outputs": [
    {
     "data": {
      "text/plain": [
       "('2020-03-21', '2020-03-22')"
      ]
     },
     "execution_count": 8,
     "metadata": {},
     "output_type": "execute_result"
    }
   ],
   "source": [
    "today = str(date.today())\n",
    "tommorrow = str(date.today() + timedelta(days=1))\n",
    "\n",
    "today, tommorrow"
   ]
  },
  {
   "cell_type": "code",
   "execution_count": 9,
   "metadata": {},
   "outputs": [
    {
     "name": "stdout",
     "output_type": "stream",
     "text": [
      "{\n",
      "    \"resourceType\": \"Group\",\n",
      "    \"identifier\": [\n",
      "        {\n",
      "            \"system\": \"http://example.org\",\n",
      "            \"value\": \"group-2020-03-21T21:19:48.463955\"\n",
      "        }\n",
      "    ],\n",
      "    \"active\": true,\n",
      "    \"type\": \"person\",\n",
      "    \"actual\": true,\n",
      "    \"name\": \"Example provider patients for today\",\n",
      "    \"quantity\": 6,\n",
      "    \"managingEntity\": {\n",
      "        \"display\": \"example managingEntity\"\n",
      "    },\n",
      "    \"characteristic\": [\n",
      "        {\n",
      "            \"code\": {\n",
      "                \"text\": \"provider\"\n",
      "            },\n",
      "            \"valueReference\": {\n",
      "                \"reference\": \"Practitioner/X\",\n",
      "                \"display\": \"Doctor X\"\n",
      "            },\n",
      "            \"exclude\": false,\n",
      "            \"period\": {\n",
      "                \"start\": \"2020-03-21\",\n",
      "                \"end\": \"2020-03-22\"\n",
      "            }\n",
      "        }\n",
      "    ]\n",
      "}\n"
     ]
    }
   ],
   "source": [
    "my_gc = group.GroupCharacteristic(\n",
    "        dict(\n",
    "            exclude = False,\n",
    "            code =  {\"text\":\"provider\"},\n",
    "            valueReference =  {\n",
    "                \"reference\": \"Practitioner/X\",\n",
    "                \"display\": \"Doctor X\",\n",
    "            },\n",
    "            period = {\n",
    "                \"start\": today,\n",
    "                \"end\": tommorrow,\n",
    "                    }\n",
    "        ),\n",
    ")\n",
    "\n",
    "my_g.characteristic = [my_gc]\n",
    "\n",
    "print(dumps(my_g.as_json(), indent =4))"
   ]
  },
  {
   "cell_type": "markdown",
   "metadata": {},
   "source": [
    "### Finally Add the Group Member from Excel\n",
    "\n",
    "- use the business identifier instead of the FHIR Reference."
   ]
  },
  {
   "cell_type": "code",
   "execution_count": 10,
   "metadata": {},
   "outputs": [
    {
     "name": "stdout",
     "output_type": "stream",
     "text": [
      "{\n",
      "    \"resourceType\": \"Group\",\n",
      "    \"identifier\": [\n",
      "        {\n",
      "            \"system\": \"http://example.org\",\n",
      "            \"value\": \"group-2020-03-20T09:31:57.886132\"\n",
      "        }\n",
      "    ],\n",
      "    \"active\": true,\n",
      "    \"type\": \"person\",\n",
      "    \"actual\": true,\n",
      "    \"name\": \"Example provider patients for today\",\n",
      "    \"quantity\": 6,\n",
      "    \"managingEntity\": {\n",
      "        \"display\": \"example managingEntity\"\n",
      "    },\n",
      "    \"characteristic\": [\n",
      "        {\n",
      "            \"code\": {\n",
      "                \"text\": \"provider\"\n",
      "            },\n",
      "            \"valueReference\": {\n",
      "                \"reference\": \"Practitioner/X\",\n",
      "                \"display\": \"Doctor X\"\n",
      "            },\n",
      "            \"exclude\": false,\n",
      "            \"period\": {\n",
      "                \"start\": \"2020-03-20\",\n",
      "                \"end\": \"2020-03-21\"\n",
      "            }\n",
      "        }\n",
      "    ],\n",
      "    \"member\": [\n",
      "        {\n",
      "            \"entity\": {\n",
      "                \"identifier\": {\n",
      "                    \"system\": \"http://example.org\",\n",
      "                    \"value\": \"123\"\n",
      "                },\n",
      "                \"display\": \"MRN = 123\"\n",
      "            },\n",
      "            \"inactive\": false\n",
      "        },\n",
      "        {\n",
      "            \"entity\": {\n",
      "                \"identifier\": {\n",
      "                    \"system\": \"http://example.org\",\n",
      "                    \"value\": \"234\"\n",
      "                },\n",
      "                \"display\": \"MRN = 234\"\n",
      "            },\n",
      "            \"inactive\": false\n",
      "        },\n",
      "        {\n",
      "            \"entity\": {\n",
      "                \"identifier\": {\n",
      "                    \"system\": \"http://example.org\",\n",
      "                    \"value\": \"345\"\n",
      "                },\n",
      "                \"display\": \"MRN = 345\"\n",
      "            },\n",
      "            \"inactive\": false\n",
      "        },\n",
      "        {\n",
      "            \"entity\": {\n",
      "                \"identifier\": {\n",
      "                    \"system\": \"http://example.org\",\n",
      "                    \"value\": \"456\"\n",
      "                },\n",
      "                \"display\": \"MRN = 456\"\n",
      "            },\n",
      "            \"inactive\": false\n",
      "        },\n",
      "        {\n",
      "            \"entity\": {\n",
      "                \"identifier\": {\n",
      "                    \"system\": \"http://example.org\",\n",
      "                    \"value\": \"567\"\n",
      "                },\n",
      "                \"display\": \"MRN = 567\"\n",
      "            },\n",
      "            \"inactive\": false\n",
      "        },\n",
      "        {\n",
      "            \"entity\": {\n",
      "                \"identifier\": {\n",
      "                    \"system\": \"http://example.org\",\n",
      "                    \"value\": \"689\"\n",
      "                },\n",
      "                \"display\": \"MRN = 689\"\n",
      "            },\n",
      "            \"inactive\": false\n",
      "        }\n",
      "    ]\n",
      "}\n"
     ]
    }
   ],
   "source": [
    "my_g.member =[]\n",
    "for i in df.itertuples(index=True):\n",
    "    my_member = group.GroupMember(\n",
    "        dict(\n",
    "            inactive= False,\n",
    "            entity = dict(\n",
    "                identifier = dict(\n",
    "                        value = i.my_id,\n",
    "                        system = \"http://example.org\",\n",
    "                    ),\n",
    "                display = f'MRN = {i.my_id}',\n",
    "            ),\n",
    "        )\n",
    "    )\n",
    "    \n",
    "    my_g.member.append(my_member)\n",
    "\n",
    "    \n",
    "my_gj = dumps(my_g.as_json(), indent =4)\n",
    "\n",
    "print(my_gj)"
   ]
  },
  {
   "cell_type": "markdown",
   "metadata": {},
   "source": [
    "   \n",
    "### ======= Validate  =======\n",
    "    "
   ]
  },
  {
   "cell_type": "code",
   "execution_count": 108,
   "metadata": {},
   "outputs": [
    {
     "name": "stdout",
     "output_type": "stream",
     "text": [
      "validating ...\n"
     ]
    },
    {
     "data": {
      "text/html": [
       "<h1>Validation output</h1><h3>Status Code = 200</h3><div xmlns=\"http://www.w3.org/1999/xhtml\"><h1>Operation Outcome</h1><table border=\"0\"><tr><td style=\"font-weight: bold;\">WARNING</td><td>[Group, Line 1, Col 2]</td><td><pre>dom-6: A resource should have narrative for robust management [text.div.exists()]</pre></td>\n",
       "\t\t\t\t\t\n",
       "\t\t\t\t\n",
       "\t\t\t</tr>\n",
       "\t\t\t<tr>\n",
       "\t\t\t\t<td style=\"font-weight: bold;\">INFORMATION</td>\n",
       "\t\t\t\t<td>[Group.characteristic[0].code, Line 21, Col 14]</td>\n",
       "\t\t\t\t\n",
       "\t\t\t\t\t\n",
       "\t\t\t\t\t\n",
       "\t\t\t\t\t\t<td><pre>Binding for path Group.characteristic[0].code has no source, so can't be checked</pre></td>\n",
       "\t\t\t\t\t\n",
       "\t\t\t\t\n",
       "\t\t\t</tr>\n",
       "\t\t</table>\n",
       "\t</div>"
      ],
      "text/plain": [
       "<IPython.core.display.HTML object>"
      ]
     },
     "metadata": {},
     "output_type": "display_data"
    }
   ],
   "source": [
    "ref_server ='http://hapi.fhir.org/baseR4'\n",
    "headers = {\n",
    "    'Accept':'application/fhir+json',\n",
    "    'Content-Type':'application/fhir+json'\n",
    "    }\n",
    "params = dict(\n",
    "      )\n",
    "print('validating ...')\n",
    "r = post(f'{ref_server}/{my_g.resource_type}/$validate',\n",
    "         params = params, headers = headers, data = my_gj)\n",
    "display(HTML(\n",
    "    '<h1>Validation output</h1>'\n",
    "    f'<h3>Status Code = {r.status_code}</h3>'\n",
    "    f'{r.json()[\"text\"][\"div\"]}'\n",
    "    ))"
   ]
  },
  {
   "cell_type": "markdown",
   "metadata": {},
   "source": [
    "### ======= Save/Load to ref FHIR Server ===========\n",
    "  "
   ]
  },
  {
   "cell_type": "code",
   "execution_count": 112,
   "metadata": {},
   "outputs": [
    {
     "data": {
      "text/html": [
       "<h1>Post Response</h1><h3>Status Code = 201</h3><br /><pre>Response Headers: {\n",
       "    \"Server\": \"nginx/1.14.0 (Ubuntu)\",\n",
       "    \"Date\": \"Sun, 08 Mar 2020 04:54:46 GMT\",\n",
       "    \"Content-Type\": \"application/fhir+json;charset=utf-8\",\n",
       "    \"Transfer-Encoding\": \"chunked\",\n",
       "    \"Connection\": \"keep-alive\",\n",
       "    \"X-Powered-By\": \"HAPI FHIR 4.3.0-SNAPSHOT REST Server (FHIR Server; FHIR 4.0.1/R4)\",\n",
       "    \"ETag\": \"W/\\\"1\\\"\",\n",
       "    \"X-Request-ID\": \"3n0pJIMurKhbMRfe\",\n",
       "    \"Content-Location\": \"http://hapi.fhir.org/baseR4/Group/639233/_history/1\",\n",
       "    \"Last-Modified\": \"Sun, 08 Mar 2020 04:54:46 GMT\",\n",
       "    \"Location\": \"http://hapi.fhir.org/baseR4/Group/639233/_history/1\",\n",
       "    \"Content-Encoding\": \"gzip\"\n",
       "}</pre>===============================================<br /><br /><br />"
      ],
      "text/plain": [
       "<IPython.core.display.HTML object>"
      ]
     },
     "metadata": {},
     "output_type": "display_data"
    }
   ],
   "source": [
    "r = post(f'{ref_server}/{my_g.resource_type}',\n",
    "          params = params, headers = headers, data = my_gj)\n",
    "try:\n",
    "    display(HTML(\n",
    "        '<h1>Post Response</h1>'\n",
    "        f'<h3>Status Code = {r.status_code}</h3><br />'\n",
    "        f'<pre>Response Headers: {dumps(dict(r.headers), indent=4)}</pre>'\n",
    "        f'<em>Resource Narrative</em>: {r.json()[\"text\"][\"div\"]}'\n",
    "        '===============================================<br /><br /><br />'\n",
    "        ))\n",
    "except KeyError:\n",
    "    display(HTML(\n",
    "        '<h1>Post Response</h1>'\n",
    "        f'<h3>Status Code = {r.status_code}</h3><br />'\n",
    "        f'<pre>Response Headers: {dumps(dict(r.headers), indent=4)}</pre>'\n",
    "        #f'<em>Resource Narrative</em>: {r.json()[\"text\"][\"div\"]}'\n",
    "        '===============================================<br /><br /><br />'\n",
    "        ))   "
   ]
  },
  {
   "cell_type": "markdown",
   "metadata": {},
   "source": [
    "###  Todo:\n",
    "\n",
    "- Add Narratives\n",
    "- Fetch ids for patients to replace the identifiers"
   ]
  },
  {
   "cell_type": "code",
   "execution_count": null,
   "metadata": {},
   "outputs": [],
   "source": []
  }
 ],
 "metadata": {
  "kernelspec": {
   "display_name": "Python 3",
   "language": "python",
   "name": "python3"
  },
  "language_info": {
   "codemirror_mode": {
    "name": "ipython",
    "version": 3
   },
   "file_extension": ".py",
   "mimetype": "text/x-python",
   "name": "python",
   "nbconvert_exporter": "python",
   "pygments_lexer": "ipython3",
   "version": "3.7.3"
  }
 },
 "nbformat": 4,
 "nbformat_minor": 4
}
