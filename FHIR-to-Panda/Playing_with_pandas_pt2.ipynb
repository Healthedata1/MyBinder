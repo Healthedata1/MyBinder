{
 "cells": [
  {
   "cell_type": "markdown",
   "metadata": {},
   "source": [
    "##  Flatten FHIR Observations to Panda Dataframe and do some stats on them\n",
    "\n",
    "1. Fetch a series of FHIR Observations\n",
    "1. Flatten them and create a Panda Dataframe\n",
    "1. Perform several stats operations on them"
   ]
  },
  {
   "cell_type": "code",
   "execution_count": 4,
   "metadata": {},
   "outputs": [],
   "source": [
    "from pathlib import Path \n",
    "from json import dumps,loads\n",
    "from pandas import *\n",
    "from requests import get\n",
    "from IPython.display import display as Display,HTML\n",
    "\n",
    "ref_server ='http://hapi.fhir.org/baseR4'\n",
    "#ref_server ='http://hapi.fhir.org/baseR5'\n",
    "headers = {\n",
    "    'Accept':'application/fhir+json',\n",
    "    'Content-Type':'application/json'\n",
    "    }\n"
   ]
  },
  {
   "cell_type": "markdown",
   "metadata": {},
   "source": [
    "### Using GraphQL with FHIR we can extract and flatten data in dataframes for Pandas\n",
    "\n",
    "See:  http://build.fhir.org/graphql.html\n",
    "\n",
    "for example using the graphql expresssion:\n",
    "`{{url}}/$graphql?query={PatientList{name@flatten@first{text,given@first,family}}}` \n",
    "\n",
    "for the server: http://hapi.fhir.org/baseR4\n",
    "\n",
    "we get the output..."
   ]
  },
  {
   "cell_type": "code",
   "execution_count": 5,
   "metadata": {},
   "outputs": [
    {
     "data": {
      "text/plain": [
       "{'query': '{PatientList{name@flatten@first{text,given@first,family}}}'}"
      ]
     },
     "execution_count": 5,
     "metadata": {},
     "output_type": "execute_result"
    }
   ],
   "source": [
    "params = dict(\n",
    "    query = \"{PatientList{name@flatten@first{text,given@first,family}}}\"\n",
    "    )\n",
    "params"
   ]
  },
  {
   "cell_type": "code",
   "execution_count": 6,
   "metadata": {},
   "outputs": [
    {
     "data": {
      "text/html": [
       "<h1>Response</h1><h3>Status Code = 200</h3><pre>{'data': {'PatientList': [{'given': 'Veera', 'family': 'Radonctest'}, {'text': 'Xavier Cooper', 'given': 'Xavier', 'family': 'Cooper'}, {'given': 'Peter', 'family': 'IchDenkeMal'}, {'given': 'Jack', 'family': 'Ma'}, {'given': 'Peter', 'family': 'Bond'}, {}, {'given': 'Gladagubben', 'family': 'Solstråle'}, {'given': 'Justin359', 'family': 'Lakin515'}, {'given': 'Henry', 'family': 'Levin'}, {'given': 'Jack', 'family': 'Ma'}, {'given': 'Jack', 'family': 'Ma'}, {'given': 'Caleb', 'family': 'Cushing'}, {'given': 'Bob', 'family': 'Alexander'}, {'given': 'Caleb', 'family': 'Cushing'}, {'given': 'Bob', 'family': 'Alexander'}, {'given': 'Caleb', 'family': 'Cushing'}, {'given': 'Bob', 'family': 'Alexander'}, {'given': 'Caleb', 'family': 'Cushing'}, {'given': 'Bob', 'family': 'Alexander'}, {'given': 'Caleb', 'family': 'Cushing'}, {'given': 'Bob', 'family': 'Alexander'}, {'given': 'Caleb', 'family': 'Cushing'}, {'given': 'Bob', 'family': 'Alexander'}, {'given': 'Caleb', 'family': 'Cushing'}, {'given': 'Bob', 'family': 'Alexander'}, {'given': 'Jack', 'family': 'Ma'}, {'text': 'Jenna James', 'given': 'Jenna', 'family': 'James'}, {'given': 'Henry', 'family': 'Levin'}, {'given': 'Jim', 'family': 'Allen'}, {'given': 'Booker', 'family': 'Booker'}, {'given': 'Peter', 'family': 'Chalmers'}, {'given': 'Jason', 'family': 'Binder'}, {'given': 'Ahmed', 'family': 'Albarki'}, {'given': 'Dorothy', 'family': 'Mayer'}, {'given': 'Adam', 'family': 'Everyman'}, {'given': 'Dorothy', 'family': 'Mayer'}, {'given': 'Dorothy', 'family': 'Mayer'}, {'given': 'Dorothy', 'family': 'Mayer'}, {'given': 'Dorothy', 'family': 'Mayer'}, {'given': 'Jim', 'family': 'Aarons Jr.'}, {'text': 'Dorothy Mayer', 'given': 'Dorothy', 'family': 'Mayer'}, {'text': 'Dorothy Mayer', 'given': 'Dorothy', 'family': 'Mayer'}, {'given': 'Caleb', 'family': 'Cushing'}, {'given': 'Bob', 'family': 'Alexander'}, {'given': 'Caleb', 'family': 'Cushing'}, {'given': 'Bob', 'family': 'Alexander'}, {'given': 'Caleb', 'family': 'Cushing'}, {'given': 'Bob', 'family': 'Alexander'}, {'given': 'Caleb', 'family': 'Cushing'}, {'given': 'Bob', 'family': 'Alexander'}, {'given': 'Caleb', 'family': 'Cushing'}, {'given': 'Bob', 'family': 'Alexander'}, {'given': 'Caleb', 'family': 'Cushing'}, {'given': 'Bob', 'family': 'Alexander'}, {'given': 'Caleb', 'family': 'Cushing'}, {'given': 'Bob', 'family': 'Alexander'}, {'given': 'Michael', 'family': 'Bauzon'}, {'given': 'Dorothy', 'family': 'Mayer'}, {'given': 'Dorothy', 'family': 'Mayer'}, {'given': 'Dorothy', 'family': 'Mayer'}, {'given': 'Dorothy', 'family': 'Smith'}, {'given': 'Dorothy', 'family': 'Smith'}, {'given': 'Dorothy', 'family': 'Mayer'}, {'given': 'Veera', 'family': 'Radonctest'}, {'given': 'Veera', 'family': 'Radonctest'}, {'given': 'Veera', 'family': 'Radonctest'}, {}, {'given': 'Dorothy', 'family': 'Mayer'}, {'given': 'Dorothy', 'family': 'Mayer'}, {'given': 'Dorothy', 'family': 'Mayer'}, {'given': 'Pieter', 'family': 'van de Heuvel'}, {'given': 'Caleb', 'family': 'Cushing'}, {'given': 'Bob', 'family': 'Alexander'}, {'given': 'Caleb', 'family': 'Cushing'}, {'given': 'Bob', 'family': 'Alexander'}, {'given': 'Caleb', 'family': 'Cushing'}, {'given': 'Bob', 'family': 'Alexander'}, {'given': 'Caleb', 'family': 'Cushing'}, {'given': 'Bob', 'family': 'Alexander'}, {'given': 'Caleb', 'family': 'Cushing'}, {'given': 'Bob', 'family': 'Alexander'}, {'given': 'Caleb', 'family': 'Cushing'}, {'given': 'Bob', 'family': 'Alexander'}, {'given': 'Caleb', 'family': 'Cushing'}, {'given': 'Bob', 'family': 'Alexander'}, {'given': 'Dorothy', 'family': 'Mayer'}, {}, {'given': 'Series_Status: Not complete', 'family': 'dose 2 to 3 Pentacel interval 28-4 days'}, {'given': 'Series_Status: Complete', 'family': '# 5 Pentacel at ≥ 4 yrs'}, {'given': 'Series_Status: Not complete', 'family': '# 1 Pentacel at 6 wks-5 days'}, {'given': 'Series_Status: Complete', 'family': 'invalid age dose 2 in midst of others'}, {'given': 'Series_Status: Not complete', 'family': 'Kinrix at age 4 to child with appropriate DTaP=UTD until adolescence'}, {'given': 'Series_Status: Not complete', 'family': '# 4 Pentacel ≥ age 12 mo'}, {'text': 'This test case describes when dose #3 of the HepB vaccine (Pediarix) is administered at 24 weeks - 4 days from dose #2 that the dose is considered to be valid.', 'given': 'Series_Status: Complete', 'family': '# 3 Pediarix at 24 weeks-4 days. Valid for dose 3'}, {'text': 'This test case describes when dose #3 of the HepB vaccine (Pediarix) is administered at 14 weeks - 4 days from dose #2 that the dose is not valid.', 'given': 'Series_Status: Not complete', 'family': '# 3 Pediarix at 14 wks-4 days'}, {'text': 'This test case describes when dose #3 of the HepB vaccine (Pediarix) is administered at 14 weeks - 5 days from dose #2 that the dose is not valid.', 'given': 'Series_Status: Not complete', 'family': '# 3 Pediarix at 14 wks-5 days'}, {'text': 'This test case describes when dose #2 of the Hep B Vaccine (Pediarix) is administered at an interval of 28 days after dose #1 that the dose is considered to be valid.', 'given': 'Series_Status: Not complete', 'family': '# 1 and 2 Pediarix at ≥7 yrs with 28 day interval.'}, {'text': 'This test case describes when dose #2 of the Hep B vaccine is administered at 7 years after dose #1 (child is 12 months of age) that the dose is considered to b valid.', 'given': 'Series_Status: Not complete', 'family': '# 2 Pediarix at 7 yrs # 1 ≥ 12 mo.'}, {'text': 'This test case describes when dose #2 of the Hep B vaccine is administered at 7 years after dose #1 (child less than 12 months) that the dose is considered to b valid.', 'given': 'Series_Status: Not complete', 'family': '# 2 Pediarix at 7 yrs # 1 at less than 12 mo.'}, {'text': 'This test case describes the forecasting of the Hep B vaccine for a newborn.', 'given': 'Series_Status: Not complete', 'family': 'Newborn forecasting'}, {'text': 'This test case describes when dose #2 of the Hep B vaccine is administered at 6 years and 11 months after dose #1 that the dose is considered to b valid.', 'given': 'Series_Status: Not complete', 'family': '# 2 Pediarix at 6 yrs 11.5 mo'}, {'text': 'This test case describes when dose #3 of the Hep B vaccine is administered at 24 weeks of age that the series is complete.', 'given': 'Series_Status: Complete', 'family': 'Dose # 3 at 24 weeks. Series complete.'}, {'text': 'This test case describes when dose #3 of the Hep B vaccine is administered at 24 weeks - 4 days of age that the series is complete.', 'given': 'Series_Status: Complete', 'family': 'Dose # 3 at age 24 weeks-4 days. Series complete.'}, {'text': 'This test case describes when dose #3 of the Hep B vaccine is administered at 24 weeks - 5 days of age that the dose is valid but a 4th dose is needed to completed the series.', 'given': 'Series_Status: Not complete', 'family': 'Dose # 3 at age 24 weeks-5 days. 4th dose needed.'}, {'text': 'This test case describes when dose #2 of the Hep B vaccine is administered at an interval of 28 days that the dose is considered to be valid.', 'given': 'Series_Status: Not complete', 'family': 'Dose # 2 at 28 days'}, {'text': 'This test case describes when dose #2 of the Hep B vaccine is administered at an interval of 28 - 4 days that the dose is considered to be valid.', 'given': 'Series_Status: Not complete', 'family': 'Dose # 2 at 28-4 days'}, {'text': 'This test case describes when dose #2 of the Hep B vaccine is administered at an interval of 28 - 5 days that the dose is not valid.', 'given': 'Series_Status: Not complete', 'family': 'Dose # 2 at 28-5 days'}, {'given': 'Series_Status: Not complete', 'family': '# 2 at 10 wks-3 days PRP-OMP series'}, {'given': 'Series_Status: Not complete', 'family': 'Dose # 1 at age 6 weeks'}, {'given': 'Series_Status: Not complete', 'family': '#3 at 5m (#1 #2 at 2 and 4m)'}, {'given': 'Series_Status: Not complete', 'family': 'Dose # 1 at age 2 months'}, {'given': 'Series_Status: Not complete', 'family': '# 2 at 12 months'}, {'given': 'Series_Status: Complete', 'family': 'Kinrix as dose 4 at age 4 years-4 days= polio series complete'}, {'given': 'Series_Status: Not complete', 'family': 'Dose # 1 at age 6 weeks-4 days'}, {'given': 'Series_Status: Not complete', 'family': 'Child<2 months no shots #1 forecasted at 2 months of age'}, {'given': 'Series_Status: Not complete', 'family': 'Kinrix as dose 4 at age 4 years-5 days'}, {'given': 'Series_Status: Not complete', 'family': '# 2 at 10 wks-4 days PRP-OMP series'}, {'given': 'Series_Status: Complete', 'family': 'Kinrix at age 4 years as dose 4=polio series complete'}, {'given': 'Series_Status: Not complete', 'family': 'Kinrix at 12 months old.'}, {'given': 'Series_Status: Not complete', 'family': 'Dose 3 given as Kinrix at age 6 mos. Off label but valid.'}, {'given': 'Series_Status: Not complete', 'family': 'Dose 2 given as Kinrix at age 4 mo. Off label but valid as IPV 2.'}, {'given': 'Series_Status: Not complete', 'family': 'Dose 1 given as Kinrix at age 2 mos. Off-label but valid as IPV # 1.'}, {'given': 'Series_Status: Complete', 'family': '4 doses of mixed OPV/IPV with one after age 4=polio series complete'}, {'text': 'This test case describes when dose #3 of the Hep B vaccine is administered at an interval of 16 weeks - 4 days from dose #1 that the dose is considered to be valid. The series is complete.', 'given': 'Series_Status: Complete', 'family': 'Dose 1 to dose 3 interval of Comvax 16 wks-4 days=valid Hep B # 3. Hep B series complete.'}, {'text': 'This test case describes when dose #3 of the Hep B vaccine is administered at an interval of 16 weeks from dose #1 that the dose is considered to be valid. The series is complete.', 'given': 'Series_Status: Complete', 'family': 'Dose 1 to dose 3 interval of Comvax is 16 weeks. Series complete for Hep B.'}, {'text': 'This test case describes when dose #1 of the Hep B vaccine is administered at birth dose #2 is administered at an interval of 5 months after previous dose  and dose #3 is administered at 8 weeks after dose #2 that the series is complete.', 'given': 'Series_Status: Complete', 'family': 'Hep at birth. Comvax at 5 mo and 8 wks later. Series complete for Hep B.'}, {'text': 'This test case describes when dose #3 of the Hep B vaccine is administered at an interval of 16 weeks - 5 days from dose #1 that the dose is valid but a 4th dose is needed to complete the series.', 'given': 'Series_Status: Not complete', 'family': 'Dose 1 to dose 3 interval of Comvax 16 wks-5 days. 4th dose needed'}, {'text': 'This test case describes when a newborn is administered dose #1 for he Hep B vaccine at age 1 day that the dose is considered to be valid.', 'given': 'Series_Status: Not complete', 'family': 'Dose # 1 at age 1 day'}, {'text': 'This test case describes when dose #1 of the Hep B vaccine is administered at birth dose #2 is administered at an interval of 5 months after previous dose  and dose #3 is administered at 8 weeks - 4 days after dose #2 that the series is complete.', 'given': 'Series_Status: Complete', 'family': 'Hep B at birth. Comvax at 5 mo and 8 wks-4 days later. Series complete for Hep B.'}, {'given': 'Series_Status: Complete', 'family': '#3 at 365 d -4 days (#1 at 7m #2 at 8m)'}, {'given': 'Series_Status: Not complete', 'family': '#3 at 365 d -5 days (#1 at 7m #2 at 8m)'}, {'given': 'Series_Status: Not complete', 'family': 'Invalid dose 1 to dose 2 interval in midst of other vaccines'}, {'given': 'Series_Status: Not complete', 'family': 'Invalid dose 2 to dose 3 interval in midst of other vaccines.'}, {'given': 'Series_Status: Not complete', 'family': '#2 at 11 m (#1 at 7 m)'}, {'given': 'Series_Status: Not complete', 'family': 'Dose 3 to dose 4 interval 4 months'}, {'given': 'Series_Status: Not complete', 'family': '#2 at 7 m and 24 days (#1 at 7 m)'}, {'given': 'Series_Status: Not complete', 'family': 'Dose 3 to dose 4 interval 6 months'}, {'given': 'Series_Status: Not complete', 'family': '#2 at 12 m (#1 at 7 m)'}, {'given': 'Series_Status: Not complete', 'family': '# 1 at 12 months -3 days'}, {'given': 'Series_Status: Not complete', 'family': 'Dose 3 to dose 4 interval 6 months-4 days'}, {'given': 'Series_Status: Not complete', 'family': '#2 at 7 m and 23 days (#1 at 7 m)'}, {'given': 'Series_Status: Not complete', 'family': '# 1 at 12 months -4 days'}, {'given': 'Series_Status: Not complete', 'family': '# 3 Pediarix at 24 weeks-4 days.'}, {'given': 'Series_Status: Not complete', 'family': '# 1 at 7 months -4 days'}, {'given': 'Series_Status: Not complete', 'family': 'Dose 2 to dose 3 interval 28-4 days'}, {'given': 'Series_Status: Not complete', 'family': 'Dose 2 to dose 3 interval 28 days'}, {'given': 'Series_Status: Complete', 'family': '# 3 Pediarix at 6 yrs 11.5 mo'}, {'given': 'Series_Status: Not complete', 'family': '# 1 at 12 months minus 5 days'}, {'given': 'Series_Status: Not complete', 'family': '#1 at 7 months-5 days'}, {'given': 'Series_Status: Not complete', 'family': 'Dose 1 to dose 2 interval 28 days'}, {'given': 'Series_Status: Not complete', 'family': '# 3 Pediarix at 14 wks-4 days.'}, {'given': 'Series_Status: Complete', 'family': 'Dose 2 to 3 interval 8 weeks -3 days #3 after 12 months of age'}, {'given': 'Series_Status: Not complete', 'family': 'Dose 2 to dose 3 interval 28-5 days'}, {'given': 'Series_Status: Not complete', 'family': '# 3 Pediarix at 24 weeks-5 days.'}, {'given': 'Series_Status: Not complete', 'family': '#1 at 7 months- 3 days'}, {'given': 'Series_Status: Not complete', 'family': 'DTaP #1 at age 6 weeks-4 days'}, {'given': 'Series_Status: Complete', 'family': '#3 at 15 months'}, {'given': 'Series_Status: Not complete', 'family': '# 1 and 2 Pediarix at ≥7 yrs with 28 day interval. Off label'}, {'given': 'Series_Status: Complete', 'family': '#3 at 59 months'}, {'given': 'Series_Status: Not complete', 'family': '# 3 Pediarix at 14 wks-5 days'}, {'given': 'Series_Status: Not complete', 'family': 'Dose 1 to dose 2 interval 28-4 days'}, {'given': 'Series_Status: Not complete', 'family': 'Dose 1 to dose 2 interval 28-5 days'}, {'given': 'Series_Status: Not complete', 'family': '# 2 Pediarix at 6 yrs 11.5 mo'}, {'given': 'Series_Status: Not complete', 'family': 'Invalid age dose 5 in midst of others'}, {'given': 'Series_Status: Complete', 'family': '#3 at 12 months - 3 days'}, {'given': 'Series_Status: Not complete', 'family': '# 2 Pediarix at 7 yrs # 1 at less than 12 mo.'}, {'given': 'Series_Status: Not complete', 'family': '#3 at 12 months -5 days'}, {'given': 'Series_Status: Not complete', 'family': '# 2 Pediarix at 7 yrs # 1 ≥ 12 mo.'}, {'given': 'Series_Status: Not complete', 'family': 'Dose # 2 at age 10 weeks-5 days'}, {'given': 'Series_Status: Not complete', 'family': 'Dose # 2 at age 10 weeks-4 days'}, {'given': 'Series_Status: Not complete', 'family': '#3 at 11 months'}, {'given': 'Series_Status: Not complete', 'family': 'Newborn forecasting'}, {'given': 'Series_Status: Not complete', 'family': '#3 at 10 months and 9 days (#12 at 2 and 3 m)'}, {'given': 'Series_Status: Aged out', 'family': '#4 at 7 years'}, {'given': 'Series_Status: Aged out', 'family': '#4 at 5 years'}, {'given': 'Series_Status: Complete', 'family': '# 4 at 15 months of age'}, {'given': 'Series_Status: Complete', 'family': '#4 at 12 months of age interval between #3-4 8 weeks -4 days'}, {'text': 'This test case describes when dose #1 of the Hep B vaccine is administered at birth dose #2 is administered at an interval of 4 weeks after previous dose  and dose #3 is administered at 6 months after dose #2 that the series is complete.', 'given': 'Series_Status: Complete', 'family': 'Hep B at birth. Comvax at 4 weeks and 6 months. Series complete for Hep B.'}, {'text': 'This test case describes when dose #1 of the Hep B vaccine is administered at birth dose #2 is administered at an interval of 6 weeks after previous dose  and dose #3 is administered at 6 months after dose #2 that the series is complete.', 'given': 'Series_Status: Complete', 'family': 'Hep at birth. Comvax at 6 wks and 6 mo. Hep series complete.'}, {'text': 'This test case describes when dose #3 of the Hep B Recomibivax vaccine is administered at an interval of 8 weeks - 5 days from dose #2 to an adolescent child that the dose is valid but a fourth dose is required.', 'given': 'Series_Status: Not complete', 'family': 'Dose 2 to dose 3 interval 8 wks-5 days in adolescent with two Recombivax not meeting rules for two dose adoles. 4th dose needed'}, {'text': 'This test case describes when dose #2 of the Hep B Recombivax vaccine is administered at an interval of 4 months - 5 days after dose #1 to a child age 11 years of age that dose is not valid.', 'given': 'Series_Status: Not complete', 'family': 'Dose 1 to dose 2 Recombivax interval 4 months-5 days. Two dose adolescent schedule no longer applies.'}, {'text': 'This test case describes when dose #1 of the Hep B vaccine is administered at 0 days that the dose is considered to be valid.', 'given': 'Series_Status: Not complete', 'family': 'Dose # 1 at age 0 days.'}, {'text': 'This test case describes when dose #2 of the Hep B Recombivax vaccine is administered at an interval of 6 months from dose #1 to a child age 12 years that dose is considered to be valid. The series is complete.', 'given': 'Series_Status: Complete', 'family': 'Doses 1 and 2 of Recombvx at ages 11-15 years with ≥ 4 mo interval = series complete.'}, {'text': 'This test case describes when dose #1 of the Hep B Recombivax vaccine is administered at age 12 years that dose #2 should be administered at 4 months - 6 months later', 'given': 'Series_Status: Not complete', 'family': 'Recombivax Hep B ages 11-15. Dose 2 recommended in 4-6 months.'}, {'text': 'This test case describes when dose #3 of the Hep B vaccine is administered at an interval of 16 weeks from dose #1 that the dose is considered to be valid. The series is complete.', 'given': 'Series_Status: Complete', 'family': 'Dose 1 to dose 3 interval 16 weeks. Series complete.'}, {'text': 'This test case describes when dose #3 of the Hep B vaccine is administered at an interval of 16 weeks - 4 days from dose #1 that the dose is considered to be valid. The series is complete.', 'given': 'Series_Status: Complete', 'family': 'Dose 1 to dose 3 interval 16 weeks-4 days. Series complete.'}, {'text': 'This test case describes when dose #3 of the Hep B vaccine is administered at an interval less than 16 weeks - 4 days from dose #1 that the dose is considered to be valid but a 4th dose is needed to complete the series.', 'given': 'Series_Status: Not complete', 'family': 'Dose 1 to dose 3 interval 16 weeks-5 days. 4th dose needed'}, {'text': 'This test case describes when dose #3 of the Hep B vaccine is administered at an interval of 8 weeks after dose #2 that the dose is considered to be valid. The series is complete.', 'given': 'Series_Status: Complete', 'family': 'Dose 2 to dose 3 interval is 8 weeks. Series complete.'}, {'text': 'This test case describes when dose #3 of the Hep B vaccine is administered at an interval of 8 weeks - 4 days after dose #2 that the dose is considered to be valid. The series is complete.', 'given': 'Series_Status: Complete', 'family': 'Dose 2 to dose 3 interval 8 wks-4 days. Series complete'}, {'text': 'This test case describes when dose #3 of the Hep B vaccine is administered at an interval of 8 weeks - 5 days after dose #2 that the dose is considered valid but a 4th dose is needed to complete the series.', 'given': 'Series_Status: Not complete', 'family': 'Dose 2 to dose 3 interval 8 wks-5 days. 4th dose needed.'}, {'text': 'This test case desribes when dose #2 of the Hep B vaccine is administered at an interval of 28 days after dose #1 that the dose is considered to be valid.', 'given': 'Series_Status: Not complete', 'family': 'Dose 1 to dose 2 interval 28 days'}, {'text': 'This test case desribes when dose #2 of the Hep B vaccine is administered at an interval of 28-4 days after dose #1 that the dose is considered to be valid.', 'given': 'Series_Status: Not complete', 'family': 'Dose 1 to dose 2 interval 28-4 days'}, {'text': 'This test case desribes when dose #2 of the Hep B vaccine was administered at an interval 28-5 days after dose #1.', 'given': 'Series_Status: Not complete', 'family': 'Dose 1 to dose 2 interval 28-5 days'}, {'given': 'Series_Status: Not complete', 'family': 'Invalid dose 1 (age) as first of others'}, {'given': 'Series_Status: Not complete', 'family': 'Invalid dose # 2 (age) in midst of others'}, {'given': 'Series_Status: Complete', 'family': 'Dose # 4 at age 4 years 0 days. Series complete.'}, {'given': 'Series_Status: Complete', 'family': 'Dose # 4 at age 4 years-4 days. Series complete.'}, {'given': 'Series_Status: Not complete', 'family': 'Dose # 4 at age 4 yrs-5 days'}, {'text': 'This test case describes when an adolescent receives a second dose of the Hep A vaccine at an interval of 6 month- 5 days that another dose should be forecast.', 'given': 'Series_Status: Not complete', 'family': 'Dose 2 of Hep A at 6 months -5 days'}, {'text': 'This test case describes the forecasting of the Hep B vaccine for a newborn.', 'given': 'Series_Status: Not complete', 'family': 'Newborn Testing. No vaccinations to date.'}, {'text': 'This test case describes when a third dose is administered at least 6 months after the first dose that the dose is considered to be valid. The series is complete. The invalid dose (2nd dose administered) is not considered in the spacing.', 'given': 'Series_Status: Complete', 'family': 'Dose#3 administered at least 6 months after 1st valid dose'}, {'text': 'This test case describes when an adolescent receives a second dose of the Hep A vaccine at an interval of 6 month that no additional doses are needed. The series is complete.', 'given': 'Series_Status: Complete', 'family': 'Dose 2 of Hep A at 6 months'}, {'text': 'This test case describes when an adolescent receives a second dose of the Hep A vaccine at an interval of 6 month- 4 days that no additional dose are needed. The series is complete.', 'given': 'Series_Status: Complete', 'family': 'Dose 2 of Hep A at 6 months -4 days'}, {'text': 'This test case describes when a patient is 18 years of age and has no previous doses of the Hep A vaccine that the first dose should be forecast.', 'given': 'Series_Status: Not complete', 'family': 'No doses of Hep A vaccine at age 18 years'}, {'text': 'This test case describes when dose #1 of the Hep A vaccine is administered to an adolescent that a second dose should be forecast.', 'given': 'Series_Status: Not complete', 'family': 'Dose #1 of Hep A at age 18 years'}, {'text': 'This test case describes when a second dose of the Hep A 2 dose vaccine is administered to a child at 18 months age and with an interval of at least 6 months -4 days after the previous dose that the dose is considered valid and no additional doses are recommended. The series is complete.', 'given': 'Series_Status: Complete', 'family': 'Dose 1 to dose 2 interval 6 months-4 days. Series complete.'}, {'text': 'This test case describes when a second dose of the Hep A 2 dose vaccine is administered to a child at 6 months -5 days that the dose is not considered valid. A repeat dose should be forecasted.', 'given': 'Series_Status: Not complete', 'family': 'Dose 1 to dose 2 interval 6 mo-5 days'}, {'text': 'This test case describes when the second dose of a HepA 2 dose vaccine is administered to child at 18 months of age and at an interval of 6 months from the previous dose that the dose is considered valid and the series is considered complete.', 'given': 'Series_Status: Complete', 'family': 'Dose # 2 at 18 months=series complete.'}, {'text': 'This test case describes when the second dose of the HepA 2 dose vaccine is administered at 6 months - 4 days that the dose is considered valid and the series is considered complete.', 'given': 'Series_Status: Complete', 'family': 'Dose 1 to Dose 2 interval 6 mo-4 days. Series complete.'}, {'text': 'This test case describes when a first dose of the Hep A 2 dose vaccine is administered to a child at 12 months of age that the dose is considered to be valid. Forecast second dose.', 'given': 'Series_Status: Not complete', 'family': 'Dose # 1 at age 12 months.'}, {'text': 'This test case describes when the second dose of the 2 dose Hep A vaccine is administered at 6 months - 5 days after the first dose that the dose is not considered to be valid. A repeat dose should be forecasted.', 'given': 'Series_Status: Not complete', 'family': 'Dose 1 to dose 2 interval 6 mo-5 days=invalid'}, {'text': 'This test case describes when a first dose of the Hep A 2 dose vaccine is administered to a child at 12 months - 4 days that the dose is considered to be valid. The second dose should be forecasted.', 'given': 'Series_Status: Not complete', 'family': 'Dose # 1 at age 12 months-4 days'}, {'text': 'This test case describes when a dose of the Hep A 2 dose vaccine is administered to a child at 12 months - 5 days that the dose is not considered to be valid.', 'given': 'Series_Status: Not complete', 'family': 'Dose # 1 at age 12 months-5 days'}, {'given': 'Series_Status: Not complete', 'family': '#4 at 12 months of age interval between #3-4 8 weeks -5 days'}, {'given': 'Series_Status: Complete', 'family': 'Mixed OPV/IPV where # 3 is after age 4 and ≥ 6 months after previous dose. Patient Complete'}, {'given': 'Series_Status: Complete', 'family': '#4 at 12 months - 3 days of age interval between #3-4 >8 weeks'}, {'given': 'Series_Status: Complete', 'family': '#4 at 15 months of age interval between #3-4 > 8 weeks'}, {'given': 'Series_Status: Not complete', 'family': 'Dose # 1 at age 6 weeks-5 days'}, {'given': 'Series_Status: Not complete', 'family': 'Invalid dose 1 to dose 2 interval in midst of others.'}, {'given': 'Series_Status: Not complete', 'family': '#4 at 12 months - 5 days of age interval between #3-4 >8 weeks'}, {'given': 'Series_Status: Complete', 'family': 'Invalid dose 3 (interval) in midst of others makes no difference in forecasting if # 4 is ≥ 4 years old and ≥ 6 months after previous dose. Series complete.'}, {'given': 'Series_Status: Complete', 'family': '#4 at 12 months - 4 days of age interval between #3-4 >8 weeks'}, {'given': 'Series_Status: Complete', 'family': 'Dose 3 to dose 4 interval 6 months. Series complete.'}, {'given': 'Series_Status: Not complete', 'family': 'Dose 2 to 3 interval 4 weeks -4 days'}, {'given': 'Series_Status: Not complete', 'family': 'Dose 2 to 3 interval 4 weeks'}, {'given': 'Series_Status: Not complete', 'family': '#3 at 6 months'}, {'given': 'Series_Status: Not complete', 'family': 'Dose 3 to dose 4 interval 6 m-5 days'}, {'given': 'Series_Status: Not complete', 'family': 'Dose 2 to 3 interval 4 weeks-5 days'}, {'given': 'Series_Status: Complete', 'family': 'Dose 3 to dose 4 interval 6 months-4 days. Series complete.'}, {'given': 'Series_Status: Not complete', 'family': 'dose 1 to 2 interval 25 days'}, {'given': 'Series_Status: Not complete', 'family': 'Dose 2 to dose 3 interval 28-4 days'}, {'given': 'Series_Status: Not complete', 'family': '#3 at 14 weeks-5 days'}, {'given': 'Series_Status: Not complete', 'family': 'Dose 2 to dose 3 interval 28 days'}, {'given': 'Series_Status: Not complete', 'family': 'Dose 1 to dose2 interval 28-4 days'}, {'given': 'Series_Status: Not complete', 'family': 'dose 1 to 2 interval 4 weeks -4 days'}, {'given': 'Series_Status: Not complete', 'family': 'Dose 1 to dose 2 interval 28 days'}, {'given': 'Series_Status: Not complete', 'family': 'dose 1 to 2 interval 4 weeks -5 days'}, {'given': 'Series_Status: Not complete', 'family': 'Dose 2 to dose 3 interval 28-5 days'}, {'given': 'Series_Status: Aged out', 'family': '#2 at 5 years'}, {'given': 'Series_Status: Complete', 'family': 'Invalid dose 3 (age) in midst of others. No additional dose required. The next dose was at age 4 and ≥ 6 months since previous dose. Series complete.'}, {'given': 'Series_Status: Complete', 'family': '#2 at 15 months'}, {'given': 'Series_Status: Not complete', 'family': '#2 at 12 m - 4 days'}, {'given': 'Series_Status: Not complete', 'family': 'Dose 1 to dose 2 interval 28-5 days'}, {'text': 'This test case describes when a second dose of Hib is administered to a child at age 12 m- 5 days that the dose is valid. Forecast another dose.', 'given': 'Series_Status: Not complete', 'family': '#2 at 12 m - 5 days'}, {'given': 'Series_Status: Not complete', 'family': '#2 at 5 months and 3 days-catchup-#3 at +28 days'}, {'given': 'Series_Status: Not complete', 'family': '#2 at 5 months'}, {'given': 'Series_Status: Not complete', 'family': '# 2 at 4 months'}, {'given': 'Series_Status: Not complete', 'family': '# 2 at 10 wks -3 days'}, {'given': 'Series_Status: Not complete', 'family': '# 2 at 10 wks-4 days'}, {'given': 'Series_Status: Not complete', 'family': '# 2 at 10 wks-5 days'}, {'given': 'Series_Status: Aged out', 'family': '#1 at 6 years'}, {'given': 'Series_Status: Complete', 'family': '#1 at 3 years -drop to 1 dose schedule'}, {'given': 'Series_Status: Complete', 'family': 'Dose # 3 at 4 years 0 months and ≥ 6 mo since dose 2. Series complete.'}, {'given': 'Series_Status: Aged out', 'family': '#1 at 5 years'}, {'given': 'Series_Status: Complete', 'family': '#1 at 15m -drop to 1 dose schedule'}, {'given': 'Series_Status: Not complete', 'family': 'Dose # 4 at age 18 months.'}, {'text': 'This test case describes when an adult dose of the Hep A vaccine is erroneously administered to a child that the dose is considered valid. The second (age appropriate ) dose should be forecasted.', 'given': 'Series_Status: Not complete', 'family': 'Adult dose mistakenly given to a child. Counts as valid.'}, {'text': 'This test case describes when the second dose of the 2 dose Hep A vaccine is administered at least 6 months after the first dose that no additional doses are recommended and that the series is considered complete.', 'given': 'Series_Status: Complete', 'family': 'Dose 1 to dose 2 interval 6 months. Series complete.'}, {'text': 'This test case describes when an adult patient has received a dose of the influenza vaccine that no additional doses are needed. Series is complete for the season.', 'given': 'Series_Status: Complete', 'family': 'Adult with a dose of the influenza vaccine'}, {'text': 'This test case describes when assessing a newborn for the first dose of the 2-dose Hep A vaccine that it is not recommended until at least 12 months of age.', 'given': 'Series_Status: Not complete', 'family': 'Infant forecasting'}, {'text': 'This test case describes when an adult patient has not received any doses of the influenza vaccine that a dose should be forecast.', 'given': 'Series_Status: Not complete', 'family': 'Adult with no previous of the Influenza vaccine'}, {'text': 'This test case describes when a child enters the flu season at age 8 years received their first dose but is now 9 years old. Per 2019-20 ACIP flu recommendations the patient needs a second dose.', 'given': 'Series_Status: Not complete', 'family': 'Child entered season at 8 years of age received dose before 9. Forecast another dose'}, {'text': 'This test case describes when a child age 9 receives his first dose of the Flu vaccine that no additional doses are needed. Series is complete for season.', 'given': 'Series_Status: Complete', 'family': 'Child received first dose at 9 years. Series complete'}, {'text': 'This test case describes when a child under 9 years of age receives a flu vaccine in the current season and two vaccine doses in previous different season that the series is complete for the season.', 'given': 'Series_Status: Complete', 'family': 'Child under 9 years with dose in current season and two doses in previous different seasons'}, {'text': 'This test case describes when a patient is 9 years or older and has been administered a dose of the flu vacccine in the current season that no additional doses should be forecast for the season.', 'given': 'Series_Status: Complete', 'family': 'Patient 9 years or older with one current seasonal dose'}, {'text': 'This test case describes when a patient is 9 years or older and does not have a current seasonal dose that a dose should be forecast.', 'given': 'Series_Status: Not complete', 'family': 'Patient 9 years or older with no current seasonal dose'}, {'text': 'This test case describes when a child under 9 years of age received one dose of the Influenza vaccine in a previous season and one in the current season that an additional dose is recommended in the current season. Forecast second dose at 4 weeks later.', 'given': 'Series_Status: Not complete', 'family': 'Child under 9 received one in previous season and one in current season'}, {'text': 'This test case describes when a child receives the second dose of the influenza vaccine 24 days after the first dose that the dose is considered to be valid.', 'given': 'Series_Status: Complete', 'family': '# 1 to # 2 interval 24 days'}, {'text': 'This test case describes when a child receives his first dose of the Influenza vaccine at 6 months of age that the dose is considered to be valid and the second dose should be forecasted.', 'given': 'Series_Status: Not complete', 'family': '# 1 at 6 mo'}, {'text': 'This test case describes when a child receives the second dose of the Influenza vaccine at less than 4 weeks - 4 days from the previous dose that the dose is not valid and a repeat dose should be recommended at 4 weeks later.', 'given': 'Series_Status: Not complete', 'family': '# 1 to # 2 interval 23 days'}, {'text': 'This test case describes when a child receives his first dose of the influenza vaccine at 6 months - 4 days that the dose is considered to be valid and the next dose should be forecasted.', 'given': 'Series_Status: Not complete', 'family': '# 1 at 6 mo-4 days'}, {'text': 'This test case describes when dose #1 of the Pneumococcal 13 vaccine is administered at age 11 months that the dose is considered to be valid but the patient is now on the catch-up schedule.', 'given': 'Series_Status: Not complete', 'family': 'Dose # 1 PCV 13 at age 11 months'}, {'text': 'This test case describes when dose #1 of the Pneumococcal 13 vaccine is administered at age 2 months that the dose is considered to be valid.', 'given': 'Series_Status: Not complete', 'family': 'Dose # 1 PCV 13 at age 2 months'}, {'text': 'This test case describes when dose #1 of the Pneumococcal 13 vaccine is administered at age 12 months that the dose is considered to be valid.', 'given': 'Series_Status: Not complete', 'family': 'Dose # 1 PCV 13 at age 12 months'}, {'text': 'This test case describes when a child under 9 years of age receives two doses of the Influenza vaccine in his first season that no additional doses are needed during that season.', 'given': 'Series_Status: Complete', 'family': 'Child under 9 received two in first season'}, {'text': 'This test case describes when a child under the age of 9 receives only one influenza dose in his first season that a second dose is recommended at 4 weeks later.', 'given': 'Series_Status: Not complete', 'family': 'Child under 9 received only one in first season'}, {'text': 'This test case describes when a child receives his first dose of the influenza vaccine before the age of 6 months that the dose is not valid and should be repeated at the recommended age.', 'given': 'Series_Status: Not complete', 'family': 'Invalid dose 1st season'}, {'text': 'This test case describes when assessing a newborn for the first dose of the Influenza vaccine that it should be administered at the recommended age of 6 months.', 'given': 'Series_Status: Not complete', 'family': 'Newborn'}, {'text': 'This test case describes when a newborn receives the first dose of the Influenza vaccine at 6 months and a second dose at 28 days later that the next dose of influenza is recommended at the next seasonal flu begin date.', 'given': 'Series_Status: Not complete', 'family': '# 1 to # 2 interval 28 days'}, {'text': 'This test case describes when a child under the age of 9 receives dose 1 of the influenza vaccine in his first season that a second dose is recommended at 4 weeks later.', 'given': 'Series_Status: Not complete', 'family': 'Child under 9 needs two in first season'}, {'text': 'This test case describes when a patient has received the third dose of DTaP/Tdap/Td vaccine at 6 months - 4 days that the dose is considered to be valid. Forecast another dose.', 'given': 'Series_Status: Not complete', 'family': 'Adult patient with dose #3 of Td at 6 mos - 4 days'}, {'text': 'This test case describes when a patient has received the third dose of DTaP/Tdap/Td vaccine at 6 months - 5 days that the dose is not valid. Forecast a repeat dose.', 'given': 'Series_Status: Not complete', 'family': 'Adult patient with dose #3 of Td at 6 mos - 5 days'}, {'text': 'This test case describes when dose #1 of a Mening vaccine is administered at age 11 years + 0 days that the dose is considered to be valid.', 'given': 'Series_Status: Not complete', 'family': '# 1 at age 11 years'}, {'text': 'This test case describes when the first dose of a Mening vaccine is administered at 15 years + 8 days that the dose is considered to be valid.', 'given': 'Series_Status: Not complete', 'family': '# 1 at age 15 years'}, {'text': 'This test case describes when a patient has received the third dose of DTaP/Tdap/Td vaccine at 6 months that the dose is considered to be valid. Forecast another dose.', 'given': 'Series_Status: Not complete', 'family': 'Adult patient with dose #3 of Td at 6 mos'}, {'text': 'This test case describes when an individual age 22 years is assessed for the first dose of a Mening vaccine that a CDS engine should not forecast a dose. A dose is not recommended. The series status is Aged Out.', 'given': 'Series_Status: Aged out', 'family': 'age 22. No doses No forecast'}, {'text': 'This test case describes when a patient has received the second dose of DTaP/Tdap/Td vaccine at 4 weeks - 5 days that the dose should not be considered to be valid. Another dose should be forecast.', 'given': 'Series_Status: Not complete', 'family': 'Adult patient with dose #2 of DTaP/Tdap/Td at 4 weeks - 5 days'}, {'text': 'This test case describes when a first dose of a Mening vaccine is administered at 16 years - 5 days that the dose is considered to be valid.', 'given': 'Series_Status: Not complete', 'family': '# 1 at age 16 years -5 days'}, {'text': 'This test case describes when dose #2 of a Mening vaccine is administered at an interval of 8 wks - 4 days from dose #1 (age 15 years + 11 months) that the dose is considered valid. The series is complete.', 'given': 'Series_Status: Complete', 'family': 'Dose 1 to dose 2 interval 8 wks-4 days'}, {'text': 'This test case describes when a patient has received the second dose of DTap/Tdap/Td vaccine at 4 weeks - 4 days that the dose should be considered valid and that another dose should be forecast.', 'given': 'Series_Status: Not complete', 'family': 'Adult patient with dose #2 of DTaP/Tdap/Td at 4 weeks - 4 days'}, {'text': 'This test case describes when a patient has received the first dose of the DTaP/Tdap/Td vaccine that another dose should be forecast.', 'given': 'Series_Status: Not complete', 'family': 'Adult patient with dose #1 of DTaP/Tdap/Td'}, {'text': 'This test case describes when dose #2 of a Mening vaccine is administered at an interval of 8 wks from dose #1 (age 15 years + 11 months) that the dose is considered valid. The series is complete.', 'given': 'Series_Status: Complete', 'family': 'Dose 1 to dose 2 interval 8 weeks'}, {'text': 'This test case describes when a patient has received the second dose of DTaP/Tdap/Td vaccine at 4 weeks that another dose should be forecast.', 'given': 'Series_Status: Not complete', 'family': 'Adult patient with dose #2 of DTaP/Tdap/Td at 4 weeks'}, {'text': 'This test case describes when dose #2 of a Mening vaccine is administered too early (8 weeks - 5 days after dose #1) that the dose is not valid.', 'given': 'Series_Status: Not complete', 'family': 'Dose 1 to dose 2 interval 8 wks-5 days'}, {'text': 'This test case describes when a patient has no previous doses of the tetanus diphtheria or pertussis vaccines that the first dose should be forecast.', 'given': 'Series_Status: Not complete', 'family': 'Adult with no previous dose of the Tdap vaccine'}, {'text': 'This test case describes when dose #1 of a Mening vaccine is administered at 10 years-1 day that the dose is considered invalid.', 'given': 'Series_Status: Not complete', 'family': '#1 @ 10 yrs - 1 day MCV4'}, {'text': 'This test case describes when dose #1 of a Mening vaccine is administered at 10 years - 1 day and a repeat dose is administered at one month + 21 days later that the dose is considered valid.', 'given': 'Series_Status: Not complete', 'family': '#1 @ 10 yrs - 1 day #2 @ 10 yrs 8 weeks - 4 days'}, {'text': 'This test case describes when a patient receives Tdap as the decennial dose that the dose is considered to be valid and another dose should be forecast.', 'given': 'Series_Status: Not complete', 'family': 'Decennial dose as Tdap.'}, {'text': 'This test case describes when a newborn is assessed for the first dose of a Mening that a CDS engine should forecast the dose at the recommended age.', 'given': 'Series_Status: Not complete', 'family': '10 year old'}, {'text': 'This test case describes when dose #1 of a Mening vaccine is administered at 10 years - 1 day and a repeat dose is administered at one month + 25 days later that the dose is considered valid.', 'given': 'Series_Status: Not complete', 'family': '#1 @ 10 yrs - 1 day #2 @ 10 yrs + 8 weeks'}, {'text': 'This test case describes when dose #4 of DTaP is administered at least 4 months -5 days from Dose #3 that the dose is not valid.', 'given': 'Series_Status: Not complete', 'family': 'DTaP - Dose 3 to dose 4 interval 4 months-5 days'}, {'text': 'This test case describes when dose #1 of a Mening vaccine is administered at age 10 years + 0 months that the dose is considered valid.', 'given': 'Series_Status: Not complete', 'family': '#1 @ 10 yrs MCV4'}, {'text': 'This test case describes when dose #1 of a Mening vaccine is administered before 10 years of age and a repeat dose is administered at one month + 20 days later that the dose is considered valid.', 'given': 'Series_Status: Not complete', 'family': '#1 @ 10 yrs - 1 day #2 @ 10 yrs + 8 weeks - 5 days'}, {'text': 'This test case describes when dose #4 of DTaP is administered at least 4 months -4 days from Dose #3 that the dose is considered to be valid.', 'given': 'Series_Status: Not complete', 'family': 'DTaP - Dose 3 to dose 4 interval 4 months-4 days'}, {'given': 'Series_Status: Complete', 'family': 'Dose # 3 at 4 years-4 days and ≥ 6 months since dose 2. Series complete.'}, {'given': 'Series_Status: Not complete', 'family': '#1 at 7 and <11 months - catchup- drop to 3 dose schedule'}, {'given': 'Series_Status: Not complete', 'family': 'Dose # 3 at age 4 years but < 6 months after dose 2. Valid but child will need a dose # 4.'}, {'given': 'Series_Status: Not complete', 'family': '#1 at 6 months - catchup- #2 recommended at +28 days'}, {'given': 'Series_Status: Not complete', 'family': '#1 at 12 months drop to 2-dose schedule'}, {'text': 'This test case describes when a second dose is administered at an interval of 4 weeks -4 days but before 5 months that a repeat dose should be forecasted.', 'given': 'Series_Status: Not complete', 'family': 'Adolescent child age 11 with 2nd dose of HPV at 5 months - 5 days'}, {'given': 'Series_Status: Not complete', 'family': 'Adolescent child 15 years -1 days with no previous history of HPV vaccine'}, {'text': 'This test case describes when a second dose is administered at an interval of 4 weeks -4 days but before 5 months that a repeat dose should be forecasted.', 'given': 'Series_Status: Not complete', 'family': 'Adolescent child with a history of 2 doses of the HPV vaccine 1st dose given at 11 years and the 2nd dose give at 2 months later.'}, {'given': 'Series_Status: Complete', 'family': 'Adolescent child age 15 with three doses of the HPV vaccine'}, {'given': 'Series_Status: Not complete', 'family': 'Adolescent child age 15 with one dose of the HPV vaccine'}, {'given': 'Series_Status: Not complete', 'family': 'Adolescent child age 15 with no previous doses.'}, {'given': 'Series_Status: Not complete', 'family': 'Adolescent child age 15 with two previous doses of the HPV vaccine.'}, {'given': 'Series_Status: Not complete', 'family': 'Dose #1 received at 2 years dose #2 received at 3 years and dose #3 received at 4 years. Current age 7 yrs'}, {'given': 'Series_Status: Not complete', 'family': '3 Dose received at < 12 months. Current age is 7 years.'}, {'given': 'Series_Status: Not complete', 'family': '# 2 Pentacel at 6 yrs . Off label but counts.'}, {'given': 'Series_Status: Not complete', 'family': 'Dose #1 received at 4 months dose #2 received at 8 months dose #3 received at 2 years and dose #4 received at 3 years. Current Age is 7 yrs.'}, {'given': 'Series_Status: Not complete', 'family': '# 1 Pentacel at 7 yrs. Off label use but counts as dose 1.'}, {'given': 'Series_Status: Not complete', 'family': '# 1 at age 9 years'}, {'given': 'Series_Status: Not complete', 'family': '# 1 at age 9 years-4 days'}, {'given': 'Series_Status: Not complete', 'family': 'Female age 26 No HPV doses'}, {'given': 'Series_Status: Not complete', 'family': '# 2 Pentacel at 10 wks-4 days'}, {'given': 'Series_Status: Not complete', 'family': '# 2 Pentacel at 10 wks-5 days'}, {'given': 'Series_Status: Complete', 'family': 'Adolescent child with first dose of HPV vaccine at 13 years and second dose after 15 years of age.'}, {'given': 'Series_Status: Not complete', 'family': 'invalid dose 2-3 interval in midst of others'}, {'given': 'Series_Status: Not complete', 'family': 'Female age 14. HPV recommended'}, {'given': 'Series_Status: Aged out', 'family': 'Male age 27. HPV not recommended.'}, {'given': 'Series_Status: Not complete', 'family': '# 1 Pentacel at 6 wks'}, {'text': 'This test case describes when an invalid vaccine is administered (Cervarix) that a repeat dose should be administered as soon as possible.', 'given': 'Series_Status: Not complete', 'family': 'HPV bivalent to male adolescent. Not valid. Forecast quadrivalent'}, {'given': 'Series_Status: Not complete', 'family': '# 1 Pentacel at 6 yrs 11.5 mo'}, {'given': 'Series_Status: Not complete', 'family': '# 1 at age 9 years-5 days'}, {'given': 'Series_Status: Not complete', 'family': 'invalid dose 1-2 interval in midst of others'}, {'given': 'Series_Status: Complete', 'family': 'Invalid dose 2 in midst of others'}, {'given': 'Series_Status: Aged out', 'family': 'Adult female age 27 years No Doses'}, {'given': 'Series_Status: Not complete', 'family': 'dose 3 to 4 Pentacel interval 4 mo.'}, {'given': 'Series_Status: Complete', 'family': '# 2 to # 3 interval 12 wks-4 days'}, {'given': 'Series_Status: Complete', 'family': 'Invalid dose 1 of three doses given'}, {'given': 'Series_Status: Not complete', 'family': '# 1 Pentacel at 6 wks-4 days'}, {'given': 'Series_Status: Not complete', 'family': 'dose 3 to 4 Pentacel interval 6m-4 days'}, {'given': 'Series_Status: Complete', 'family': 'Dose 1 to dose 3 interval 16 weeks=valid when administered prior to 12/16/2016'}, {'text': 'This test case describes when the third dose of the HPV vaccine is administered at 16 weeks - 5 days from target dose #1 that a repeat dose of the vaccine should be give 12 weeks later.', 'given': 'Series_Status: Not complete', 'family': 'Dose 1 to dose 3 interval 16 weeks -5 days'}, {'given': 'Series_Status: Not complete', 'family': 'dose 2 to 3 Pentacel interval 28-4 days'}, {'given': 'Series_Status: Not complete', 'family': 'dose 2 to 3 Pentacel interval 28-5 days'}, {'given': 'Series_Status: Complete', 'family': 'Dose 2 to dose 3 interval 12 weeks'}, {'given': 'Series_Status: Not complete', 'family': 'dose 1 to 2 Pentacel interval 28-4 days'}, {'given': 'Series_Status: Not complete', 'family': 'dose 1 to 2 Pentacel interval 28-5 days'}, {'given': 'Series_Status: Complete', 'family': 'Dose 2 to dose 3 interval 12 weeks-4 days'}, {'text': 'This test case describes when a second and third dose is administered less than 5 months- 4 days from target dose #1 that a repeat dose of the vaccine should be give 12 weeks later.', 'given': 'Series_Status: Not complete', 'family': 'Dose 2 to dose 3 interval 12 weeks-5 days'}, {'given': 'Series_Status: Not complete', 'family': 'Adolescent female no HPV yet given.'}, {'given': 'Series_Status: Not complete', 'family': 'invalid age dose 3 in midst of others'}, {'text': 'This test case describes when dose #3 of the HepB vaccine (Pediarix) is administered at an interval of 8 weeks - 4 days that the dose is considered to be valid. The series is complete.', 'given': 'Series_Status: Complete', 'family': 'dose 2 to 3 Pediarix interval 8 weeks-4 days'}, {'text': 'This test case describes when dose #3 to dose #4 of the Pnuemococcal 13 vaccine is administered at an interval of 8 weeks that dose #4 is considered to be valid. The series is complete.', 'given': 'Series_Status: Complete', 'family': 'Dose 3 PCV 13 to dose 4 interval 8 weeks. Series complete.'}, {'text': 'This test case describes when an extra dose ( dose #4) of the HepB vaccine is administered at an interval of 6 months - 5 days that the dose is considered to be extraneous. The series is complete.', 'given': 'Series_Status: Complete', 'family': 'dose 3 to 4 Pediarix interval 6m-5 days'}, {'text': 'This test case describes when dose #2 of the HepB vaccine is administered at an interval of 28 - 5 days that the dose is not valid.', 'given': 'Series_Status: Not complete', 'family': 'dose 1 to 2 Pediarix interval 28-5 days'}, {'text': 'This test case describes when dose #3 to dose #4 of the Pnuemococcal 13 vaccine is administered at an interval of 8 weeks -5 days that dose #4 is not valid.', 'given': 'Series_Status: Not complete', 'family': 'Dose 3 PCV 13 to dose 4 interval 8 weeks-5 days'}, {'text': 'This test case describes when dose #3 to dose #4 of the Pnuemococcal 13 vaccine is administered at an interval of 8 weeks -4 days that dose #4 is considered to be valid. The series is complete.', 'given': 'Series_Status: Complete', 'family': 'Dose 3 PCV 13 to dose 4 interval 8 wks-4 days. Series complete.'}, {'text': 'This test case describes when dose #3 of the HepB vaccine is administered at an interval of 8 weeks - 5 days that the dose is valid but a 4th dose is needed to complete the series.', 'given': 'Series_Status: Not complete', 'family': 'dose 2 to 3 Pediarix interval 8 weeks-5 days. 4th dose needed.'}, {'text': 'This test case describes when dose #2 of the HepB vaccine is administered at an interval of 28 - 4 days that the dose is considered to be valid.', 'given': 'Series_Status: Not complete', 'family': 'dose 1 to 2 Pediarix interval 28-4 days'}, {'text': 'This test case describes when dose # 5 of the HepB vaccine (Pediarix) is administered at age 7 years that the dose is considered to be extraneous. The series is complete.', 'given': 'Series_Status: Complete', 'family': '# 5 Pediarix at 7 yrs'}, {'text': 'This test case describes when dose #2 to dose #3 of the Pnuemococcal 13 vaccine is administered at an interval of 28-4 days that dose #3 is considered to be valid.', 'given': 'Series_Status: Not complete', 'family': 'Dose 2 to dose 3 PCV 13 interval 28-4 days'}, {'text': 'This test case describes when dose #2 to dose #3 of the Pnuemococcal vaccine is administered at an interval of 28 days that dose #3 is considered to be valid.', 'given': 'Series_Status: Not complete', 'family': 'Dose 2 to dose 3 PCV 13 interval 28 days'}, {'text': 'This test case describes when dose #1 of the HepB vaccine is administered at 6 weeks - 4 days that the dose is considered to be valid.', 'given': 'Series_Status: Not complete', 'family': '# 1 Pediarix at 6 wks-4 days'}, {'text': 'This test case describes when dose #1 of the Pneumococcal 13 vaccine is administered at 6 weeks - 4 days that the dose is considered to be valid.', 'given': 'Series_Status: Not complete', 'family': 'Dose # 1 PCV 13 at age 6 weeks-4 days'}, {'text': 'This test case describes that when a patient is administered the second dose of Shingrix vaccine at less than 4 weeks - 4 days that the dose is considered not valid.', 'given': 'Series_Status: Not complete', 'family': 'Zoster: Dose #2 (Shingrix) administered at 4 weeks - 5 days after dose #1'}, {'text': 'This test case describes when dose #1 to dose #2 of the Pneumococcal 13 vaccine is administered at an interval of 28 days that the second dose is considered to be valid.', 'given': 'Series_Status: Not complete', 'family': 'Dose 1 PCV 13 to dose 2 interval 28 days'}, {'text': 'This test case describes when dose # 5 of the HepB vaccine (Pediarix) is administered at age 6 years and 11 months that the dose is considered to be extraneous. The series is complete.', 'given': 'Series_Status: Complete', 'family': '# 5 Pediarix at 6 yrs 11.5 mo'}, {'text': 'This test case describes that when a patient is administered the second dose of Shingrix vaccine at 4 weeks - 4 day that the dose is considered to be valid.', 'given': 'Series_Status: Complete', 'family': 'Zoster: Dose #2 (Shingrix) administered at 4 weeks - 4 days after dose #1'}, {'text': 'This test case describes when dose #2 to dose #3 of the Pnuemococcal 13 vaccine is administered at 28-5 days that dose #3 is not valid.', 'given': 'Series_Status: Not complete', 'family': 'Dose 2 to dose 3 interval 28-5 days'}, {'text': 'This test case describes when a patient is administered the first dose of RZV 0 days after a previous dose of ZVL that the doses are valid.', 'given': 'Series_Status: Not complete', 'family': 'Zoster: Dose #1 of RZV administered 0 Days after previous dose of ZVL'}, {'text': 'This test case describes when a patient receives three (valid) doses of the Zoster vaccine that the series is considered Complete.', 'given': 'Series_Status: Complete', 'family': 'Zoster: Patient has received all three doses of the zoster vaccine'}, {'text': 'This test case describes when the interval between dose #1 and dose #2 of the Pnuemococal vaccine is 28 - 5 days that the second dose is not valid.', 'given': 'Series_Status: Not complete', 'family': 'Dose 1 to dose 2 interval 28-5 days.'}, {'text': 'This test case describes when a patient is administered the first dose of RZV 8 weeks after a previous dose of ZVL that the doses are valid.', 'given': 'Series_Status: Not complete', 'family': 'Zoster: Dose #1 of RZV administered 8 weeks after previous dose of ZVL'}, {'text': 'This test case describes when dose #1 and dose #2 of the Pnuemococal 13 vaccine is administered at 28 - 4 days that the second dose is considered to be valid.', 'given': 'Series_Status: Not complete', 'family': 'Dose 1 to dose 2 interval 28-4 days'}, {'text': 'This test case describes when the second dose of the Pneumococcal vaccine is not valid.', 'given': 'Series_Status: Not complete', 'family': 'Dose 2 invalid (age) in midst of others.'}, {'text': 'This test case describes when the third dose of the Pneumococcal vaccine is not valid.', 'given': 'Series_Status: Complete', 'family': 'Dose # 3 invalid (age) in midst of others. Four valid doses not required in this scenario.'}, {'text': 'This test case describes when 4 doses of PCV 7 is administered that one dose of Pneumococcal 13 is needed.', 'given': 'Series_Status: Not complete', 'family': '4 doses of PCV 7 no PCV 13. Needs one PCV 13.'}, {'text': 'This test case describes when the first dose of the Pneumococcal vaccine is not valid.', 'given': 'Series_Status: Not complete', 'family': 'Dose 1 invalid (age) as first of others'}, {'given': 'Series_Status: Not complete', 'family': 'Tdap as dose 5 to age 4 years old=valid as DTaP 5.'}, {'given': 'Series_Status: Not complete', 'family': 'Dose #1 given at < 12 months. Current age is 7.'}, {'given': 'Series_Status: Not complete', 'family': 'Invalid age dose 5 in midst of others'}, {'given': 'Series_Status: Not complete', 'family': 'Tdap as dose 5 to age 4-4 days. Counts as valid DTaP. Child will need another Tdap in adolescence.'}, {'given': 'Series_Status: Not complete', 'family': 'Tdap as dose 5 to age 4 years-5 days=invalid as dose 5 of DTaP'}, {'given': 'Series_Status: Not complete', 'family': 'Dose #1 given at 3 months dose #2 given at 1 year dose #3 given at 2 years and dose # 4 given at 3years. Current age is 7 yrs'}, {'given': 'Series_Status: Not complete', 'family': 'Tdap as dose 4 to age 15 months=valid as DTaP'}, {'given': 'Series_Status: Not complete', 'family': 'Tdap as dose 3 to child under age 4=invalid as DTaP 3'}, {'given': 'Series_Status: Not complete', 'family': '1 Tdap 2 Td to child ≥ 7 years old with 6 mo-5 day interval between doses 2 and 3.'}, {'given': 'Series_Status: Not complete', 'family': '1 Tdap 2 Td to child ≥ 7 years old with 6 mo-4 day interval between doses 2 and 3.'}, {'given': 'Series_Status: Not complete', 'family': 'Invalid age for dose # 4 in midst of others'}, {'given': 'Series_Status: Not complete', 'family': 'Doses # 2 and #3 at ≥ age 7 years # 1 at age < 12 mo. Forecast # 4 in 6 mo.'}, {'given': 'Series_Status: Not complete', 'family': 'Doses # 2 and # 3 at ≥7 years old dose # 1 at ≥ 12 months old.'}, {'given': 'Series_Status: Not complete', 'family': '1 Tdap 2 Td with appropriate intervals to child ≥ age 7'}, {'given': 'Series_Status: Not complete', 'family': 'Invalid age for dose # 2 in midst of others'}, {'given': 'Series_Status: Not complete', 'family': '#3 at age 14 weeks'}, {'given': 'Series_Status: Not complete', 'family': 'Invalid age for dose #3 in midst of others'}, {'given': 'Series_Status: Not complete', 'family': '#3 at age 6 months'}, {'given': 'Series_Status: Not complete', 'family': 'Tdap as dose #2'}, {'given': 'Series_Status: Not complete', 'family': '#3 at age 14 weeks-5 days'}, {'given': 'Series_Status: Not complete', 'family': 'Age 6. No vaccinations. Forecast DTaP.'}, {'given': 'Series_Status: Not complete', 'family': 'Invalid age for dose # 1 in first of series'}, {'given': 'Series_Status: Not complete', 'family': '#3 at age 14 weeks-4 days'}, {'given': 'Series_Status: Not complete', 'family': '# 2 (Tdap) to child age 7. DTaP # 1 at ≥ 12 months. Forecast dose 3 for 6 months.'}, {'given': 'Series_Status: Not complete', 'family': 'dose 1 to 2 Pentacel interval 28-5 days'}, {'given': 'Series_Status: Not complete', 'family': 'Kinrix at age 12 months as dose 4 of DTaP=valid'}, {'given': 'Series_Status: Complete', 'family': '# 4 Pentacel at 4 yrs'}, {'given': 'Series_Status: Not complete', 'family': 'Kinrix at age 6 months as dose 3 of DTaP. Off label but valid.'}, {'given': 'Series_Status: Complete', 'family': '# 5 Pentacel at ≥ 4 yrs is off label but counts'}, {'given': 'Series_Status: Not complete', 'family': 'Kinrix at age 4 months as dose 2 of DTaP. Off label but valid.'}, {'given': 'Series_Status: Not complete', 'family': '# 4 Pentacel at 1 yr -5 days.'}, {'given': 'Series_Status: Not complete', 'family': 'Kinrix at age 2 months as Dose 1 of DTaP. Off label but valid.'}, {'given': 'Series_Status: Not complete', 'family': 'Pentavalente (Mexico) DTaP/IPV/HIB counts as valid.'}, {'given': 'Series_Status: Aged out', 'family': '# 4 Pentacel at 5 yrs=off label but counts.'}, {'given': 'Series_Status: Not complete', 'family': '# 4 Pentacel at 1 yr -4 days'}, {'given': 'Series_Status: Not complete', 'family': '# 3 Pentacel at 14 wks-4 days'}, {'given': 'Series_Status: Complete', 'family': '# 4 Pentacel at 4 yrs'}, {'given': 'Series_Status: Not complete', 'family': '# 4 Pentacel at 1 yr -5 days.'}, {'given': 'Series_Status: Complete', 'family': '# 3 Pentacel at 6 yrs 11.5 mo'}, {'given': 'Series_Status: Not complete', 'family': '# 2 Pentacel at 7 yrs # 1 at age ≥ 12 mo.'}, {'given': 'Series_Status: Complete', 'family': '# 4 Pentacel at 1 yr -4 days'}, {'given': 'Series_Status: Not complete', 'family': '# 3 Pentacel at 14 wks-5 days'}, {'given': 'Series_Status: Not complete', 'family': 'Pentacel at 7 yrs # 1 at age < 12 mo. Off label use.'}, {'given': 'Series_Status: Complete', 'family': '# 4 Pentacel ≥ age 12 mo'}, {'given': 'Series_Status: Not complete', 'family': 'Newborn'}, {'given': 'Series_Status: Not complete', 'family': '# 3 Pentacel at 14 wks-4 days'}, {'given': 'Series_Status: Not complete', 'family': '# 2 Pentacel at 10 wks-5 days'}, {'given': 'Series_Status: Not complete', 'family': '# 2 Pentacel at 6 yrs 11.5 mo. Off label but counts.'}, {'given': 'Series_Status: Not complete', 'family': '# 2 Pediarix at 10 wks'}, {'given': 'Series_Status: Not complete', 'family': '# 2 Pediarix at 10 wks-4 days'}, {'given': 'Series_Status: Not complete', 'family': '# 1 Pediarix at 7 yrs'}, {'given': 'Series_Status: Not complete', 'family': '# 2 Pediarix at 10 wks-5 days'}, {'given': 'Series_Status: Not complete', 'family': '# 1 Pediarix at 6 wks'}, {'given': 'Series_Status: Not complete', 'family': '# 1 Pediarix at 6 yrs 11.5 mo'}, {'given': 'Series_Status: Not complete', 'family': 'invalid dose 2-3 interval in midst of others'}, {'text': 'This test case describes when a dose of a Mening vaccine is administered at 16 years - 4 days that the dose is considered to be valid. The series is complete.', 'given': 'Series_Status: Complete', 'family': '# 1 at age 16 years -4 days'}, {'text': 'This test case describes when a dose of a Mening vaccine is administered at 16 years + 0 days that the dose is considered to be valid. The series is complete.', 'given': 'Series_Status: Complete', 'family': '# 1 at age 16 years'}, {'text': 'This test case describes when a child receives the first dose of the MMR vaccine at 15 months of age that the dose is considered to be valid.', 'given': 'Series_Status: Not complete', 'family': '#1 at 15 months'}, {'given': 'Series_Status: Not complete', 'family': '# 4 Pediarix at 1 yr -4 days'}, {'given': 'Series_Status: Not complete', 'family': '# 1 Pediarix at 6 wks-5 days'}, {'given': 'Series_Status: Not complete', 'family': '# 4 Pediarix at 1 yr -5 days.'}, {'text': 'This test case describes that when a child has received three doses of the DTaP vaccine and the first dose was administered at 12 months or older and the third dose was administered prior to age 7 that another dose should be forecast at age 7.', 'given': 'Series_Status: Not complete', 'family': '# 3 Pediarix at 6 yrs 11.5 mo'}, {'given': 'Series_Status: Not complete', 'family': '#3 Pediarix at age 24 weeks- 5 days'}, {'given': 'Series_Status: Not complete', 'family': '# 3 Pediarix at 14 wks-4 days.'}, {'text': 'This test case describes when the first dose is administered at age 11 years - 0 days that the second dose of the HPV 2 dose series should be forecasted.', 'given': 'Series_Status: Not complete', 'family': '#1 @ 11 yrs - 0 days male gardasil'}, {'given': 'Series_Status: Not complete', 'family': '# 1 and 2 Pediarix at ≥7 yrs with 28 day interval. Off label but does not need repeating.'}, {'text': 'This test case describes when the second dose is administered at an interval of 4 weeks - 4 days (less than 5 months) that a third dose of the HPV vaccine should be forecasted at 5 to 6 months from the first dose.', 'given': 'Series_Status: Not complete', 'family': '#2 @ 9 yrs 4 wks - 4 days female gardasil'}, {'text': 'This test case describes when the first dose is administered at age 9 years - 0 days that the CDS engine should forecast a second dose of the HPV 2 dose series.', 'given': 'Series_Status: Not complete', 'family': '#1 @ 9 yrs - 0 days male gardasil'}, {'given': 'Series_Status: Not complete', 'family': '# 3 Pediarix at 14 wks-5 days'}, {'text': 'This test case describes whether or not the first dose is valid at age 11 years - 0 days and thus forecast the second dose.', 'given': 'Series_Status: Not complete', 'family': '#1 @ 11 yrs - 0 days female gardasil'}, {'given': 'Series_Status: Not complete', 'family': '# 2 Pediarix at 7 yrs # 1 at less than 12 mo.'}, {'text': 'This test case describes whether or not the first dose is valid at age 9 years - 0 days and thus forecast the second dose of the HPV 2 dose series.', 'given': 'Series_Status: Not complete', 'family': '#1 @ 9 yrs - 0 days female gardasil'}, {'given': 'Series_Status: Not complete', 'family': '# 2 Pediarix at 6 yrs 11.5 mo'}, {'text': 'This test case describes whether or not the first dose is valid at age 9 years - 4 days and thus forecast the second dose of the HPV 2 dose series.', 'given': 'Series_Status: Not complete', 'family': '#1 @ 9 yrs - 4 days male gardasil'}, {'given': 'Series_Status: Not complete', 'family': '# 2 Pediarix at 7 yrs # 1 ≥ 12 mo. Need 6 mo interval from 2 to 3.'}, {'given': 'Series_Status: Not complete', 'family': 'Newborn'}, {'given': 'Series_Status: Not complete', 'family': 'Kinrix at age 4 years -4 days'}, {'given': 'Series_Status: Aged out', 'family': 'Pentacel at 6 yrs'}, {'given': 'Series_Status: Not complete', 'family': 'Newborn forecasting'}, {'text': 'This test case describes when the first dose of the HPV vaccine is administered at 9 years - 4 days that the CDSi engine forecasts the second dose of the HPV 2 dose series.', 'given': 'Series_Status: Not complete', 'family': '#1 @ 9 yrs - 4 days female gardasil'}, {'given': 'Series_Status: Complete', 'family': 'invalid age dose 3 in midst of others'}, {'given': 'Series_Status: Not complete', 'family': 'Kinrix at age 4 years-5 days'}, {'given': 'Series_Status: Complete', 'family': '# 4 Pentacel at 5 yrs=off label'}, {'given': 'Series_Status: Not complete', 'family': 'DTaP # 1 at age 7 years (off label but counts as valid).'}, {'given': 'Series_Status: Not complete', 'family': 'invalid dose 1-2 interval in midst of others'}, {'given': 'Series_Status: Not complete', 'family': 'TriHibit as valid dose 5 of DTaP'}, {'given': 'Series_Status: Complete', 'family': '#1 at 15 months -4 days'}, {'given': 'Series_Status: Not complete', 'family': 'Invalid age dose 2 in midst of others'}, {'given': 'Series_Status: Not complete', 'family': 'invalid age dose 3 in midst of others'}, {'given': 'Series_Status: Complete', 'family': 'Dose 1 to 2 at 8 weeks -4 days (#1 at >=1 year)'}, {'given': 'Series_Status: Not complete', 'family': 'Tdap as dose 4 to age 15 months=valid as DTaP'}, {'given': 'Series_Status: Not complete', 'family': 'Dose 1 to 2 at 8 weeks -5 days (#1 at 1 year)'}, {'given': 'Series_Status: Not complete', 'family': 'Tdap as dose 3 to child under age 4=invalid as DTaP 3'}, {'given': 'Series_Status: Complete', 'family': '# 5 Pediarix at 7 yrs. Off label'}, {'given': 'Series_Status: Not complete', 'family': '#1 at 15 months -5 days'}, {'given': 'Series_Status: Complete', 'family': 'Dose 2 to 3 interval 8 weeks -4 days #3 after 12 months of age'}, {'given': 'Series_Status: Not complete', 'family': 'Invalid age dose 1 as first of others.'}, {'given': 'Series_Status: Complete', 'family': '# 5 Pediarix at 6 yrs 11.5 mo'}, {'given': 'Series_Status: Not complete', 'family': 'Dose 2 to 3 interval 8 weeks-5 days #3 after 12 months of age'}, {'given': 'Series_Status: Aged out', 'family': '#3 at 5 years (#1 at 7m #2 at 8m)'}, {'given': 'Series_Status: Complete', 'family': '#3 at 59 months (#1 at 7m #2 at 8m)'}, {'given': 'Series_Status: Complete', 'family': '# 5 Pediarix at 4 yrs -4 days'}, {'given': 'Series_Status: Complete', 'family': '#3 at 365 days - 3 days (#1 at 7m #2 at 8m)'}, {'given': 'Series_Status: Not complete', 'family': '# 5 Pediarix at 4 yrs -5 days.'}, {'given': 'Series_Status: Complete', 'family': '# 4 Pediarix at 4 yrs'}, {'given': 'Series_Status: Not complete', 'family': '# 4 Pediarix at 3 yrs 11.5 mo.'}, {'given': 'Series_Status: Not complete', 'family': '# 4 Pediarix at 1 yr -4 days'}, {'given': 'Series_Status: Not complete', 'family': '# 1 Pediarix at 6 wks-5 days'}, {'given': 'Series_Status: Not complete', 'family': '# 4 Pediarix at 1 yr -5 days.'}, {'text': 'This test case describes when extra doses (#4 and #5) of the HepB vaccine (Pediarix) is administered at age 4 years - 5 days that the dose is considered to be extraneous. The series is complete.', 'given': 'Series_Status: Complete', 'family': '# 5 Pediarix at 4 yrs -5 days'}, {'text': 'This test case describes when extra doses (#4 and #5) of the HepB vaccine (Pediarix) is administered at age 4 years - 4 days that the dose is considered to be extraneous. The series is complete.', 'given': 'Series_Status: Complete', 'family': '# 5 Pediarix at 4 yrs -4 days'}, {'given': 'Series_Status: Not complete', 'family': 'TriHibit as valid dose 4 of DTaP'}, {'given': 'Series_Status: Not complete', 'family': 'DTaP #1 at age 6.5 years.'}, {'given': 'Series_Status: Not complete', 'family': 'TriHibit as primary dose. DTaP=valid.'}, {'given': 'Series_Status: Not complete', 'family': '4 Tetramune and Tdap at age 11=UTD for 10 years'}, {'given': 'Series_Status: Not complete', 'family': '# 2 Pentacel at 10 wks-4 days'}, {'given': 'Series_Status: Not complete', 'family': '# 1 Pentacel at 6 wks-4 days'}, {'given': 'Series_Status: Not complete', 'family': '4 doses of Tetramune to child'}, {'given': 'Series_Status: Not complete', 'family': '# 1 Pentacel at 6 wks-5 days.'}, {'given': 'Series_Status: Not complete', 'family': '4 doses of Tetramune with a DTaP booster. Forecast Tdap.'}]}}</pre>"
      ],
      "text/plain": [
       "<IPython.core.display.HTML object>"
      ]
     },
     "metadata": {},
     "output_type": "display_data"
    }
   ],
   "source": [
    "r = get(f'{ref_server}/$graphql', params = params, headers = headers )\n",
    "Display(HTML(\n",
    "    '<h1>Response</h1>'\n",
    "    f'<h3>Status Code = {r.status_code}</h3>'\n",
    "    f'<pre>{r.json()}</pre>'\n",
    "    ))"
   ]
  },
  {
   "cell_type": "markdown",
   "metadata": {},
   "source": [
    "## Transform the output into a Pandas DataFrame..."
   ]
  },
  {
   "cell_type": "code",
   "execution_count": 7,
   "metadata": {},
   "outputs": [
    {
     "data": {
      "text/html": [
       "<div>\n",
       "<style scoped>\n",
       "    .dataframe tbody tr th:only-of-type {\n",
       "        vertical-align: middle;\n",
       "    }\n",
       "\n",
       "    .dataframe tbody tr th {\n",
       "        vertical-align: top;\n",
       "    }\n",
       "\n",
       "    .dataframe thead th {\n",
       "        text-align: right;\n",
       "    }\n",
       "</style>\n",
       "<table border=\"1\" class=\"dataframe\">\n",
       "  <thead>\n",
       "    <tr style=\"text-align: right;\">\n",
       "      <th></th>\n",
       "      <th>given</th>\n",
       "      <th>family</th>\n",
       "      <th>text</th>\n",
       "    </tr>\n",
       "  </thead>\n",
       "  <tbody>\n",
       "    <tr>\n",
       "      <th>0</th>\n",
       "      <td>Veera</td>\n",
       "      <td>Radonctest</td>\n",
       "      <td>NaN</td>\n",
       "    </tr>\n",
       "    <tr>\n",
       "      <th>1</th>\n",
       "      <td>Xavier</td>\n",
       "      <td>Cooper</td>\n",
       "      <td>Xavier Cooper</td>\n",
       "    </tr>\n",
       "    <tr>\n",
       "      <th>2</th>\n",
       "      <td>Peter</td>\n",
       "      <td>IchDenkeMal</td>\n",
       "      <td>NaN</td>\n",
       "    </tr>\n",
       "    <tr>\n",
       "      <th>3</th>\n",
       "      <td>Jack</td>\n",
       "      <td>Ma</td>\n",
       "      <td>NaN</td>\n",
       "    </tr>\n",
       "    <tr>\n",
       "      <th>4</th>\n",
       "      <td>Peter</td>\n",
       "      <td>Bond</td>\n",
       "      <td>NaN</td>\n",
       "    </tr>\n",
       "  </tbody>\n",
       "</table>\n",
       "</div>"
      ],
      "text/plain": [
       "    given       family           text\n",
       "0   Veera   Radonctest            NaN\n",
       "1  Xavier       Cooper  Xavier Cooper\n",
       "2   Peter  IchDenkeMal            NaN\n",
       "3    Jack           Ma            NaN\n",
       "4   Peter         Bond            NaN"
      ]
     },
     "execution_count": 7,
     "metadata": {},
     "output_type": "execute_result"
    }
   ],
   "source": [
    "patients = r.json()['data']['PatientList']\n",
    "df = DataFrame(patients)\n",
    "\n",
    "\n",
    "df.head()"
   ]
  },
  {
   "cell_type": "markdown",
   "metadata": {},
   "source": [
    "### Then you can do all your data analysis..."
   ]
  },
  {
   "cell_type": "code",
   "execution_count": 8,
   "metadata": {},
   "outputs": [
    {
     "data": {
      "text/html": [
       "<div>\n",
       "<style scoped>\n",
       "    .dataframe tbody tr th:only-of-type {\n",
       "        vertical-align: middle;\n",
       "    }\n",
       "\n",
       "    .dataframe tbody tr th {\n",
       "        vertical-align: top;\n",
       "    }\n",
       "\n",
       "    .dataframe thead th {\n",
       "        text-align: right;\n",
       "    }\n",
       "</style>\n",
       "<table border=\"1\" class=\"dataframe\">\n",
       "  <thead>\n",
       "    <tr style=\"text-align: right;\">\n",
       "      <th></th>\n",
       "      <th>given</th>\n",
       "      <th>family</th>\n",
       "      <th>text</th>\n",
       "    </tr>\n",
       "  </thead>\n",
       "  <tbody>\n",
       "    <tr>\n",
       "      <th>count</th>\n",
       "      <td>497</td>\n",
       "      <td>497</td>\n",
       "      <td>149</td>\n",
       "    </tr>\n",
       "    <tr>\n",
       "      <th>unique</th>\n",
       "      <td>21</td>\n",
       "      <td>390</td>\n",
       "      <td>144</td>\n",
       "    </tr>\n",
       "    <tr>\n",
       "      <th>top</th>\n",
       "      <td>Series_Status: Not complete</td>\n",
       "      <td>Alexander</td>\n",
       "      <td>This test case describes when dose #3 of the H...</td>\n",
       "    </tr>\n",
       "    <tr>\n",
       "      <th>freq</th>\n",
       "      <td>307</td>\n",
       "      <td>21</td>\n",
       "      <td>2</td>\n",
       "    </tr>\n",
       "  </tbody>\n",
       "</table>\n",
       "</div>"
      ],
      "text/plain": [
       "                              given     family  \\\n",
       "count                           497        497   \n",
       "unique                           21        390   \n",
       "top     Series_Status: Not complete  Alexander   \n",
       "freq                            307         21   \n",
       "\n",
       "                                                     text  \n",
       "count                                                 149  \n",
       "unique                                                144  \n",
       "top     This test case describes when dose #3 of the H...  \n",
       "freq                                                    2  "
      ]
     },
     "execution_count": 8,
     "metadata": {},
     "output_type": "execute_result"
    }
   ],
   "source": [
    "df.describe()"
   ]
  },
  {
   "cell_type": "code",
   "execution_count": 6,
   "metadata": {},
   "outputs": [
    {
     "data": {
      "text/plain": [
       "given     object\n",
       "family    object\n",
       "text      object\n",
       "dtype: object"
      ]
     },
     "execution_count": 6,
     "metadata": {},
     "output_type": "execute_result"
    }
   ],
   "source": [
    "df.dtypes"
   ]
  },
  {
   "cell_type": "markdown",
   "metadata": {},
   "source": [
    "### Try doing stats on Observations\n",
    "\n",
    "- retrieve  some random Observation data  using GraphQL\n",
    "   - elements of interest: \n",
    "        - `{valueQuantity{value}}`\n",
    "        - `{effectivePeriod{end}}`\n",
    "        \n",
    "- convert to a dataframe and do stats on it using Pandas."
   ]
  },
  {
   "cell_type": "code",
   "execution_count": 10,
   "metadata": {},
   "outputs": [
    {
     "data": {
      "text/plain": [
       "{'query': '{ObservationList(subject:example){id,code@flatten{coding@flatten@first{code},text},valueQuantity@flatten{value,unit},effectivePeriod}}'}"
      ]
     },
     "execution_count": 10,
     "metadata": {},
     "output_type": "execute_result"
    }
   ],
   "source": [
    "params = dict(\n",
    "    query = \"{ObservationList(subject:example){\"  #,code{coding{code:foo}}){\"\n",
    "      \"id,\"\n",
    "    \"code@flatten{\"\n",
    "        \"coding@flatten@first{\"\n",
    "            \"code\"\n",
    "        \"},\"\n",
    "        \"text\"\n",
    "        \"},\"\n",
    "  \"valueQuantity@flatten{\"\n",
    "    \"value,unit\"\n",
    "   \"},\"\n",
    "  \"effectivePeriod\"#{\"\n",
    "    #\"start\" #end\"\n",
    "   #\"}\"\n",
    "  \"}\"\n",
    " \"}\"\n",
    "    )\n",
    "params"
   ]
  },
  {
   "cell_type": "code",
   "execution_count": 11,
   "metadata": {},
   "outputs": [
    {
     "data": {
      "text/html": [
       "<h1>Response</h1><h3>Status Code = 200</h3><pre>{'data': {'ObservationList': [{'id': 'Observation/85922/_history/1', 'code': '8867-4', 'text': 'Heart rate', 'value': 44, 'unit': 'beats/minute', 'effectivePeriod': '1999-07-02'}, {'id': 'Observation/251497/_history/1', 'code': '29463-7', 'value': 185, 'unit': 'lbs', 'effectivePeriod': '2016-03-28'}, {'id': 'Observation/251499/_history/1', 'code': '29463-7', 'value': 185, 'unit': 'lbs', 'effectivePeriod': '2016-03-28'}, {'id': 'Observation/251498/_history/1', 'code': '29463-7', 'value': 185, 'unit': 'lbs', 'effectivePeriod': '2016-03-28'}, {'id': 'Observation/251500/_history/1', 'code': '29463-7', 'value': 185, 'unit': 'lbs', 'effectivePeriod': '2016-03-28'}, {'id': 'Observation/251629/_history/1', 'code': '29463-7', 'value': 185, 'unit': 'lbs', 'effectivePeriod': '2016-03-28'}, {'id': 'Observation/251630/_history/1', 'code': '29463-7', 'value': 185, 'unit': 'lbs', 'effectivePeriod': '2016-03-28'}, {'id': 'Observation/587532/_history/1', 'code': '8310-5', 'text': 'Body temperature', 'value': 36.5, 'unit': 'C', 'effectivePeriod': '1999-07-02'}, {'id': 'Observation/587535/_history/1', 'code': '8310-5', 'text': 'Body temperature', 'value': 36.5, 'unit': 'C', 'effectivePeriod': '1999-07-02'}, {'id': 'Observation/587537/_history/1', 'code': '8310-5', 'text': 'Body temperature', 'value': 36.5, 'unit': 'C', 'effectivePeriod': '1999-07-02'}, {'id': 'Observation/587539/_history/1', 'code': '8310-5', 'text': 'Body temperature', 'value': 36.5, 'unit': 'C', 'effectivePeriod': '1999-07-02'}, {'id': 'Observation/587542/_history/1', 'code': '8310-5', 'text': 'Body temperature', 'value': 40.5, 'unit': 'C', 'effectivePeriod': '1999-07-02'}, {'id': 'Observation/587521/_history/1', 'code': '8310-5', 'text': 'Body temperature', 'value': 36.5, 'unit': 'C', 'effectivePeriod': '1999-07-02'}, {'id': 'Observation/587533/_history/1', 'code': '8310-5', 'text': 'Body temperature', 'value': 36.5, 'unit': 'C', 'effectivePeriod': '1999-07-02'}, {'id': 'Observation/587536/_history/1', 'code': '8310-5', 'text': 'Body temperature', 'value': 36.5, 'unit': 'C', 'effectivePeriod': '1999-07-02'}, {'id': 'Observation/587538/_history/1', 'code': '8310-5', 'text': 'Body temperature', 'value': 36.5, 'unit': 'C', 'effectivePeriod': '1999-07-02'}, {'id': 'Observation/587541/_history/1', 'code': '8310-5', 'text': 'Body temperature', 'value': 40.5, 'unit': 'C', 'effectivePeriod': '1999-07-02'}, {'id': 'Observation/587543/_history/1', 'code': '8310-5', 'text': 'Body temperature', 'value': 40.5, 'unit': 'C', 'effectivePeriod': '1999-07-02'}, {'id': 'Observation/597036/_history/2', 'code': '29463-7'}, {'id': 'Observation/597037/_history/2', 'code': '29463-7'}, {'id': 'Observation/624872/_history/1', 'code': '8310-5', 'text': 'Body temperature', 'value': 100, 'unit': 'F', 'effectivePeriod': '1999-07-02'}, {'id': 'Observation/627403/_history/1', 'code': '8867-4', 'text': 'Heart rate', 'value': 5106, 'unit': 'beats/minute', 'effectivePeriod': '1996-07-02'}, {'id': 'Observation/627405/_history/1', 'code': '39156-5', 'text': 'BMI', 'value': 16.2, 'unit': 'kg/m2', 'effectivePeriod': '1999-07-02'}, {'id': 'Observation/627420/_history/1', 'code': '8867-4', 'text': 'Heart rate', 'value': 5106, 'unit': 'beats/minute', 'effectivePeriod': '1996-07-02'}, {'id': 'Observation/XXXX72C4BD70.2015-01-07/_history/1', 'effectivePeriod': '2015-01-07'}, {'id': 'Observation/XXXX72C4BD70.2015-02-23/_history/2', 'effectivePeriod': '2015-02-23'}]}}</pre>"
      ],
      "text/plain": [
       "<IPython.core.display.HTML object>"
      ]
     },
     "metadata": {},
     "output_type": "display_data"
    }
   ],
   "source": [
    "r = get(f'{ref_server}/$graphql', params = params, headers = headers )\n",
    "Display(HTML(\n",
    "    '<h1>Response</h1>'\n",
    "    f'<h3>Status Code = {r.status_code}</h3>'\n",
    "    f'<pre>{r.json()}</pre>'\n",
    "    ))"
   ]
  },
  {
   "cell_type": "code",
   "execution_count": 12,
   "metadata": {},
   "outputs": [
    {
     "data": {
      "text/html": [
       "<div>\n",
       "<style scoped>\n",
       "    .dataframe tbody tr th:only-of-type {\n",
       "        vertical-align: middle;\n",
       "    }\n",
       "\n",
       "    .dataframe tbody tr th {\n",
       "        vertical-align: top;\n",
       "    }\n",
       "\n",
       "    .dataframe thead th {\n",
       "        text-align: right;\n",
       "    }\n",
       "</style>\n",
       "<table border=\"1\" class=\"dataframe\">\n",
       "  <thead>\n",
       "    <tr style=\"text-align: right;\">\n",
       "      <th></th>\n",
       "      <th>id</th>\n",
       "      <th>code</th>\n",
       "      <th>text</th>\n",
       "      <th>value</th>\n",
       "      <th>unit</th>\n",
       "      <th>effectivePeriod</th>\n",
       "    </tr>\n",
       "  </thead>\n",
       "  <tbody>\n",
       "    <tr>\n",
       "      <th>0</th>\n",
       "      <td>Observation/85922/_history/1</td>\n",
       "      <td>8867-4</td>\n",
       "      <td>Heart rate</td>\n",
       "      <td>44.0</td>\n",
       "      <td>beats/minute</td>\n",
       "      <td>1999-07-02</td>\n",
       "    </tr>\n",
       "    <tr>\n",
       "      <th>1</th>\n",
       "      <td>Observation/251497/_history/1</td>\n",
       "      <td>29463-7</td>\n",
       "      <td>NaN</td>\n",
       "      <td>185.0</td>\n",
       "      <td>lbs</td>\n",
       "      <td>2016-03-28</td>\n",
       "    </tr>\n",
       "    <tr>\n",
       "      <th>2</th>\n",
       "      <td>Observation/251499/_history/1</td>\n",
       "      <td>29463-7</td>\n",
       "      <td>NaN</td>\n",
       "      <td>185.0</td>\n",
       "      <td>lbs</td>\n",
       "      <td>2016-03-28</td>\n",
       "    </tr>\n",
       "    <tr>\n",
       "      <th>3</th>\n",
       "      <td>Observation/251498/_history/1</td>\n",
       "      <td>29463-7</td>\n",
       "      <td>NaN</td>\n",
       "      <td>185.0</td>\n",
       "      <td>lbs</td>\n",
       "      <td>2016-03-28</td>\n",
       "    </tr>\n",
       "    <tr>\n",
       "      <th>4</th>\n",
       "      <td>Observation/251500/_history/1</td>\n",
       "      <td>29463-7</td>\n",
       "      <td>NaN</td>\n",
       "      <td>185.0</td>\n",
       "      <td>lbs</td>\n",
       "      <td>2016-03-28</td>\n",
       "    </tr>\n",
       "  </tbody>\n",
       "</table>\n",
       "</div>"
      ],
      "text/plain": [
       "                              id     code        text  value          unit  \\\n",
       "0   Observation/85922/_history/1   8867-4  Heart rate   44.0  beats/minute   \n",
       "1  Observation/251497/_history/1  29463-7         NaN  185.0           lbs   \n",
       "2  Observation/251499/_history/1  29463-7         NaN  185.0           lbs   \n",
       "3  Observation/251498/_history/1  29463-7         NaN  185.0           lbs   \n",
       "4  Observation/251500/_history/1  29463-7         NaN  185.0           lbs   \n",
       "\n",
       "  effectivePeriod  \n",
       "0      1999-07-02  \n",
       "1      2016-03-28  \n",
       "2      2016-03-28  \n",
       "3      2016-03-28  \n",
       "4      2016-03-28  "
      ]
     },
     "execution_count": 12,
     "metadata": {},
     "output_type": "execute_result"
    }
   ],
   "source": [
    "obs = r.json()['data']['ObservationList']\n",
    "df = DataFrame(obs)\n",
    "df.head()"
   ]
  },
  {
   "cell_type": "code",
   "execution_count": 13,
   "metadata": {},
   "outputs": [
    {
     "data": {
      "text/plain": [
       "id                  object\n",
       "code                object\n",
       "text                object\n",
       "value              float64\n",
       "unit                object\n",
       "effectivePeriod     object\n",
       "dtype: object"
      ]
     },
     "execution_count": 13,
     "metadata": {},
     "output_type": "execute_result"
    }
   ],
   "source": [
    "df.dtypes"
   ]
  },
  {
   "cell_type": "markdown",
   "metadata": {},
   "source": [
    "### Convert effectivePeriod to datetime object"
   ]
  },
  {
   "cell_type": "code",
   "execution_count": 14,
   "metadata": {},
   "outputs": [
    {
     "data": {
      "text/plain": [
       "id                         object\n",
       "code                       object\n",
       "text                       object\n",
       "value                     float64\n",
       "unit                       object\n",
       "effectivePeriod    datetime64[ns]\n",
       "dtype: object"
      ]
     },
     "execution_count": 14,
     "metadata": {},
     "output_type": "execute_result"
    }
   ],
   "source": [
    "df['effectivePeriod'] = to_datetime(df.effectivePeriod)\n",
    "df.dtypes"
   ]
  },
  {
   "cell_type": "markdown",
   "metadata": {},
   "source": [
    "### Plot cumulative values by date"
   ]
  },
  {
   "cell_type": "markdown",
   "metadata": {},
   "source": [
    "#### First list code value by date"
   ]
  },
  {
   "cell_type": "code",
   "execution_count": 15,
   "metadata": {},
   "outputs": [
    {
     "data": {
      "text/html": [
       "<div>\n",
       "<style scoped>\n",
       "    .dataframe tbody tr th:only-of-type {\n",
       "        vertical-align: middle;\n",
       "    }\n",
       "\n",
       "    .dataframe tbody tr th {\n",
       "        vertical-align: top;\n",
       "    }\n",
       "\n",
       "    .dataframe thead th {\n",
       "        text-align: right;\n",
       "    }\n",
       "</style>\n",
       "<table border=\"1\" class=\"dataframe\">\n",
       "  <thead>\n",
       "    <tr style=\"text-align: right;\">\n",
       "      <th></th>\n",
       "      <th>code</th>\n",
       "      <th>value</th>\n",
       "      <th>unit</th>\n",
       "      <th>effectivePeriod</th>\n",
       "    </tr>\n",
       "  </thead>\n",
       "  <tbody>\n",
       "    <tr>\n",
       "      <th>0</th>\n",
       "      <td>8867-4</td>\n",
       "      <td>44.0</td>\n",
       "      <td>beats/minute</td>\n",
       "      <td>1999-07-02</td>\n",
       "    </tr>\n",
       "    <tr>\n",
       "      <th>1</th>\n",
       "      <td>29463-7</td>\n",
       "      <td>185.0</td>\n",
       "      <td>lbs</td>\n",
       "      <td>2016-03-28</td>\n",
       "    </tr>\n",
       "    <tr>\n",
       "      <th>2</th>\n",
       "      <td>29463-7</td>\n",
       "      <td>185.0</td>\n",
       "      <td>lbs</td>\n",
       "      <td>2016-03-28</td>\n",
       "    </tr>\n",
       "    <tr>\n",
       "      <th>3</th>\n",
       "      <td>29463-7</td>\n",
       "      <td>185.0</td>\n",
       "      <td>lbs</td>\n",
       "      <td>2016-03-28</td>\n",
       "    </tr>\n",
       "    <tr>\n",
       "      <th>4</th>\n",
       "      <td>29463-7</td>\n",
       "      <td>185.0</td>\n",
       "      <td>lbs</td>\n",
       "      <td>2016-03-28</td>\n",
       "    </tr>\n",
       "    <tr>\n",
       "      <th>5</th>\n",
       "      <td>29463-7</td>\n",
       "      <td>185.0</td>\n",
       "      <td>lbs</td>\n",
       "      <td>2016-03-28</td>\n",
       "    </tr>\n",
       "    <tr>\n",
       "      <th>6</th>\n",
       "      <td>29463-7</td>\n",
       "      <td>185.0</td>\n",
       "      <td>lbs</td>\n",
       "      <td>2016-03-28</td>\n",
       "    </tr>\n",
       "    <tr>\n",
       "      <th>7</th>\n",
       "      <td>8310-5</td>\n",
       "      <td>36.5</td>\n",
       "      <td>C</td>\n",
       "      <td>1999-07-02</td>\n",
       "    </tr>\n",
       "    <tr>\n",
       "      <th>8</th>\n",
       "      <td>8310-5</td>\n",
       "      <td>36.5</td>\n",
       "      <td>C</td>\n",
       "      <td>1999-07-02</td>\n",
       "    </tr>\n",
       "    <tr>\n",
       "      <th>9</th>\n",
       "      <td>8310-5</td>\n",
       "      <td>36.5</td>\n",
       "      <td>C</td>\n",
       "      <td>1999-07-02</td>\n",
       "    </tr>\n",
       "    <tr>\n",
       "      <th>10</th>\n",
       "      <td>8310-5</td>\n",
       "      <td>36.5</td>\n",
       "      <td>C</td>\n",
       "      <td>1999-07-02</td>\n",
       "    </tr>\n",
       "    <tr>\n",
       "      <th>11</th>\n",
       "      <td>8310-5</td>\n",
       "      <td>40.5</td>\n",
       "      <td>C</td>\n",
       "      <td>1999-07-02</td>\n",
       "    </tr>\n",
       "    <tr>\n",
       "      <th>12</th>\n",
       "      <td>8310-5</td>\n",
       "      <td>36.5</td>\n",
       "      <td>C</td>\n",
       "      <td>1999-07-02</td>\n",
       "    </tr>\n",
       "    <tr>\n",
       "      <th>13</th>\n",
       "      <td>8310-5</td>\n",
       "      <td>36.5</td>\n",
       "      <td>C</td>\n",
       "      <td>1999-07-02</td>\n",
       "    </tr>\n",
       "    <tr>\n",
       "      <th>14</th>\n",
       "      <td>8310-5</td>\n",
       "      <td>36.5</td>\n",
       "      <td>C</td>\n",
       "      <td>1999-07-02</td>\n",
       "    </tr>\n",
       "    <tr>\n",
       "      <th>15</th>\n",
       "      <td>8310-5</td>\n",
       "      <td>36.5</td>\n",
       "      <td>C</td>\n",
       "      <td>1999-07-02</td>\n",
       "    </tr>\n",
       "    <tr>\n",
       "      <th>16</th>\n",
       "      <td>8310-5</td>\n",
       "      <td>40.5</td>\n",
       "      <td>C</td>\n",
       "      <td>1999-07-02</td>\n",
       "    </tr>\n",
       "    <tr>\n",
       "      <th>17</th>\n",
       "      <td>8310-5</td>\n",
       "      <td>40.5</td>\n",
       "      <td>C</td>\n",
       "      <td>1999-07-02</td>\n",
       "    </tr>\n",
       "    <tr>\n",
       "      <th>18</th>\n",
       "      <td>29463-7</td>\n",
       "      <td>NaN</td>\n",
       "      <td>NaN</td>\n",
       "      <td>NaT</td>\n",
       "    </tr>\n",
       "    <tr>\n",
       "      <th>19</th>\n",
       "      <td>29463-7</td>\n",
       "      <td>NaN</td>\n",
       "      <td>NaN</td>\n",
       "      <td>NaT</td>\n",
       "    </tr>\n",
       "    <tr>\n",
       "      <th>20</th>\n",
       "      <td>8310-5</td>\n",
       "      <td>100.0</td>\n",
       "      <td>F</td>\n",
       "      <td>1999-07-02</td>\n",
       "    </tr>\n",
       "    <tr>\n",
       "      <th>21</th>\n",
       "      <td>8867-4</td>\n",
       "      <td>5106.0</td>\n",
       "      <td>beats/minute</td>\n",
       "      <td>1996-07-02</td>\n",
       "    </tr>\n",
       "    <tr>\n",
       "      <th>22</th>\n",
       "      <td>39156-5</td>\n",
       "      <td>16.2</td>\n",
       "      <td>kg/m2</td>\n",
       "      <td>1999-07-02</td>\n",
       "    </tr>\n",
       "    <tr>\n",
       "      <th>23</th>\n",
       "      <td>8867-4</td>\n",
       "      <td>5106.0</td>\n",
       "      <td>beats/minute</td>\n",
       "      <td>1996-07-02</td>\n",
       "    </tr>\n",
       "    <tr>\n",
       "      <th>24</th>\n",
       "      <td>NaN</td>\n",
       "      <td>NaN</td>\n",
       "      <td>NaN</td>\n",
       "      <td>2015-01-07</td>\n",
       "    </tr>\n",
       "    <tr>\n",
       "      <th>25</th>\n",
       "      <td>NaN</td>\n",
       "      <td>NaN</td>\n",
       "      <td>NaN</td>\n",
       "      <td>2015-02-23</td>\n",
       "    </tr>\n",
       "  </tbody>\n",
       "</table>\n",
       "</div>"
      ],
      "text/plain": [
       "       code   value          unit effectivePeriod\n",
       "0    8867-4    44.0  beats/minute      1999-07-02\n",
       "1   29463-7   185.0           lbs      2016-03-28\n",
       "2   29463-7   185.0           lbs      2016-03-28\n",
       "3   29463-7   185.0           lbs      2016-03-28\n",
       "4   29463-7   185.0           lbs      2016-03-28\n",
       "5   29463-7   185.0           lbs      2016-03-28\n",
       "6   29463-7   185.0           lbs      2016-03-28\n",
       "7    8310-5    36.5             C      1999-07-02\n",
       "8    8310-5    36.5             C      1999-07-02\n",
       "9    8310-5    36.5             C      1999-07-02\n",
       "10   8310-5    36.5             C      1999-07-02\n",
       "11   8310-5    40.5             C      1999-07-02\n",
       "12   8310-5    36.5             C      1999-07-02\n",
       "13   8310-5    36.5             C      1999-07-02\n",
       "14   8310-5    36.5             C      1999-07-02\n",
       "15   8310-5    36.5             C      1999-07-02\n",
       "16   8310-5    40.5             C      1999-07-02\n",
       "17   8310-5    40.5             C      1999-07-02\n",
       "18  29463-7     NaN           NaN             NaT\n",
       "19  29463-7     NaN           NaN             NaT\n",
       "20   8310-5   100.0             F      1999-07-02\n",
       "21   8867-4  5106.0  beats/minute      1996-07-02\n",
       "22  39156-5    16.2         kg/m2      1999-07-02\n",
       "23   8867-4  5106.0  beats/minute      1996-07-02\n",
       "24      NaN     NaN           NaN      2015-01-07\n",
       "25      NaN     NaN           NaN      2015-02-23"
      ]
     },
     "execution_count": 15,
     "metadata": {},
     "output_type": "execute_result"
    }
   ],
   "source": [
    "df[['code','value','unit','effectivePeriod']]"
   ]
  },
  {
   "cell_type": "markdown",
   "metadata": {},
   "source": [
    "### Now show cumulative value by date and plot as bar graph\n",
    "\n",
    "- we will ignore normalizing the values to the same units for now"
   ]
  },
  {
   "cell_type": "code",
   "execution_count": 16,
   "metadata": {},
   "outputs": [
    {
     "data": {
      "text/html": [
       "<div>\n",
       "<style scoped>\n",
       "    .dataframe tbody tr th:only-of-type {\n",
       "        vertical-align: middle;\n",
       "    }\n",
       "\n",
       "    .dataframe tbody tr th {\n",
       "        vertical-align: top;\n",
       "    }\n",
       "\n",
       "    .dataframe thead th {\n",
       "        text-align: right;\n",
       "    }\n",
       "</style>\n",
       "<table border=\"1\" class=\"dataframe\">\n",
       "  <thead>\n",
       "    <tr style=\"text-align: right;\">\n",
       "      <th></th>\n",
       "      <th>value</th>\n",
       "    </tr>\n",
       "    <tr>\n",
       "      <th>effectivePeriod</th>\n",
       "      <th></th>\n",
       "    </tr>\n",
       "  </thead>\n",
       "  <tbody>\n",
       "    <tr>\n",
       "      <th>1996-07-02</th>\n",
       "      <td>10212.0</td>\n",
       "    </tr>\n",
       "    <tr>\n",
       "      <th>1999-07-02</th>\n",
       "      <td>573.7</td>\n",
       "    </tr>\n",
       "    <tr>\n",
       "      <th>2016-03-28</th>\n",
       "      <td>1110.0</td>\n",
       "    </tr>\n",
       "  </tbody>\n",
       "</table>\n",
       "</div>"
      ],
      "text/plain": [
       "                   value\n",
       "effectivePeriod         \n",
       "1996-07-02       10212.0\n",
       "1999-07-02         573.7\n",
       "2016-03-28        1110.0"
      ]
     },
     "execution_count": 16,
     "metadata": {},
     "output_type": "execute_result"
    }
   ],
   "source": [
    "cum_results = df.resample('D', on='effectivePeriod').sum()\n",
    "cum_results_1 = cum_results.loc[~(cum_results==0).all(axis=1)]  # show only non-zero values\n",
    "cum_results_1"
   ]
  },
  {
   "cell_type": "code",
   "execution_count": 17,
   "metadata": {},
   "outputs": [],
   "source": [
    "%matplotlib inline"
   ]
  },
  {
   "cell_type": "code",
   "execution_count": 18,
   "metadata": {},
   "outputs": [
    {
     "data": {
      "text/plain": [
       "<matplotlib.axes._subplots.AxesSubplot at 0x115b414a8>"
      ]
     },
     "execution_count": 18,
     "metadata": {},
     "output_type": "execute_result"
    },
    {
     "data": {
      "image/png": "[encoded data removed]",
      "text/plain": [
       "<Figure size 432x288 with 1 Axes>"
      ]
     },
     "metadata": {
      "needs_background": "light"
     },
     "output_type": "display_data"
    }
   ],
   "source": [
    "cum_results_1.plot.bar()"
   ]
  }
 ],
 "metadata": {
  "kernelspec": {
   "display_name": "Python 3",
   "language": "python",
   "name": "python3"
  },
  "language_info": {
   "codemirror_mode": {
    "name": "ipython",
    "version": 3
   },
   "file_extension": ".py",
   "mimetype": "text/x-python",
   "name": "python",
   "nbconvert_exporter": "python",
   "pygments_lexer": "ipython3",
   "version": "3.7.1"
  }
 },
 "nbformat": 4,
 "nbformat_minor": 4
}
