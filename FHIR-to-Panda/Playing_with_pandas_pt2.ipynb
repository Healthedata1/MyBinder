{
 "cells": [
  {
   "cell_type": "markdown",
   "metadata": {},
   "source": [
    "##  Flatten FHIR Observations to Panda Dataframe and do some stats on them\n",
    "\n",
    "1. Fetch a series of FHIR Observations\n",
    "1. Flatten them and create a Panda Dataframe\n",
    "1. Perform several stats operations on them"
   ]
  },
  {
   "cell_type": "code",
   "execution_count": 1,
   "metadata": {},
   "outputs": [],
   "source": [
    "from pathlib import Path \n",
    "from json import dumps,loads\n",
    "from pandas import *\n",
    "from requests import get\n",
    "from IPython.display import display as Display,HTML\n",
    "\n",
    "ref_server ='http://hapi.fhir.org/baseR4'\n",
    "#ref_server ='http://hapi.fhir.org/baseR5'\n",
    "headers = {\n",
    "    'Accept':'application/fhir+json',\n",
    "    'Content-Type':'application/json'\n",
    "    }\n"
   ]
  },
  {
   "cell_type": "markdown",
   "metadata": {},
   "source": [
    "### Using GraphQL with FHIR we can extract and flatten data in dataframes for Pandas\n",
    "\n",
    "See:  http://build.fhir.org/graphql.html\n",
    "\n",
    "for example using the graphql expresssion:\n",
    "`{{url}}/$graphql?query={PatientList{name@flatten@first{text,given@first,family}}}` \n",
    "\n",
    "for the server: http://hapi.fhir.org/baseR4\n",
    "\n",
    "we get the output..."
   ]
  },
  {
   "cell_type": "code",
   "execution_count": 2,
   "metadata": {},
   "outputs": [
    {
     "data": {
      "text/plain": [
       "{'query': '{PatientList{name@flatten@first{text,given@first,family}}}'}"
      ]
     },
     "execution_count": 2,
     "metadata": {},
     "output_type": "execute_result"
    }
   ],
   "source": [
    "params = dict(\n",
    "    query = \"{PatientList{name@flatten@first{text,given@first,family}}}\"\n",
    "    )\n",
    "params"
   ]
  },
  {
   "cell_type": "code",
   "execution_count": 3,
   "metadata": {},
   "outputs": [
    {
     "data": {
      "text/html": [
       "<h1>Response</h1><h3>Status Code = 200</h3><pre>{'data': {'PatientList': [{'given': 'Tricia', 'family': 'Franklin'}, {}, {'given': 'Nombre1', 'family': 'Apellidos'}, {'text': 'Jacqueline Sanders', 'given': 'Jacqueline', 'family': 'Sanders'}, {'text': 'Douglas Fields', 'given': 'Douglas', 'family': 'Fields'}, {'text': 'Janice Nichols', 'given': 'Janice', 'family': 'Nichols'}, {'text': 'Julia Smith', 'given': 'Julia', 'family': 'Smith'}, {'given': 'Tricia', 'family': 'Franklin'}, {'text': 'Stephanie Day', 'given': 'Stephanie', 'family': 'Day'}, {'text': 'Denise Peterson', 'given': 'Denise', 'family': 'Peterson'}, {'text': 'Julie Lopez', 'given': 'Julie', 'family': 'Lopez'}, {'text': 'Wanda Wells', 'given': 'Wanda', 'family': 'Wells'}, {'text': 'Eugene Carter', 'given': 'Eugene', 'family': 'Carter'}, {'text': 'Amy Anderson', 'given': 'Amy', 'family': 'Anderson'}, {'text': 'Ruth Bennett', 'given': 'Ruth', 'family': 'Bennett'}, {'text': 'Patricia Mendoza', 'given': 'Patricia', 'family': 'Mendoza'}, {'text': 'Lillian Myers', 'given': 'Lillian', 'family': 'Myers'}, {'text': 'Ashley Porter', 'given': 'Ashley', 'family': 'Porter'}, {'text': 'Lori Garcia', 'given': 'Lori', 'family': 'Garcia'}, {'given': 'Caleb', 'family': 'Cushing'}, {'text': 'Donald Schmidt', 'given': 'Donald', 'family': 'Schmidt'}, {'text': 'Barbara Hansen', 'given': 'Barbara', 'family': 'Hansen'}, {'text': 'Evelyn Griffin', 'given': 'Evelyn', 'family': 'Griffin'}, {'text': 'Christina Welch', 'given': 'Christina', 'family': 'Welch'}, {'text': 'Stephen Reyes', 'given': 'Stephen', 'family': 'Reyes'}, {'text': 'Carolyn Ryan', 'given': 'Carolyn', 'family': 'Ryan'}, {'text': 'Donna Gordon', 'given': 'Donna', 'family': 'Gordon'}, {'text': 'David Stone', 'given': 'David', 'family': 'Stone'}, {'text': 'Beverly Vasquez', 'given': 'Beverly', 'family': 'Vasquez'}, {'given': 'Bob', 'family': 'Alexander'}, {'text': 'Kathryn Armstrong', 'given': 'Kathryn', 'family': 'Armstrong'}, {'text': 'Ruby Miller', 'given': 'Ruby', 'family': 'Miller'}, {'text': 'Heather Hernandez', 'given': 'Heather', 'family': 'Hernandez'}, {'text': 'Donna Wright', 'given': 'Donna', 'family': 'Wright'}, {'text': 'Irene Stephens', 'given': 'Irene', 'family': 'Stephens'}, {'text': 'Henry Thompson', 'given': 'Henry', 'family': 'Thompson'}, {'text': 'Kathleen Spencer', 'given': 'Kathleen', 'family': 'Spencer'}, {'text': 'Christine Sullivan', 'given': 'Christine', 'family': 'Sullivan'}, {'text': 'Roy Garcia', 'given': 'Roy', 'family': 'Garcia'}, {'text': 'Doris Daniels', 'given': 'Doris', 'family': 'Daniels'}, {'text': 'Dorothy Simpson', 'given': 'Dorothy', 'family': 'Simpson'}, {'given': 'John', 'family': 'Doe'}, {'text': 'Roy Carter', 'given': 'Roy', 'family': 'Carter'}, {'text': 'Tammy Oliver', 'given': 'Tammy', 'family': 'Oliver'}, {'text': 'Patricia Kennedy', 'given': 'Patricia', 'family': 'Kennedy'}, {'text': 'Angela Ward', 'given': 'Angela', 'family': 'Ward'}, {'text': 'Diana Hicks', 'given': 'Diana', 'family': 'Hicks'}, {'text': 'Debra Duncan', 'given': 'Debra', 'family': 'Duncan'}, {'text': 'Clarence Russell', 'given': 'Clarence', 'family': 'Russell'}, {'text': 'Deborah Perry', 'given': 'Deborah', 'family': 'Perry'}, {'text': 'Heather Gonzales', 'given': 'Heather', 'family': 'Gonzales'}, {'given': 'Bob', 'family': 'Alexander'}, {'text': 'Jennifer Perez', 'given': 'Jennifer', 'family': 'Perez'}, {'text': 'Terry Perez', 'given': 'Terry', 'family': 'Perez'}, {'text': 'Clarence Porter', 'given': 'Clarence', 'family': 'Porter'}, {'text': 'Jeremy Franklin', 'given': 'Jeremy', 'family': 'Franklin'}, {'text': 'Mark Weaver', 'given': 'Mark', 'family': 'Weaver'}, {'text': 'Albert Ross', 'given': 'Albert', 'family': 'Ross'}, {'text': 'Ruth Nguyen', 'given': 'Ruth', 'family': 'Nguyen'}, {'text': 'Harold Long', 'given': 'Harold', 'family': 'Long'}, {'text': 'Donna Garrett', 'given': 'Donna', 'family': 'Garrett'}, {'given': 'Bob', 'family': 'Alexander'}, {'given': 'Caleb', 'family': 'Cushing'}, {'text': 'Stephanie Thomas', 'given': 'Stephanie', 'family': 'Thomas'}, {'text': 'Joseph Carr', 'given': 'Joseph', 'family': 'Carr'}, {'text': 'Denise Riley', 'given': 'Denise', 'family': 'Riley'}, {'given': 'Johannes', 'family': 'Rot'}, {'text': 'Timothy Lawson', 'given': 'Timothy', 'family': 'Lawson'}, {'text': 'Roger Burns', 'given': 'Roger', 'family': 'Burns'}, {'text': 'Lisa Arnold', 'given': 'Lisa', 'family': 'Arnold'}, {'text': 'Beverly Cooper', 'given': 'Beverly', 'family': 'Cooper'}, {'text': 'Judy Cox', 'given': 'Judy', 'family': 'Cox'}, {'text': 'Todd Carr', 'given': 'Todd', 'family': 'Carr'}, {'text': 'Joyce Ruiz', 'given': 'Joyce', 'family': 'Ruiz'}, {}, {}, {'text': 'Evelyn Howard', 'given': 'Evelyn', 'family': 'Howard'}, {'text': 'Cheryl Gonzales', 'given': 'Cheryl', 'family': 'Gonzales'}, {'text': 'Jesse Simpson', 'given': 'Jesse', 'family': 'Simpson'}, {'text': 'Jesse Wilson', 'given': 'Jesse', 'family': 'Wilson'}, {'text': 'Louise Lopez', 'given': 'Louise', 'family': 'Lopez'}, {'text': 'Jessica Dunn', 'given': 'Jessica', 'family': 'Dunn'}, {'text': 'Arthur Palmer', 'given': 'Arthur', 'family': 'Palmer'}, {'text': 'Maria Graham', 'given': 'Maria', 'family': 'Graham'}, {'text': 'Angela Robinson', 'given': 'Angela', 'family': 'Robinson'}, {'text': 'Tammy Wheeler', 'given': 'Tammy', 'family': 'Wheeler'}, {'text': 'Jack Reynolds', 'given': 'Jack', 'family': 'Reynolds'}, {'text': 'Roger Mills', 'given': 'Roger', 'family': 'Mills'}, {'text': 'James Reed', 'given': 'James', 'family': 'Reed'}, {'text': 'Betty Vasquez', 'given': 'Betty', 'family': 'Vasquez'}, {}, {'text': 'Ralph Peterson', 'given': 'Ralph', 'family': 'Peterson'}, {'text': 'Mary Wagner', 'given': 'Mary', 'family': 'Wagner'}, {'text': 'Fred Williamson', 'given': 'Fred', 'family': 'Williamson'}, {'text': 'Lisa Hicks', 'given': 'Lisa', 'family': 'Hicks'}, {'text': 'Jessica Simpson', 'given': 'Jessica', 'family': 'Simpson'}, {'text': 'Janet Schmidt', 'given': 'Janet', 'family': 'Schmidt'}, {'given': 'Bob', 'family': 'Alexander'}, {'given': 'Caleb', 'family': 'Cushing'}, {'given': 'Caleb', 'family': 'Cushing'}, {'given': 'Bob', 'family': 'Alexander'}, {'given': 'Caleb', 'family': 'Cushing'}, {'given': 'Bob', 'family': 'Alexander'}, {'given': 'Caleb', 'family': 'Cushing'}, {'given': 'Bob', 'family': 'Alexander'}, {'given': 'Caleb', 'family': 'Cushing'}, {'given': 'Caleb', 'family': 'Cushing'}, {'given': 'Bob', 'family': 'Alexander'}, {'given': 'Caleb', 'family': 'Cushing'}, {'given': 'Bob', 'family': 'Alexander'}, {'given': 'Caleb', 'family': 'Cushing'}, {'given': 'Bob', 'family': 'Alexander'}, {'given': 'Caleb', 'family': 'Cushing'}, {'given': 'Leia', 'family': 'Solo'}, {'given': 'Bob', 'family': 'Alexander'}, {'given': 'Bob', 'family': 'Alexander'}, {'given': 'Caleb', 'family': 'Cushing'}, {'given': 'Kira', 'family': 'Nerys'}, {'given': 'Dorothy', 'family': 'Mayer'}, {'given': 'Dorothy', 'family': 'Mayer'}, {'given': 'Dorothy', 'family': 'Mayer'}, {'given': 'Caleb', 'family': 'Cushing'}, {'given': 'Michael', 'family': 'Bauzon'}, {'given': 'Bob', 'family': 'Alexander'}, {'given': 'Caleb', 'family': 'Cushing'}, {'given': 'Bob', 'family': 'Alexander'}, {'given': 'Caleb', 'family': 'Cushing'}, {'given': 'Bob', 'family': 'Alexander'}, {'given': 'Bob', 'family': 'Alexander'}, {'given': 'Caleb', 'family': 'Cushing'}, {'given': 'Bob', 'family': 'Alexander'}, {'given': 'Caleb', 'family': 'Cushing'}, {'given': 'Bob', 'family': 'Alexander'}, {'given': 'Caleb', 'family': 'Cushing'}, {'given': 'Bob', 'family': 'Alexander'}, {'given': 'Caleb', 'family': 'Cushing'}, {}, {}, {'given': 'Judy Hopps'}, {'given': 'Bob', 'family': 'Alexander'}, {'given': 'Caleb', 'family': 'Cushing'}, {'given': 'Bob', 'family': 'Alexander'}, {'given': 'Caleb', 'family': 'Cushing'}, {'given': 'Bob', 'family': 'Alexander'}, {'given': 'Eric', 'family': 'Landry'}, {'given': 'Eric', 'family': 'Landry'}, {'given': 'testname', 'family': 'LN123'}, {'given': 'Caleb', 'family': 'Cushing'}, {'given': 'Thomas', 'family': 'Müller'}, {'given': 'Bob', 'family': 'Alexander'}, {'given': 'Caleb', 'family': 'Cushing'}, {'given': 'Bob', 'family': 'Alexander'}, {'given': 'Caleb', 'family': 'Cushing'}, {'given': 'Bob', 'family': 'Alexander'}, {'given': 'Bob', 'family': 'Alexander'}, {'given': 'Caleb', 'family': 'Cushing'}, {'given': 'Michael', 'family': 'TEST0000000002'}, {'given': 'Walter', 'family': 'TEST0000000005'}, {'given': 'Susanne', 'family': 'TEST0000000001'}, {'given': 'FN123', 'family': 'LN123'}, {'given': 'Hanako', 'family': 'Yamada'}, {'given': 'Bob', 'family': 'Alexander'}, {'given': 'Caleb', 'family': 'Cushing'}, {}, {'given': 'Bob', 'family': 'Alexander'}, {'given': 'Marcel', 'family': 'CHATAIGNON'}, {'given': 'Caleb', 'family': 'Cushing'}, {}, {'text': 'Monae Johnson', 'given': 'Monae', 'family': 'Johnson'}, {'given': 'Bob', 'family': 'Alexander'}, {}, {'given': 'Caleb', 'family': 'Cushing'}, {'given': 'Bob', 'family': 'Alexander'}, {'given': 'Caleb', 'family': 'Cushing'}, {'given': 'Bob', 'family': 'Alexander'}, {'given': 'Bob', 'family': 'Alexander'}, {'given': 'Caleb', 'family': 'Cushing'}, {'given': 'Bob', 'family': 'Alexander'}, {'given': 'Caleb', 'family': 'Cushing'}, {'given': 'Bob', 'family': 'Alexander'}, {'given': 'Caleb', 'family': 'Cushing'}, {'given': 'Bob', 'family': 'Alexander'}, {'given': 'Bob', 'family': 'Alexander'}, {'given': 'Caleb', 'family': 'Cushing'}, {'given': 'Bob', 'family': 'Alexander'}, {}, {}, {}, {}, {}, {'given': 'David', 'family': 'Ortiz'}, {'family': 'Yamada'}, {'text': 'bbb  aaa', 'given': 'bbb', 'family': 'aaa'}, {'given': 'Caleb', 'family': 'Cushing'}, {'given': 'Janice Samuel'}, {'given': 'Caleb', 'family': 'Cushing'}, {}, {}, {}, {}, {'given': 'Evan454', 'family': 'Abbott509'}, {'given': 'Max', 'family': 'Mustermann'}, {'given': 'Max', 'family': 'Mustermann'}, {'given': 'Max', 'family': 'Mustermann'}, {'given': 'aa', 'family': 'aa'}, {'given': 'Hans', 'family': 'Test'}, {'given': 'Hans', 'family': 'Test'}, {'given': 'Hans', 'family': 'Test'}, {'given': 'aa', 'family': 'aa'}, {'given': 'Kendra', 'family': 'ABCDE'}, {'given': 'Hans', 'family': 'Test'}, {'given': 'Boris', 'family': 'Betterhalf'}, {'given': 'Boris', 'family': 'Betterhalf'}, {'given': 'San', 'family': 'Dela Cruz'}, {}, {'given': 'Amine', 'family': 'SAFI'}, {'given': 'Amine', 'family': 'SAFI'}, {'given': 'Bob', 'family': 'Alexander'}, {'given': 'Bob', 'family': 'Alexander'}, {'given': 'Caleb', 'family': 'Cushing'}, {'given': 'Marcel', 'family': 'Pagnol'}, {'given': 'Bob', 'family': 'Alexander'}, {'given': 'Marcel', 'family': 'Pagnol'}, {'given': 'Caleb', 'family': 'Cushing'}, {'given': 'Bob', 'family': 'Alexander'}, {'given': 'Caleb', 'family': 'Cushing'}, {'given': 'Bob', 'family': 'Alexander'}, {'given': 'Caleb', 'family': 'Cushing'}, {'given': 'Bob', 'family': 'Alexander'}, {'given': 'Caleb', 'family': 'Cushing'}, {}, {'given': 'XYZ', 'family': 'Chalmers'}, {'given': 'Peter', 'family': 'Chalmers'}, {'text': 'Z Doggie', 'given': 'Z', 'family': 'Doggie'}, {'given': 'Bob', 'family': 'Alexander'}, {'given': 'Caleb', 'family': 'Cushing'}, {'given': 'Bob', 'family': 'Alexander'}, {'given': 'Caleb', 'family': 'Cushing'}, {'given': 'Marcel', 'family': 'CHATAIGNON'}, {'text': 'George Winter', 'given': 'George', 'family': 'Winter'}, {'given': 'Caleb', 'family': 'Cushing'}, {'text': 'Ram Naidu', 'given': 'Ram', 'family': 'Naidu'}, {'text': 'James Merce Jim', 'given': 'Peter', 'family': 'Chalmers'}, {'given': 'Jonas', 'family': 'Kanhwald'}, {'text': 'Dorothy Mayer', 'given': 'Dorothy', 'family': 'Mayer'}, {'given': 'Jonas', 'family': 'Kanhwald'}, {'given': 'Jonas', 'family': 'Kanhwald'}, {'given': 'Dinis', 'family': 'Rodrigues'}, {'given': 'Peter', 'family': 'Chalmers'}, {'given': 'Jonas', 'family': 'Kanhwald'}, {'given': 'Jonas', 'family': 'Kanhwald'}, {'given': 'Jonas', 'family': 'Kanhwald'}, {'given': 'Florian', 'family': 'JANELA'}, {'given': 'Juan', 'family': 'Abal Medina'}, {'family': 'SAFI'}, {'family': 'SAFI'}, {'family': 'SAFI'}, {}, {}, {'given': 'Natalia964', 'family': 'Maestas764'}, {'text': 'Dorothy Mayer', 'given': 'Dorothy', 'family': 'Mayer'}, {'given': 'Vi', 'family': 'Tester'}, {'text': 'Daniel Crimson', 'given': 'Daniel', 'family': 'Crimson'}, {'text': 'Elizabeth Green', 'given': 'Elizabeth', 'family': 'Green'}, {'text': 'Frederick Gray', 'given': 'Frederick', 'family': 'Gray'}, {'text': 'Daniel Crimson', 'given': 'Daniel', 'family': 'Crimson'}, {'given': 'Jim', 'family': 'Aarons Jr.'}, {'given': 'Doug H', 'family': 'DeShazo'}, {'given': 'Bar', 'family': 'Foo'}, {'given': 'Dorothy', 'family': 'Mayer'}, {'given': 'Dinis', 'family': 'Rodrigues'}, {'given': 'Dorothy', 'family': 'Mayer'}, {'given': 'Dorothy', 'family': 'Mayer'}, {'given': 'Jason', 'family': 'Binder'}, {'given': 'Dorothy', 'family': 'Mayer'}, {'given': 'Adam', 'family': 'Everyman'}, {'given': 'FN123', 'family': 'LN123'}, {'given': 'Henry', 'family': 'Levin'}, {'given': 'Bob', 'family': 'Abdullah'}, {}, {}, {'given': 'Josephine', 'family': 'La Paradisio'}, {'given': 'Dorothy', 'family': 'Mayer'}, {'given': 'Ahmed', 'family': 'Albarki'}, {'given': 'Booker', 'family': 'Booker'}, {'given': 'Peter', 'family': 'Chalmers'}, {'given': 'Bob', 'family': 'Alexander'}, {'given': 'Jim', 'family': 'Allen'}, {'given': 'Henry', 'family': 'Levin'}, {'given': 'Olivia', 'family': 'Herrera'}, {'given': 'Jack', 'family': 'Ma'}, {'text': 'Jenna James', 'given': 'Jenna', 'family': 'James'}, {'given': 'Bob', 'family': 'Alexander'}, {'given': 'Caleb', 'family': 'Cushing'}, {'given': 'Bob', 'family': 'Alexander'}, {'given': 'Caleb', 'family': 'Cushing'}, {'given': 'Gimmy', 'family': 'Hermann'}, {'given': 'Bob', 'family': 'Alexander'}, {'text': 'TESTLAST2, TESTFIRST2', 'given': 'TESTFIRST2', 'family': 'TESTLAST2'}, {'given': 'Caleb', 'family': 'Cushing'}, {'given': 'Bob', 'family': 'Alexander'}, {'given': 'Caleb', 'family': 'Cushing'}, {}, {'given': 'Allwissende', 'family': 'Muellhalde'}, {'given': 'Bob', 'family': 'Alexander'}, {'given': 'Caleb', 'family': 'Cushing'}, {'given': 'Bob', 'family': 'Alexander'}, {'given': 'Bob', 'family': 'Alexander'}, {'given': 'Caleb', 'family': 'Cushing'}, {'given': 'Bob', 'family': 'Alexander'}, {'given': 'Caleb', 'family': 'Cushing'}, {'given': 'Bob', 'family': 'Alexander'}, {'given': 'Jack', 'family': 'Ma'}, {'given': 'Jack', 'family': 'Ma'}, {'given': 'Henry', 'family': 'Levin'}, {'given': 'Bing Bong'}, {'given': 'Bob', 'family': 'Alexander'}, {'given': 'Justin359', 'family': 'Lakin515'}, {'given': 'Peter', 'family': 'IchDenkeMal'}, {'given': 'Gladagubben', 'family': 'Solstråle'}, {}, {'given': 'Peter', 'family': 'Bond'}, {'given': 'Jack', 'family': 'Ma'}, {'text': 'Xavier Cooper', 'given': 'Xavier', 'family': 'Cooper'}, {'given': 'Bob', 'family': 'Alexander'}, {'given': 'Babette', 'family': 'Jäpölä'}, {'given': 'Bob', 'family': 'Alexander'}, {}, {'text': 'Diaz Martin', 'given': 'Martin', 'family': 'Diaz'}, {'given': 'John Snow'}, {'given': 'Judy Hopps'}, {'text': 'Michael Anderson', 'given': 'Michael', 'family': 'Anderson'}, {'given': 'Juan Pablo Medina'}, {'given': 'Him', 'family': 'Yettie'}, {'given': 'Schofield', 'family': 'Michaeline'}, {'given': 'Bywoods', 'family': 'Freddie'}, {'given': 'Karie', 'family': 'Mina'}, {'given': 'Nari', 'family': 'Evey'}, {'given': 'Gauntlett', 'family': 'Kore'}, {'text': 'Bert Black', 'given': 'Bert', 'family': 'Black'}, {'text': 'Colleen Blue', 'given': 'Colleen', 'family': 'Blue'}, {'text': 'Amy Brown', 'given': 'Amy', 'family': 'Brown'}, {'text': 'Daniel Crimson', 'given': 'Daniel', 'family': 'Crimson'}, {'text': 'Elizabeth Green', 'given': 'Elizabeth', 'family': 'Green'}, {'text': 'Frederick Gray', 'given': 'Frederick', 'family': 'Gray'}, {'text': 'Amy Brown', 'given': 'Amy', 'family': 'Brown'}, {'given': 'Patricio', 'family': 'Sánchez'}, {'given': 'Bob', 'family': 'Alexander'}, {'given': 'Caleb', 'family': 'Cushing'}, {'given': 'shinji', 'family': 'maehara'}, {'given': 'Bob', 'family': 'Alexander'}, {}, {'given': 'Caleb', 'family': 'Cushing'}, {'given': 'Bob', 'family': 'Alexander'}, {'given': 'Caleb', 'family': 'Cushing'}, {'given': 'Bob', 'family': 'Alexander'}, {'given': 'Caleb', 'family': 'Cushing'}, {'given': 'Macomber', 'family': 'Tate'}, {'given': 'Brok', 'family': 'Augustine'}, {'given': 'Jemie', 'family': 'Bria'}, {'given': 'Andie', 'family': 'Julia'}, {'given': 'Bollay', 'family': 'Jacquetta'}, {'given': 'Burrow', 'family': 'Anthea'}, {'given': 'Bob', 'family': 'Alexander'}, {'given': 'Caleb', 'family': 'Cushing'}, {'given': 'Bob', 'family': 'Alexander'}, {'given': 'Caleb', 'family': 'Cushing'}, {'given': 'Bob', 'family': 'Alexander'}, {'given': 'Caleb', 'family': 'Cushing'}, {'given': 'MacFarlane', 'family': 'Deeyn'}, {'given': 'Graner', 'family': 'Garnet'}, {'given': 'Victorine', 'family': 'Penelope'}, {'given': 'Charlie', 'family': 'Petrina'}, {'given': 'Britton', 'family': 'Abra'}, {'given': 'Gurney', 'family': 'Ludovika'}, {'given': 'Benis', 'family': 'Francisca'}, {'text': 'Tina Khan', 'given': 'Tina', 'family': 'Khan'}, {'given': 'Peter', 'family': 'Chalmers'}, {}, {'text': 'Bert Black', 'given': 'Bert', 'family': 'Black'}, {'text': 'Colleen Blue', 'given': 'Colleen', 'family': 'Blue'}, {'text': 'Daniel Crimson', 'given': 'Daniel', 'family': 'Crimson'}, {'text': 'Elizabeth Green', 'given': 'Elizabeth', 'family': 'Green'}, {'text': 'Frederick Gray', 'given': 'Frederick', 'family': 'Gray'}, {'text': 'Amy Brown', 'given': 'Amy', 'family': 'Brown'}, {'text': 'Bert Black', 'given': 'Bert', 'family': 'Black'}, {'text': 'Colleen Blue', 'given': 'Colleen', 'family': 'Blue'}, {'text': 'Daniel Crimson', 'given': 'Daniel', 'family': 'Crimson'}, {}, {'text': 'Elizabeth Green', 'given': 'Elizabeth', 'family': 'Green'}, {'text': 'Frederick Gray', 'given': 'Frederick', 'family': 'Gray'}, {'given': 'Peter', 'family': 'Chalmers'}, {'given': 'Peter', 'family': 'Chalmers'}, {'given': 'Peter', 'family': 'Chalmers'}, {'text': 'Amy Brown', 'given': 'Amy', 'family': 'Brown'}, {'text': 'Bert Black', 'given': 'Bert', 'family': 'Black'}, {'text': 'Colleen Blue', 'given': 'Colleen', 'family': 'Blue'}, {'text': 'Daniel Crimson', 'given': 'Daniel', 'family': 'Crimson'}, {'text': 'Elizabeth Green', 'given': 'Elizabeth', 'family': 'Green'}, {'text': 'Frederick Gray', 'given': 'Frederick', 'family': 'Gray'}, {'given': 'Peter', 'family': 'Chalmers'}, {'text': 'Amy Brown', 'given': 'Amy', 'family': 'Brown'}, {'text': 'Amy Brown', 'given': 'Amy', 'family': 'Brown'}, {'text': 'Bert Black', 'given': 'Bert', 'family': 'Black'}, {'text': 'Colleen Blue', 'given': 'Colleen', 'family': 'Blue'}, {'text': 'Amy Brown', 'given': 'Amy', 'family': 'Brown'}, {'text': 'Bert Black', 'given': 'Bert', 'family': 'Black'}, {'text': 'Colleen Blue', 'given': 'Colleen', 'family': 'Blue'}, {'text': 'Elizabeth Green', 'given': 'Elizabeth', 'family': 'Green'}, {'text': 'Frederick Gray', 'given': 'Frederick', 'family': 'Gray'}, {'text': 'Amy Brown', 'given': 'Amy', 'family': 'Brown'}, {'text': 'Bert Black', 'given': 'Bert', 'family': 'Black'}, {'text': 'Colleen Blue', 'given': 'Colleen', 'family': 'Blue'}, {'text': 'Daniel Crimson', 'given': 'Daniel', 'family': 'Crimson'}, {'text': 'Elizabeth Green', 'given': 'Elizabeth', 'family': 'Green'}, {'text': 'Frederick Gray', 'given': 'Frederick', 'family': 'Gray'}, {'text': 'Amy Brown', 'given': 'Amy', 'family': 'Brown'}, {'text': 'Bert Black', 'given': 'Bert', 'family': 'Black'}, {'text': 'Colleen Blue', 'given': 'Colleen', 'family': 'Blue'}, {'text': 'Daniel Crimson', 'given': 'Daniel', 'family': 'Crimson'}, {'text': 'Elizabeth Green', 'given': 'Elizabeth', 'family': 'Green'}, {'text': 'Frederick Gray', 'given': 'Frederick', 'family': 'Gray'}, {'text': 'Amy Brown', 'given': 'Amy', 'family': 'Brown'}, {'text': 'Bert Black', 'given': 'Bert', 'family': 'Black'}, {'text': 'Colleen Blue', 'given': 'Colleen', 'family': 'Blue'}, {'text': 'Daniel Crimson', 'given': 'Daniel', 'family': 'Crimson'}, {'text': 'Elizabeth Green', 'given': 'Elizabeth', 'family': 'Green'}, {'text': 'Frederick Gray', 'given': 'Frederick', 'family': 'Gray'}, {'text': 'Amy Brown', 'given': 'Amy', 'family': 'Brown'}, {'text': 'Bert Black', 'given': 'Bert', 'family': 'Black'}, {'text': 'Colleen Blue', 'given': 'Colleen', 'family': 'Blue'}, {'text': 'Daniel Crimson', 'given': 'Daniel', 'family': 'Crimson'}, {'text': 'Elizabeth Green', 'given': 'Elizabeth', 'family': 'Green'}, {'text': 'Frederick Gray', 'given': 'Frederick', 'family': 'Gray'}, {'text': 'Amy Brown', 'given': 'Amy', 'family': 'Brown'}, {'text': 'Bert Black', 'given': 'Bert', 'family': 'Black'}, {'text': 'Colleen Blue', 'given': 'Colleen', 'family': 'Blue'}, {'text': 'Daniel Crimson', 'given': 'Daniel', 'family': 'Crimson'}, {'text': 'Elizabeth Green', 'given': 'Elizabeth', 'family': 'Green'}, {'text': 'Frederick Gray', 'given': 'Frederick', 'family': 'Gray'}, {'text': 'Amy Brown', 'given': 'Amy', 'family': 'Brown'}, {'text': 'Bert Black', 'given': 'Bert', 'family': 'Black'}, {'text': 'Colleen Blue', 'given': 'Colleen', 'family': 'Blue'}, {'text': 'Daniel Crimson', 'given': 'Daniel', 'family': 'Crimson'}, {'text': 'Elizabeth Green', 'given': 'Elizabeth', 'family': 'Green'}, {'text': 'Frederick Gray', 'given': 'Frederick', 'family': 'Gray'}, {'text': 'Amy Brown', 'given': 'Amy', 'family': 'Brown'}, {'text': 'Bert Black', 'given': 'Bert', 'family': 'Black'}, {'text': 'Colleen Blue', 'given': 'Colleen', 'family': 'Blue'}, {'text': 'Daniel Crimson', 'given': 'Daniel', 'family': 'Crimson'}, {'text': 'Elizabeth Green', 'given': 'Elizabeth', 'family': 'Green'}, {'text': 'Frederick Gray', 'given': 'Frederick', 'family': 'Gray'}, {'text': 'Amy Brown', 'given': 'Amy', 'family': 'Brown'}, {'text': 'Bert Black', 'given': 'Bert', 'family': 'Black'}, {'text': 'Colleen Blue', 'given': 'Colleen', 'family': 'Blue'}, {'text': 'Daniel Crimson', 'given': 'Daniel', 'family': 'Crimson'}, {'text': 'Elizabeth Green', 'given': 'Elizabeth', 'family': 'Green'}, {'text': 'Frederick Gray', 'given': 'Frederick', 'family': 'Gray'}, {'text': 'Amy Brown', 'given': 'Amy', 'family': 'Brown'}, {'text': 'Madeleine Morris', 'given': 'Madeleine', 'family': 'Morris'}, {'text': 'Amy Brown', 'given': 'Amy', 'family': 'Brown'}, {'text': 'Bert Black', 'given': 'Bert', 'family': 'Black'}, {'text': 'Colleen Blue', 'given': 'Colleen', 'family': 'Blue'}, {'text': 'Daniel Crimson', 'given': 'Daniel', 'family': 'Crimson'}, {'text': 'Elizabeth Green', 'given': 'Elizabeth', 'family': 'Green'}, {'text': 'Frederick Gray', 'given': 'Frederick', 'family': 'Gray'}, {'text': 'Amy Brown', 'given': 'Amy', 'family': 'Brown'}, {'text': 'Bert Black', 'given': 'Bert', 'family': 'Black'}, {'text': 'Colleen Blue', 'given': 'Colleen', 'family': 'Blue'}, {'text': 'Daniel Crimson', 'given': 'Daniel', 'family': 'Crimson'}, {'text': 'Elizabeth Green', 'given': 'Elizabeth', 'family': 'Green'}, {'text': 'Frederick Gray', 'given': 'Frederick', 'family': 'Gray'}, {'text': 'Amy Brown', 'given': 'Amy', 'family': 'Brown'}, {'text': 'Bert Black', 'given': 'Bert', 'family': 'Black'}, {'text': 'Colleen Blue', 'given': 'Colleen', 'family': 'Blue'}, {'text': 'Daniel Crimson', 'given': 'Daniel', 'family': 'Crimson'}, {'text': 'Elizabeth Green', 'given': 'Elizabeth', 'family': 'Green'}, {'text': 'Frederick Gray', 'given': 'Frederick', 'family': 'Gray'}, {'text': 'Amy Brown', 'given': 'Amy', 'family': 'Brown'}, {'text': 'Bert Black', 'given': 'Bert', 'family': 'Black'}, {'text': 'Colleen Blue', 'given': 'Colleen', 'family': 'Blue'}, {'text': 'Daniel Crimson', 'given': 'Daniel', 'family': 'Crimson'}, {'text': 'Elizabeth Green', 'given': 'Elizabeth', 'family': 'Green'}, {'text': 'Frederick Gray', 'given': 'Frederick', 'family': 'Gray'}, {'text': 'Amy Brown', 'given': 'Amy', 'family': 'Brown'}, {'text': 'Bert Black', 'given': 'Bert', 'family': 'Black'}, {'text': 'Colleen Blue', 'given': 'Colleen', 'family': 'Blue'}, {'text': 'Daniel Crimson', 'given': 'Daniel', 'family': 'Crimson'}, {'text': 'Elizabeth Green', 'given': 'Elizabeth', 'family': 'Green'}, {'text': 'Frederick Gray', 'given': 'Frederick', 'family': 'Gray'}, {'text': 'Amy Brown', 'given': 'Amy', 'family': 'Brown'}, {'text': 'Bert Black', 'given': 'Bert', 'family': 'Black'}, {'text': 'Colleen Blue', 'given': 'Colleen', 'family': 'Blue'}, {'text': 'Daniel Crimson', 'given': 'Daniel', 'family': 'Crimson'}, {'text': 'Elizabeth Green', 'given': 'Elizabeth', 'family': 'Green'}, {'text': 'Frederick Gray', 'given': 'Frederick', 'family': 'Gray'}, {'text': 'Amy Brown', 'given': 'Amy', 'family': 'Brown'}, {'text': 'Bert Black', 'given': 'Bert', 'family': 'Black'}, {'text': 'Colleen Blue', 'given': 'Colleen', 'family': 'Blue'}, {'text': 'Daniel Crimson', 'given': 'Daniel', 'family': 'Crimson'}]}}</pre>"
      ],
      "text/plain": [
       "<IPython.core.display.HTML object>"
      ]
     },
     "metadata": {},
     "output_type": "display_data"
    }
   ],
   "source": [
    "r = get(f'{ref_server}/$graphql', params = params, headers = headers )\n",
    "Display(HTML(\n",
    "    '<h1>Response</h1>'\n",
    "    f'<h3>Status Code = {r.status_code}</h3>'\n",
    "    f'<pre>{r.json()}</pre>'\n",
    "    ))"
   ]
  },
  {
   "cell_type": "markdown",
   "metadata": {},
   "source": [
    "## Transform the output into a Pandas DataFrame..."
   ]
  },
  {
   "cell_type": "code",
   "execution_count": 4,
   "metadata": {},
   "outputs": [
    {
     "data": {
      "text/html": [
       "<div>\n",
       "<style scoped>\n",
       "    .dataframe tbody tr th:only-of-type {\n",
       "        vertical-align: middle;\n",
       "    }\n",
       "\n",
       "    .dataframe tbody tr th {\n",
       "        vertical-align: top;\n",
       "    }\n",
       "\n",
       "    .dataframe thead th {\n",
       "        text-align: right;\n",
       "    }\n",
       "</style>\n",
       "<table border=\"1\" class=\"dataframe\">\n",
       "  <thead>\n",
       "    <tr style=\"text-align: right;\">\n",
       "      <th></th>\n",
       "      <th>given</th>\n",
       "      <th>family</th>\n",
       "      <th>text</th>\n",
       "    </tr>\n",
       "  </thead>\n",
       "  <tbody>\n",
       "    <tr>\n",
       "      <th>0</th>\n",
       "      <td>Tricia</td>\n",
       "      <td>Franklin</td>\n",
       "      <td>NaN</td>\n",
       "    </tr>\n",
       "    <tr>\n",
       "      <th>1</th>\n",
       "      <td>NaN</td>\n",
       "      <td>NaN</td>\n",
       "      <td>NaN</td>\n",
       "    </tr>\n",
       "    <tr>\n",
       "      <th>2</th>\n",
       "      <td>Nombre1</td>\n",
       "      <td>Apellidos</td>\n",
       "      <td>NaN</td>\n",
       "    </tr>\n",
       "    <tr>\n",
       "      <th>3</th>\n",
       "      <td>Jacqueline</td>\n",
       "      <td>Sanders</td>\n",
       "      <td>Jacqueline Sanders</td>\n",
       "    </tr>\n",
       "    <tr>\n",
       "      <th>4</th>\n",
       "      <td>Douglas</td>\n",
       "      <td>Fields</td>\n",
       "      <td>Douglas Fields</td>\n",
       "    </tr>\n",
       "  </tbody>\n",
       "</table>\n",
       "</div>"
      ],
      "text/plain": [
       "        given     family                text\n",
       "0      Tricia   Franklin                 NaN\n",
       "1         NaN        NaN                 NaN\n",
       "2     Nombre1  Apellidos                 NaN\n",
       "3  Jacqueline    Sanders  Jacqueline Sanders\n",
       "4     Douglas     Fields      Douglas Fields"
      ]
     },
     "execution_count": 4,
     "metadata": {},
     "output_type": "execute_result"
    }
   ],
   "source": [
    "patients = r.json()['data']['PatientList']\n",
    "df = DataFrame(patients)\n",
    "\n",
    "\n",
    "df.head()"
   ]
  },
  {
   "cell_type": "markdown",
   "metadata": {},
   "source": [
    "### Then you can do all your data analysis..."
   ]
  },
  {
   "cell_type": "code",
   "execution_count": 5,
   "metadata": {},
   "outputs": [
    {
     "data": {
      "text/html": [
       "<div>\n",
       "<style scoped>\n",
       "    .dataframe tbody tr th:only-of-type {\n",
       "        vertical-align: middle;\n",
       "    }\n",
       "\n",
       "    .dataframe tbody tr th {\n",
       "        vertical-align: top;\n",
       "    }\n",
       "\n",
       "    .dataframe thead th {\n",
       "        text-align: right;\n",
       "    }\n",
       "</style>\n",
       "<table border=\"1\" class=\"dataframe\">\n",
       "  <thead>\n",
       "    <tr style=\"text-align: right;\">\n",
       "      <th></th>\n",
       "      <th>given</th>\n",
       "      <th>family</th>\n",
       "      <th>text</th>\n",
       "    </tr>\n",
       "  </thead>\n",
       "  <tbody>\n",
       "    <tr>\n",
       "      <th>count</th>\n",
       "      <td>466</td>\n",
       "      <td>464</td>\n",
       "      <td>224</td>\n",
       "    </tr>\n",
       "    <tr>\n",
       "      <th>unique</th>\n",
       "      <td>155</td>\n",
       "      <td>161</td>\n",
       "      <td>103</td>\n",
       "    </tr>\n",
       "    <tr>\n",
       "      <th>top</th>\n",
       "      <td>Bob</td>\n",
       "      <td>Alexander</td>\n",
       "      <td>Amy Brown</td>\n",
       "    </tr>\n",
       "    <tr>\n",
       "      <th>freq</th>\n",
       "      <td>66</td>\n",
       "      <td>65</td>\n",
       "      <td>23</td>\n",
       "    </tr>\n",
       "  </tbody>\n",
       "</table>\n",
       "</div>"
      ],
      "text/plain": [
       "       given     family       text\n",
       "count    466        464        224\n",
       "unique   155        161        103\n",
       "top      Bob  Alexander  Amy Brown\n",
       "freq      66         65         23"
      ]
     },
     "execution_count": 5,
     "metadata": {},
     "output_type": "execute_result"
    }
   ],
   "source": [
    "df.describe()"
   ]
  },
  {
   "cell_type": "code",
   "execution_count": 6,
   "metadata": {},
   "outputs": [
    {
     "data": {
      "text/plain": [
       "given     object\n",
       "family    object\n",
       "text      object\n",
       "dtype: object"
      ]
     },
     "execution_count": 6,
     "metadata": {},
     "output_type": "execute_result"
    }
   ],
   "source": [
    "df.dtypes"
   ]
  },
  {
   "cell_type": "markdown",
   "metadata": {},
   "source": [
    "### Try doing stats on Step Count Observations\n",
    "\n",
    "- load in step count data using omh on FHIR\n",
    "- retrieve the count and time of observation data  using GraphQL\n",
    "   - elements of interest: \n",
    "        - `{valueQuantity{value}}`\n",
    "        - `{effectivePeriod{end}}`\n",
    "        \n",
    "- convert to a dataframe and do stats on it using Pandas."
   ]
  },
  {
   "cell_type": "code",
   "execution_count": 7,
   "metadata": {},
   "outputs": [
    {
     "data": {
      "text/plain": [
       "{'query': '{ObservationList(subject:example){id,code@flatten{coding@flatten@first{code},text},valueQuantity@flatten{value,unit},effectivePeriod}}'}"
      ]
     },
     "execution_count": 7,
     "metadata": {},
     "output_type": "execute_result"
    }
   ],
   "source": [
    "params = dict(\n",
    "    query = \"{ObservationList(subject:example){\"  #,code{coding{code:foo}}){\"\n",
    "      \"id,\"\n",
    "    \"code@flatten{\"\n",
    "        \"coding@flatten@first{\"\n",
    "            \"code\"\n",
    "        \"},\"\n",
    "        \"text\"\n",
    "        \"},\"\n",
    "  \"valueQuantity@flatten{\"\n",
    "    \"value,unit\"\n",
    "   \"},\"\n",
    "  \"effectivePeriod\"#{\"\n",
    "    #\"start\" #end\"\n",
    "   #\"}\"\n",
    "  \"}\"\n",
    " \"}\"\n",
    "    )\n",
    "params"
   ]
  },
  {
   "cell_type": "code",
   "execution_count": 8,
   "metadata": {},
   "outputs": [
    {
     "data": {
      "text/html": [
       "<h1>Response</h1><h3>Status Code = 200</h3><pre>{'data': {'ObservationList': [{'id': 'Observation/85922/_history/1', 'code': '8867-4', 'text': 'Heart rate', 'value': 44, 'unit': 'beats/minute', 'effectivePeriod': '1999-07-02'}, {'id': 'Observation/251497/_history/1', 'code': '29463-7', 'value': 185, 'unit': 'lbs', 'effectivePeriod': '2016-03-28'}, {'id': 'Observation/251499/_history/1', 'code': '29463-7', 'value': 185, 'unit': 'lbs', 'effectivePeriod': '2016-03-28'}, {'id': 'Observation/251498/_history/1', 'code': '29463-7', 'value': 185, 'unit': 'lbs', 'effectivePeriod': '2016-03-28'}, {'id': 'Observation/251500/_history/1', 'code': '29463-7', 'value': 185, 'unit': 'lbs', 'effectivePeriod': '2016-03-28'}, {'id': 'Observation/251629/_history/1', 'code': '29463-7', 'value': 185, 'unit': 'lbs', 'effectivePeriod': '2016-03-28'}, {'id': 'Observation/251630/_history/1', 'code': '29463-7', 'value': 185, 'unit': 'lbs', 'effectivePeriod': '2016-03-28'}, {'id': 'Observation/587532/_history/1', 'code': '8310-5', 'text': 'Body temperature', 'value': 36.5, 'unit': 'C', 'effectivePeriod': '1999-07-02'}, {'id': 'Observation/587535/_history/1', 'code': '8310-5', 'text': 'Body temperature', 'value': 36.5, 'unit': 'C', 'effectivePeriod': '1999-07-02'}, {'id': 'Observation/587537/_history/1', 'code': '8310-5', 'text': 'Body temperature', 'value': 36.5, 'unit': 'C', 'effectivePeriod': '1999-07-02'}, {'id': 'Observation/587539/_history/1', 'code': '8310-5', 'text': 'Body temperature', 'value': 36.5, 'unit': 'C', 'effectivePeriod': '1999-07-02'}, {'id': 'Observation/587542/_history/1', 'code': '8310-5', 'text': 'Body temperature', 'value': 40.5, 'unit': 'C', 'effectivePeriod': '1999-07-02'}, {'id': 'Observation/587521/_history/1', 'code': '8310-5', 'text': 'Body temperature', 'value': 36.5, 'unit': 'C', 'effectivePeriod': '1999-07-02'}, {'id': 'Observation/587533/_history/1', 'code': '8310-5', 'text': 'Body temperature', 'value': 36.5, 'unit': 'C', 'effectivePeriod': '1999-07-02'}, {'id': 'Observation/587536/_history/1', 'code': '8310-5', 'text': 'Body temperature', 'value': 36.5, 'unit': 'C', 'effectivePeriod': '1999-07-02'}, {'id': 'Observation/587538/_history/1', 'code': '8310-5', 'text': 'Body temperature', 'value': 36.5, 'unit': 'C', 'effectivePeriod': '1999-07-02'}, {'id': 'Observation/587541/_history/1', 'code': '8310-5', 'text': 'Body temperature', 'value': 40.5, 'unit': 'C', 'effectivePeriod': '1999-07-02'}, {'id': 'Observation/587543/_history/1', 'code': '8310-5', 'text': 'Body temperature', 'value': 40.5, 'unit': 'C', 'effectivePeriod': '1999-07-02'}, {'id': 'Observation/597036/_history/2', 'code': '29463-7'}, {'id': 'Observation/597037/_history/2', 'code': '29463-7'}, {'id': 'Observation/624872/_history/1', 'code': '8310-5', 'text': 'Body temperature', 'value': 100, 'unit': 'F', 'effectivePeriod': '1999-07-02'}, {'id': 'Observation/627403/_history/1', 'code': '8867-4', 'text': 'Heart rate', 'value': 5106, 'unit': 'beats/minute', 'effectivePeriod': '1996-07-02'}, {'id': 'Observation/627405/_history/1', 'code': '39156-5', 'text': 'BMI', 'value': 16.2, 'unit': 'kg/m2', 'effectivePeriod': '1999-07-02'}, {'id': 'Observation/627420/_history/1', 'code': '8867-4', 'text': 'Heart rate', 'value': 5106, 'unit': 'beats/minute', 'effectivePeriod': '1996-07-02'}, {'id': 'Observation/XXXX72C4BD70.2015-01-07/_history/1', 'effectivePeriod': '2015-01-07'}, {'id': 'Observation/XXXX72C4BD70.2015-02-23/_history/2', 'effectivePeriod': '2015-02-23'}]}}</pre>"
      ],
      "text/plain": [
       "<IPython.core.display.HTML object>"
      ]
     },
     "metadata": {},
     "output_type": "display_data"
    }
   ],
   "source": [
    "r = get(f'{ref_server}/$graphql', params = params, headers = headers )\n",
    "Display(HTML(\n",
    "    '<h1>Response</h1>'\n",
    "    f'<h3>Status Code = {r.status_code}</h3>'\n",
    "    f'<pre>{r.json()}</pre>'\n",
    "    ))"
   ]
  },
  {
   "cell_type": "code",
   "execution_count": 14,
   "metadata": {},
   "outputs": [
    {
     "data": {
      "text/html": [
       "<div>\n",
       "<style scoped>\n",
       "    .dataframe tbody tr th:only-of-type {\n",
       "        vertical-align: middle;\n",
       "    }\n",
       "\n",
       "    .dataframe tbody tr th {\n",
       "        vertical-align: top;\n",
       "    }\n",
       "\n",
       "    .dataframe thead th {\n",
       "        text-align: right;\n",
       "    }\n",
       "</style>\n",
       "<table border=\"1\" class=\"dataframe\">\n",
       "  <thead>\n",
       "    <tr style=\"text-align: right;\">\n",
       "      <th></th>\n",
       "      <th>id</th>\n",
       "      <th>code</th>\n",
       "      <th>text</th>\n",
       "      <th>value</th>\n",
       "      <th>unit</th>\n",
       "      <th>effectivePeriod</th>\n",
       "    </tr>\n",
       "  </thead>\n",
       "  <tbody>\n",
       "    <tr>\n",
       "      <th>0</th>\n",
       "      <td>Observation/85922/_history/1</td>\n",
       "      <td>8867-4</td>\n",
       "      <td>Heart rate</td>\n",
       "      <td>44.0</td>\n",
       "      <td>beats/minute</td>\n",
       "      <td>1999-07-02</td>\n",
       "    </tr>\n",
       "    <tr>\n",
       "      <th>1</th>\n",
       "      <td>Observation/251497/_history/1</td>\n",
       "      <td>29463-7</td>\n",
       "      <td>NaN</td>\n",
       "      <td>185.0</td>\n",
       "      <td>lbs</td>\n",
       "      <td>2016-03-28</td>\n",
       "    </tr>\n",
       "    <tr>\n",
       "      <th>2</th>\n",
       "      <td>Observation/251499/_history/1</td>\n",
       "      <td>29463-7</td>\n",
       "      <td>NaN</td>\n",
       "      <td>185.0</td>\n",
       "      <td>lbs</td>\n",
       "      <td>2016-03-28</td>\n",
       "    </tr>\n",
       "    <tr>\n",
       "      <th>3</th>\n",
       "      <td>Observation/251498/_history/1</td>\n",
       "      <td>29463-7</td>\n",
       "      <td>NaN</td>\n",
       "      <td>185.0</td>\n",
       "      <td>lbs</td>\n",
       "      <td>2016-03-28</td>\n",
       "    </tr>\n",
       "    <tr>\n",
       "      <th>4</th>\n",
       "      <td>Observation/251500/_history/1</td>\n",
       "      <td>29463-7</td>\n",
       "      <td>NaN</td>\n",
       "      <td>185.0</td>\n",
       "      <td>lbs</td>\n",
       "      <td>2016-03-28</td>\n",
       "    </tr>\n",
       "  </tbody>\n",
       "</table>\n",
       "</div>"
      ],
      "text/plain": [
       "                              id     code        text  value          unit  \\\n",
       "0   Observation/85922/_history/1   8867-4  Heart rate   44.0  beats/minute   \n",
       "1  Observation/251497/_history/1  29463-7         NaN  185.0           lbs   \n",
       "2  Observation/251499/_history/1  29463-7         NaN  185.0           lbs   \n",
       "3  Observation/251498/_history/1  29463-7         NaN  185.0           lbs   \n",
       "4  Observation/251500/_history/1  29463-7         NaN  185.0           lbs   \n",
       "\n",
       "  effectivePeriod  \n",
       "0      1999-07-02  \n",
       "1      2016-03-28  \n",
       "2      2016-03-28  \n",
       "3      2016-03-28  \n",
       "4      2016-03-28  "
      ]
     },
     "execution_count": 14,
     "metadata": {},
     "output_type": "execute_result"
    }
   ],
   "source": [
    "obs = r.json()['data']['ObservationList']\n",
    "df = DataFrame(obs)\n",
    "df.head()"
   ]
  },
  {
   "cell_type": "code",
   "execution_count": 15,
   "metadata": {},
   "outputs": [
    {
     "data": {
      "text/plain": [
       "id                  object\n",
       "code                object\n",
       "text                object\n",
       "value              float64\n",
       "unit                object\n",
       "effectivePeriod     object\n",
       "dtype: object"
      ]
     },
     "execution_count": 15,
     "metadata": {},
     "output_type": "execute_result"
    }
   ],
   "source": [
    "df.dtypes"
   ]
  },
  {
   "cell_type": "markdown",
   "metadata": {},
   "source": [
    "### Convert effectivePeriod to datetime object"
   ]
  },
  {
   "cell_type": "code",
   "execution_count": 16,
   "metadata": {},
   "outputs": [
    {
     "data": {
      "text/plain": [
       "id                         object\n",
       "code                       object\n",
       "text                       object\n",
       "value                     float64\n",
       "unit                       object\n",
       "effectivePeriod    datetime64[ns]\n",
       "dtype: object"
      ]
     },
     "execution_count": 16,
     "metadata": {},
     "output_type": "execute_result"
    }
   ],
   "source": [
    "df['effectivePeriod'] = to_datetime(df.effectivePeriod)\n",
    "df.dtypes"
   ]
  },
  {
   "cell_type": "markdown",
   "metadata": {},
   "source": [
    "### Plot cumulative values by date"
   ]
  },
  {
   "cell_type": "markdown",
   "metadata": {},
   "source": [
    "#### First list code value by date"
   ]
  },
  {
   "cell_type": "code",
   "execution_count": 10,
   "metadata": {},
   "outputs": [
    {
     "ename": "KeyError",
     "evalue": "\"None of [Index(['code', 'value', 'unit', 'effectivePeriod'], dtype='object')] are in the [columns]\"",
     "output_type": "error",
     "traceback": [
      "\u001b[0;31m---------------------------------------------------------------------------\u001b[0m",
      "\u001b[0;31mKeyError\u001b[0m                                  Traceback (most recent call last)",
      "\u001b[0;32m<ipython-input-10-2b7dcb01eb0a>\u001b[0m in \u001b[0;36m<module>\u001b[0;34m\u001b[0m\n\u001b[0;32m----> 1\u001b[0;31m \u001b[0mdf\u001b[0m\u001b[0;34m[\u001b[0m\u001b[0;34m[\u001b[0m\u001b[0;34m'code'\u001b[0m\u001b[0;34m,\u001b[0m\u001b[0;34m'value'\u001b[0m\u001b[0;34m,\u001b[0m\u001b[0;34m'unit'\u001b[0m\u001b[0;34m,\u001b[0m\u001b[0;34m'effectivePeriod'\u001b[0m\u001b[0;34m]\u001b[0m\u001b[0;34m]\u001b[0m\u001b[0;34m.\u001b[0m\u001b[0mhead\u001b[0m\u001b[0;34m\u001b[0m\u001b[0;34m\u001b[0m\u001b[0m\n\u001b[0m",
      "\u001b[0;32m~/Documents/Python/Venv/venv37/lib/python3.7/site-packages/pandas/core/frame.py\u001b[0m in \u001b[0;36m__getitem__\u001b[0;34m(self, key)\u001b[0m\n\u001b[1;32m   2999\u001b[0m             \u001b[0;32mif\u001b[0m \u001b[0mis_iterator\u001b[0m\u001b[0;34m(\u001b[0m\u001b[0mkey\u001b[0m\u001b[0;34m)\u001b[0m\u001b[0;34m:\u001b[0m\u001b[0;34m\u001b[0m\u001b[0;34m\u001b[0m\u001b[0m\n\u001b[1;32m   3000\u001b[0m                 \u001b[0mkey\u001b[0m \u001b[0;34m=\u001b[0m \u001b[0mlist\u001b[0m\u001b[0;34m(\u001b[0m\u001b[0mkey\u001b[0m\u001b[0;34m)\u001b[0m\u001b[0;34m\u001b[0m\u001b[0;34m\u001b[0m\u001b[0m\n\u001b[0;32m-> 3001\u001b[0;31m             \u001b[0mindexer\u001b[0m \u001b[0;34m=\u001b[0m \u001b[0mself\u001b[0m\u001b[0;34m.\u001b[0m\u001b[0mloc\u001b[0m\u001b[0;34m.\u001b[0m\u001b[0m_convert_to_indexer\u001b[0m\u001b[0;34m(\u001b[0m\u001b[0mkey\u001b[0m\u001b[0;34m,\u001b[0m \u001b[0maxis\u001b[0m\u001b[0;34m=\u001b[0m\u001b[0;36m1\u001b[0m\u001b[0;34m,\u001b[0m \u001b[0mraise_missing\u001b[0m\u001b[0;34m=\u001b[0m\u001b[0;32mTrue\u001b[0m\u001b[0;34m)\u001b[0m\u001b[0;34m\u001b[0m\u001b[0;34m\u001b[0m\u001b[0m\n\u001b[0m\u001b[1;32m   3002\u001b[0m \u001b[0;34m\u001b[0m\u001b[0m\n\u001b[1;32m   3003\u001b[0m         \u001b[0;31m# take() does not accept boolean indexers\u001b[0m\u001b[0;34m\u001b[0m\u001b[0;34m\u001b[0m\u001b[0;34m\u001b[0m\u001b[0m\n",
      "\u001b[0;32m~/Documents/Python/Venv/venv37/lib/python3.7/site-packages/pandas/core/indexing.py\u001b[0m in \u001b[0;36m_convert_to_indexer\u001b[0;34m(self, obj, axis, is_setter, raise_missing)\u001b[0m\n\u001b[1;32m   1283\u001b[0m                 \u001b[0;31m# When setting, missing keys are not allowed, even with .loc:\u001b[0m\u001b[0;34m\u001b[0m\u001b[0;34m\u001b[0m\u001b[0;34m\u001b[0m\u001b[0m\n\u001b[1;32m   1284\u001b[0m                 \u001b[0mkwargs\u001b[0m \u001b[0;34m=\u001b[0m \u001b[0;34m{\u001b[0m\u001b[0;34m\"raise_missing\"\u001b[0m\u001b[0;34m:\u001b[0m \u001b[0;32mTrue\u001b[0m \u001b[0;32mif\u001b[0m \u001b[0mis_setter\u001b[0m \u001b[0;32melse\u001b[0m \u001b[0mraise_missing\u001b[0m\u001b[0;34m}\u001b[0m\u001b[0;34m\u001b[0m\u001b[0;34m\u001b[0m\u001b[0m\n\u001b[0;32m-> 1285\u001b[0;31m                 \u001b[0;32mreturn\u001b[0m \u001b[0mself\u001b[0m\u001b[0;34m.\u001b[0m\u001b[0m_get_listlike_indexer\u001b[0m\u001b[0;34m(\u001b[0m\u001b[0mobj\u001b[0m\u001b[0;34m,\u001b[0m \u001b[0maxis\u001b[0m\u001b[0;34m,\u001b[0m \u001b[0;34m**\u001b[0m\u001b[0mkwargs\u001b[0m\u001b[0;34m)\u001b[0m\u001b[0;34m[\u001b[0m\u001b[0;36m1\u001b[0m\u001b[0;34m]\u001b[0m\u001b[0;34m\u001b[0m\u001b[0;34m\u001b[0m\u001b[0m\n\u001b[0m\u001b[1;32m   1286\u001b[0m         \u001b[0;32melse\u001b[0m\u001b[0;34m:\u001b[0m\u001b[0;34m\u001b[0m\u001b[0;34m\u001b[0m\u001b[0m\n\u001b[1;32m   1287\u001b[0m             \u001b[0;32mtry\u001b[0m\u001b[0;34m:\u001b[0m\u001b[0;34m\u001b[0m\u001b[0;34m\u001b[0m\u001b[0m\n",
      "\u001b[0;32m~/Documents/Python/Venv/venv37/lib/python3.7/site-packages/pandas/core/indexing.py\u001b[0m in \u001b[0;36m_get_listlike_indexer\u001b[0;34m(self, key, axis, raise_missing)\u001b[0m\n\u001b[1;32m   1090\u001b[0m \u001b[0;34m\u001b[0m\u001b[0m\n\u001b[1;32m   1091\u001b[0m         self._validate_read_indexer(\n\u001b[0;32m-> 1092\u001b[0;31m             \u001b[0mkeyarr\u001b[0m\u001b[0;34m,\u001b[0m \u001b[0mindexer\u001b[0m\u001b[0;34m,\u001b[0m \u001b[0mo\u001b[0m\u001b[0;34m.\u001b[0m\u001b[0m_get_axis_number\u001b[0m\u001b[0;34m(\u001b[0m\u001b[0maxis\u001b[0m\u001b[0;34m)\u001b[0m\u001b[0;34m,\u001b[0m \u001b[0mraise_missing\u001b[0m\u001b[0;34m=\u001b[0m\u001b[0mraise_missing\u001b[0m\u001b[0;34m\u001b[0m\u001b[0;34m\u001b[0m\u001b[0m\n\u001b[0m\u001b[1;32m   1093\u001b[0m         )\n\u001b[1;32m   1094\u001b[0m         \u001b[0;32mreturn\u001b[0m \u001b[0mkeyarr\u001b[0m\u001b[0;34m,\u001b[0m \u001b[0mindexer\u001b[0m\u001b[0;34m\u001b[0m\u001b[0;34m\u001b[0m\u001b[0m\n",
      "\u001b[0;32m~/Documents/Python/Venv/venv37/lib/python3.7/site-packages/pandas/core/indexing.py\u001b[0m in \u001b[0;36m_validate_read_indexer\u001b[0;34m(self, key, indexer, axis, raise_missing)\u001b[0m\n\u001b[1;32m   1175\u001b[0m                 raise KeyError(\n\u001b[1;32m   1176\u001b[0m                     \"None of [{key}] are in the [{axis}]\".format(\n\u001b[0;32m-> 1177\u001b[0;31m                         \u001b[0mkey\u001b[0m\u001b[0;34m=\u001b[0m\u001b[0mkey\u001b[0m\u001b[0;34m,\u001b[0m \u001b[0maxis\u001b[0m\u001b[0;34m=\u001b[0m\u001b[0mself\u001b[0m\u001b[0;34m.\u001b[0m\u001b[0mobj\u001b[0m\u001b[0;34m.\u001b[0m\u001b[0m_get_axis_name\u001b[0m\u001b[0;34m(\u001b[0m\u001b[0maxis\u001b[0m\u001b[0;34m)\u001b[0m\u001b[0;34m\u001b[0m\u001b[0;34m\u001b[0m\u001b[0m\n\u001b[0m\u001b[1;32m   1178\u001b[0m                     )\n\u001b[1;32m   1179\u001b[0m                 )\n",
      "\u001b[0;31mKeyError\u001b[0m: \"None of [Index(['code', 'value', 'unit', 'effectivePeriod'], dtype='object')] are in the [columns]\""
     ]
    }
   ],
   "source": [
    "df[['code','value','unit','effectivePeriod']].he"
   ]
  },
  {
   "cell_type": "markdown",
   "metadata": {},
   "source": [
    "### Now show cumulative value by date and plot as bar graph\n",
    "\n",
    "- we will ignore normalizing the values to the same units for now"
   ]
  },
  {
   "cell_type": "code",
   "execution_count": 18,
   "metadata": {},
   "outputs": [
    {
     "data": {
      "text/html": [
       "<div>\n",
       "<style scoped>\n",
       "    .dataframe tbody tr th:only-of-type {\n",
       "        vertical-align: middle;\n",
       "    }\n",
       "\n",
       "    .dataframe tbody tr th {\n",
       "        vertical-align: top;\n",
       "    }\n",
       "\n",
       "    .dataframe thead th {\n",
       "        text-align: right;\n",
       "    }\n",
       "</style>\n",
       "<table border=\"1\" class=\"dataframe\">\n",
       "  <thead>\n",
       "    <tr style=\"text-align: right;\">\n",
       "      <th></th>\n",
       "      <th>value</th>\n",
       "    </tr>\n",
       "    <tr>\n",
       "      <th>effectivePeriod</th>\n",
       "      <th></th>\n",
       "    </tr>\n",
       "  </thead>\n",
       "  <tbody>\n",
       "    <tr>\n",
       "      <th>1996-07-02</th>\n",
       "      <td>10212.0</td>\n",
       "    </tr>\n",
       "    <tr>\n",
       "      <th>1999-07-02</th>\n",
       "      <td>573.7</td>\n",
       "    </tr>\n",
       "    <tr>\n",
       "      <th>2016-03-28</th>\n",
       "      <td>1110.0</td>\n",
       "    </tr>\n",
       "  </tbody>\n",
       "</table>\n",
       "</div>"
      ],
      "text/plain": [
       "                   value\n",
       "effectivePeriod         \n",
       "1996-07-02       10212.0\n",
       "1999-07-02         573.7\n",
       "2016-03-28        1110.0"
      ]
     },
     "execution_count": 18,
     "metadata": {},
     "output_type": "execute_result"
    }
   ],
   "source": [
    "cum_results = df.resample('D', on='effectivePeriod').sum()\n",
    "cum_results_1 = cum_results.loc[~(cum_results==0).all(axis=1)]  # show only non-zero values\n",
    "cum_results_1"
   ]
  },
  {
   "cell_type": "code",
   "execution_count": 19,
   "metadata": {},
   "outputs": [],
   "source": [
    "%matplotlib inline"
   ]
  },
  {
   "cell_type": "code",
   "execution_count": 20,
   "metadata": {},
   "outputs": [
    {
     "data": {
      "text/plain": [
       "<matplotlib.axes._subplots.AxesSubplot at 0x1192e41d0>"
      ]
     },
     "execution_count": 20,
     "metadata": {},
     "output_type": "execute_result"
    },
    {
     "data": {
      "image/png": "[encoded data removed]",
      "text/plain": [
       "<Figure size 432x288 with 1 Axes>"
      ]
     },
     "metadata": {
      "needs_background": "light"
     },
     "output_type": "display_data"
    }
   ],
   "source": [
    "cum_results_1.plot.bar()"
   ]
  },
  {
   "cell_type": "code",
   "execution_count": null,
   "metadata": {},
   "outputs": [],
   "source": []
  }
 ],
 "metadata": {
  "kernelspec": {
   "display_name": "Python 3",
   "language": "python",
   "name": "python3"
  },
  "language_info": {
   "codemirror_mode": {
    "name": "ipython",
    "version": 3
   },
   "file_extension": ".py",
   "mimetype": "text/x-python",
   "name": "python",
   "nbconvert_exporter": "python",
   "pygments_lexer": "ipython3",
   "version": "3.7.3"
  }
 },
 "nbformat": 4,
 "nbformat_minor": 4
}
