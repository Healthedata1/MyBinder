{
 "cells": [
  {
   "cell_type": "markdown",
   "metadata": {},
   "source": [
    "## generate narrative from resource"
   ]
  },
  {
   "cell_type": "markdown",
   "metadata": {},
   "source": [
    "### import modules"
   ]
  },
  {
   "cell_type": "code",
   "execution_count": null,
   "metadata": {},
   "outputs": [],
   "source": [
    "import os, sys\n",
    "module_path = os.path.abspath(os.path.join('..'))\n",
    "if module_path not in sys.path:\n",
    "    sys.path.append(module_path)\n",
    "# This allows you to import the desired function from the module hierarchy:\n",
    "from fhirclient.r4models.fhirabstractbase import FHIRValidationError\n",
    "from fhirclient.r4models import capabilitystatement as CS\n",
    "from fhirclient.r4models import narrative as N\n",
    "from fhirclient.r4models import meta as M\n",
    "import fhirclient.r4models.fhirdate as D\n",
    "from json import dumps, loads, load, JSONDecodeError\n",
    "from datetime import datetime, date\n",
    "from requests import get, post, put\n",
    "from pathlib import Path\n",
    "from IPython.display import display as Display, HTML, Markdown\n",
    "from pprint import pprint\n",
    "from collections import namedtuple\n",
    "from jinja2 import Environment, FileSystemLoader, select_autoescape\n",
    "from stringcase import snakecase, titlecase\n",
    "from itertools import zip_longest\n",
    "from commonmark import commonmark\n",
    "from lxml import etree\n",
    "import tarfile"
   ]
  },
  {
   "cell_type": "markdown",
   "metadata": {},
   "source": [
    "## Functions"
   ]
  },
  {
   "cell_type": "markdown",
   "metadata": {},
   "source": [
    "### Save updated CS to local dir"
   ]
  },
  {
   "cell_type": "code",
   "execution_count": null,
   "metadata": {},
   "outputs": [],
   "source": [
    "def save_me(cs_py):\n",
    "    ig_source_path = ''\n",
    "    #save in ig_source folder\n",
    "    path = Path.cwd() / ig_source_path / 'resources' / f'capabilitystatement-{cs_py.id.lower()}.json'\n",
    "    print(f'...........saving to file {path}............')\n",
    "    path.write_text(dumps(cs_py.as_json(), indent=4))"
   ]
  },
  {
   "cell_type": "markdown",
   "metadata": {},
   "source": [
    "### Get spec_internals from package file from local directory and return as dict"
   ]
  },
  {
   "cell_type": "code",
   "execution_count": null,
   "metadata": {},
   "outputs": [],
   "source": [
    "def get_si(tar_file):\n",
    "    print(path)\n",
    "    with tarfile.open(tar_file, mode='r') as tf:\n",
    "        #pprint(tf.getnames())\n",
    "        f = tf.extractfile('package/other/spec.internals')\n",
    "        r = f.read()\n",
    "        return(loads(r))"
   ]
  },
  {
   "cell_type": "markdown",
   "metadata": {},
   "source": [
    "### Get Name/Title from resource"
   ]
  },
  {
   "cell_type": "code",
   "execution_count": null,
   "metadata": {},
   "outputs": [],
   "source": [
    "def get_name_map(p_file,r_dict):\n",
    "    try:\n",
    "        k = r_dict['url']\n",
    "        v = r_dict['title']\n",
    "        return({k:v})\n",
    "    except KeyError:\n",
    "        try:\n",
    "            k = r_dict['url']\n",
    "            v = r_dict['name']\n",
    "            return({k:v})\n",
    "        except KeyError: # not a conf resource\n",
    "            print(f'****{p_file} is not a conf resource***')   "
   ]
  },
  {
   "cell_type": "markdown",
   "metadata": {},
   "source": [
    "### Get SP/Type from resource"
   ]
  },
  {
   "cell_type": "code",
   "execution_count": null,
   "metadata": {},
   "outputs": [],
   "source": [
    "def get_sp_map(p_file,r_dict):\n",
    "    try:\n",
    "        if r_dict[\"resourceType\"]=='SearchParameter':\n",
    "            k = r_dict['code']\n",
    "            v = r_dict['type']\n",
    "            print(r_dict['type'])\n",
    "            return({k:v})\n",
    "    except KeyError:\n",
    "        print(f'{p_file} has no resourceType or code or type')    "
   ]
  },
  {
   "cell_type": "markdown",
   "metadata": {},
   "source": [
    "### Get CS"
   ]
  },
  {
   "cell_type": "code",
   "execution_count": null,
   "metadata": {},
   "outputs": [],
   "source": [
    "def get_cs_map(p_file,r_dict):\n",
    "    try:\n",
    "        if r_dict[\"resourceType\"]=='CapabilityStatement':\n",
    "            k = p_file.split('/')[-1]\n",
    "            v = r_dict\n",
    "            return({k:v})\n",
    "    except KeyError:\n",
    "        print(f'{p_file} has no resourceType')    "
   ]
  },
  {
   "cell_type": "markdown",
   "metadata": {},
   "source": [
    "### Get package files and map based on type"
   ]
  },
  {
   "cell_type": "code",
   "execution_count": null,
   "metadata": {},
   "outputs": [],
   "source": [
    "def get_my_map(tar_file,map_type):\n",
    "    print(path)\n",
    "    my_map = {}\n",
    "    with tarfile.open(tar_file, mode='r') as tf:\n",
    "        for p_file in tf.getnames():\n",
    "            #print(p_file)\n",
    "            f = tf.extractfile(p_file)\n",
    "            r = f.read()\n",
    "            #print(type(r))\n",
    "            try:\n",
    "                r_dict = loads(r)\n",
    "            except JSONDecodeError: # not a json file\n",
    "                continue\n",
    "            if map_type == 'name_map':\n",
    "                try:\n",
    "                    my_map.update(get_name_map(p_file,r_dict))\n",
    "                except TypeError:\n",
    "                    pass\n",
    "            elif map_type == 'sp_map':\n",
    "                try:\n",
    "                    my_map.update(get_sp_map(p_file,r_dict)) \n",
    "                except TypeError:\n",
    "                    pass\n",
    "            elif map_type == 'cs_map':\n",
    "                try:\n",
    "                    my_map.update(get_cs_map(p_file,r_dict)) \n",
    "                except TypeError:\n",
    "                    pass\n",
    "    return(my_map)"
   ]
  },
  {
   "cell_type": "markdown",
   "metadata": {},
   "source": [
    "## Fetch package file\n",
    "- Get spec_internal from package a json file which includes canonical to local relative page links\n",
    "\n",
    "(todo add a graphic to show where to find this file - could eliminate above step too...)"
   ]
  },
  {
   "cell_type": "code",
   "execution_count": null,
   "metadata": {},
   "outputs": [],
   "source": [
    "ig_package = input(\"Get NPM package url from the IG Publication (Version) History page:\")"
   ]
  },
  {
   "cell_type": "markdown",
   "metadata": {},
   "source": [
    "### Fetch package file from url and save to local file"
   ]
  },
  {
   "cell_type": "code",
   "execution_count": null,
   "metadata": {},
   "outputs": [],
   "source": [
    "r = get(ig_package)\n",
    "print(f'HTTP Status: {r.status_code}')\n",
    "path = Path.cwd() /  'cs_source_file/package.tgz'\n",
    "print(f'saving to: {path}')\n",
    "path.write_bytes(r.content)"
   ]
  },
  {
   "cell_type": "markdown",
   "metadata": {},
   "source": [
    "### Get spec internals from package file and create a list"
   ]
  },
  {
   "cell_type": "code",
   "execution_count": null,
   "metadata": {},
   "outputs": [],
   "source": [
    "si = get_si(path)\n",
    "       \n",
    "path_map = si['paths']\n",
    "path_map"
   ]
  },
  {
   "cell_type": "markdown",
   "metadata": {},
   "source": [
    "### Get URL:Name/Title mapping from package file"
   ]
  },
  {
   "cell_type": "code",
   "execution_count": null,
   "metadata": {},
   "outputs": [],
   "source": [
    "name_map = get_my_map(path,map_type='name_map')\n",
    "name_map   "
   ]
  },
  {
   "cell_type": "markdown",
   "metadata": {},
   "source": [
    "### Get SearchParameter parameter name: type mapping from package file"
   ]
  },
  {
   "cell_type": "code",
   "execution_count": null,
   "metadata": {},
   "outputs": [],
   "source": [
    "sp_map = get_my_map(path,map_type='sp_map')\n",
    "sp_map"
   ]
  },
  {
   "cell_type": "markdown",
   "metadata": {},
   "source": [
    "## Get CapStatements from package and iterate through and create narratives"
   ]
  },
  {
   "cell_type": "markdown",
   "metadata": {},
   "source": [
    "### Get CapStatements as dict name = name of file, value = resource"
   ]
  },
  {
   "cell_type": "code",
   "execution_count": null,
   "metadata": {},
   "outputs": [],
   "source": [
    "cs_dict = get_my_map(path,map_type='cs_map')\n",
    "cs_dict"
   ]
  },
  {
   "cell_type": "markdown",
   "metadata": {},
   "source": [
    "### iterate through the dictionary of CapabilityStatements render using Jinja2 templates and save the files"
   ]
  },
  {
   "cell_type": "code",
   "execution_count": null,
   "metadata": {},
   "outputs": [],
   "source": [
    "in_path = ''\n",
    "in_file = 'R4capabilitystatement-server.j2'\n",
    "\n",
    "def markdown(text, *args, **kwargs):\n",
    "    return commonmark(text, *args, **kwargs)\n",
    "\n",
    "env = Environment(\n",
    "    loader=FileSystemLoader(searchpath = in_path),\n",
    "    autoescape=select_autoescape(['html','xml','xhtml','j2','md'])\n",
    "    )\n",
    "\n",
    "env.filters['markdown'] = markdown\n",
    "\n",
    "template = env.get_template(in_file)\n",
    "\n",
    "for k,v in cs_dict.items():\n",
    "    cs_py = CS.CapabilityStatement(v) # create CS instance\n",
    "    rendered = template.render(cs=cs_py,\n",
    "                               path_map=path_map,\n",
    "                               pname_map=name_map,\n",
    "                               sp_map=sp_map )\n",
    "\n",
    "    display(HTML(rendered))\n",
    "\n",
    "    parser = etree.XMLParser(remove_blank_text=True)\n",
    "    root = etree.fromstring(rendered, parser=parser)\n",
    "\n",
    "    div = (etree.tostring(root[1][0], encoding='unicode', method='html'))\n",
    "    narr = N.Narrative()\n",
    "    meta = M.Meta()\n",
    "    meta.lastUpdated = D.FHIRDate(str(date.today()))\n",
    "    cs_py.meta = meta\n",
    "    print(cs_py.meta.as_json())\n",
    "    narr.status = 'generated'\n",
    "    narr.div = div\n",
    "    cs_py.text = narr\n",
    "    \n",
    "\n",
    "\n",
    "    #print(dumps(cs.as_json(),indent=3))\n",
    "    #validate_me(cs_py)\n",
    "    save_me(cs_py)"
   ]
  }
 ],
 "metadata": {
  "kernelspec": {
   "display_name": "Python 3",
   "language": "python",
   "name": "python3"
  },
  "language_info": {
   "codemirror_mode": {
    "name": "ipython",
    "version": 3
   },
   "file_extension": ".py",
   "mimetype": "text/x-python",
   "name": "python",
   "nbconvert_exporter": "python",
   "pygments_lexer": "ipython3",
   "version": "3.7.3"
  }
 },
 "nbformat": 4,
 "nbformat_minor": 4
}
