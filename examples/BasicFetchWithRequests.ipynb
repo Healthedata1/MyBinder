{
 "cells": [
  {
   "cell_type": "markdown",
   "metadata": {},
   "source": [
    "# Basic FHIR Restful API Using Python Requests Library"
   ]
  },
  {
   "cell_type": "code",
   "execution_count": 9,
   "metadata": {},
   "outputs": [],
   "source": [
    "from requests import get,post\n",
    "from json import loads, dumps\n",
    "from IPython.display import display, HTML, Markdown\n",
    "\n",
    "ref_server = 'http://fhir.hl7fundamentals.org/r4'\n",
    "r_type ='Patient'\n",
    "r_id = '17120'\n",
    "headers = {\n",
    "    'Accept':'application/fhir+json',\n",
    "    'Content-Type':'application/fhir+json'\n",
    "    }"
   ]
  },
  {
   "cell_type": "markdown",
   "metadata": {},
   "source": [
    "## Fetch a resource"
   ]
  },
  {
   "cell_type": "code",
   "execution_count": 23,
   "metadata": {},
   "outputs": [
    {
     "name": "stdout",
     "output_type": "stream",
     "text": [
      "fetching FHIR Patient with id = 17120 from http://fhir.hl7fundamentals.org/r4...\n"
     ]
    },
    {
     "data": {
      "text/html": [
       "<h1>Validation output</h1><h3>Status Code = 200</h3><strong>Narrative:</strong>\n",
       " <div xmlns=\"http://www.w3.org/1999/xhtml\"> \n",
       "                        FERCAM Id # 19282 \n",
       "                    </div><br /><strong>Raw JSON:</strong>\n",
       "<pre>{\n",
       "    \"resourceType\": \"Patient\",\n",
       "    \"id\": \"17120\",\n",
       "    \"meta\": {\n",
       "        \"versionId\": \"22\",\n",
       "        \"lastUpdated\": \"2020-07-31T03:55:59.144+00:00\"\n",
       "    },\n",
       "    \"text\": {\n",
       "        \"status\": \"generated\",\n",
       "        \"div\": \"<div xmlns=\\\"http://www.w3.org/1999/xhtml\\\"> \\n                        FERCAM Id # 19282 \\n                    </div>\"\n",
       "    },\n",
       "    \"identifier\": [\n",
       "        {\n",
       "            \"system\": \"https://www.hospitalitaliano.org.ar/Patient\",\n",
       "            \"value\": \"123456\"\n",
       "        }\n",
       "    ],\n",
       "    \"name\": [\n",
       "        {\n",
       "            \"family\": \"Campos_new\",\n",
       "            \"given\": [\n",
       "                \"Fernando_new\"\n",
       "            ]\n",
       "        }\n",
       "    ],\n",
       "    \"address\": [\n",
       "        {\n",
       "            \"line\": [\n",
       "                \"1111 Glucose\"\n",
       "            ],\n",
       "            \"city\": \"Ann Arbor\",\n",
       "            \"state\": \"MichiganWest\",\n",
       "            \"country\": \"USA\"\n",
       "        }\n",
       "    ],\n",
       "    \"managingOrganization\": {\n",
       "        \"reference\": \"Organization/2\"\n",
       "    }\n",
       "}</pre>"
      ],
      "text/plain": [
       "<IPython.core.display.HTML object>"
      ]
     },
     "metadata": {},
     "output_type": "display_data"
    }
   ],
   "source": [
    "def fetch_me(r_type, r_id):\n",
    "    print(f'fetching FHIR {r_type} with id = {r_id} from {ref_server}...')\n",
    "    r = get(f'{ref_server}/{r_type}/{r_id}', headers = headers)\n",
    "    display(HTML(\n",
    "        '<h1>Validation output</h1>'\n",
    "        f'<h3>Status Code = {r.status_code}</h3>'\n",
    "        f'<strong>Narrative:</strong>\\n {r.json()[\"text\"][\"div\"]}<br />'\n",
    "        f'<strong>Raw JSON:</strong>\\n<pre>{dumps(r.json(),indent=4)}</pre>'\n",
    "        ))\n",
    "fetch_me(r_type, r_id)        "
   ]
  },
  {
   "cell_type": "code",
   "execution_count": null,
   "metadata": {},
   "outputs": [],
   "source": []
  }
 ],
 "metadata": {
  "kernelspec": {
   "display_name": "Python 3.7.3 64-bit ('venv37': venv)",
   "language": "python",
   "name": "python37364bitvenv37venv2b400d68decb43d5b2206c004a019450"
  },
  "language_info": {
   "codemirror_mode": {
    "name": "ipython",
    "version": 3
   },
   "file_extension": ".py",
   "mimetype": "text/x-python",
   "name": "python",
   "nbconvert_exporter": "python",
   "pygments_lexer": "ipython3",
   "version": "3.7.3"
  }
 },
 "nbformat": 4,
 "nbformat_minor": 4
}
